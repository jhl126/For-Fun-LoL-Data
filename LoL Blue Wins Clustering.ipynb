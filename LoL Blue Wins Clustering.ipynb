{
 "cells": [
  {
   "cell_type": "code",
   "execution_count": 49,
   "metadata": {},
   "outputs": [
    {
     "data": {
      "application/javascript": [
       "\n",
       "            setTimeout(function() {\n",
       "                var nbb_cell_id = 49;\n",
       "                var nbb_unformatted_code = \"%reload_ext nb_black\\n\\nimport pandas as pd\\nimport numpy as np\\nimport seaborn as sns\\nimport matplotlib.pyplot as plt\\n\\nfrom sklearn import metrics\\n\\nfrom sklearn.preprocessing import StandardScaler\\nfrom sklearn.decomposition import PCA\\n\\nfrom sklearn.cluster import (\\n    KMeans,\\n    DBSCAN,\\n    AgglomerativeClustering,\\n)\\nfrom sklearn.mixture import GaussianMixture\";\n",
       "                var nbb_formatted_code = \"%reload_ext nb_black\\n\\nimport pandas as pd\\nimport numpy as np\\nimport seaborn as sns\\nimport matplotlib.pyplot as plt\\n\\nfrom sklearn import metrics\\n\\nfrom sklearn.preprocessing import StandardScaler\\nfrom sklearn.decomposition import PCA\\n\\nfrom sklearn.cluster import (\\n    KMeans,\\n    DBSCAN,\\n    AgglomerativeClustering,\\n)\\nfrom sklearn.mixture import GaussianMixture\";\n",
       "                var nbb_cells = Jupyter.notebook.get_cells();\n",
       "                for (var i = 0; i < nbb_cells.length; ++i) {\n",
       "                    if (nbb_cells[i].input_prompt_number == nbb_cell_id) {\n",
       "                        if (nbb_cells[i].get_text() == nbb_unformatted_code) {\n",
       "                             nbb_cells[i].set_text(nbb_formatted_code);\n",
       "                        }\n",
       "                        break;\n",
       "                    }\n",
       "                }\n",
       "            }, 500);\n",
       "            "
      ],
      "text/plain": [
       "<IPython.core.display.Javascript object>"
      ]
     },
     "metadata": {},
     "output_type": "display_data"
    },
    {
     "data": {
      "application/javascript": [
       "\n",
       "            setTimeout(function() {\n",
       "                var nbb_cell_id = 49;\n",
       "                var nbb_unformatted_code = \"%reload_ext nb_black\\n\\nimport pandas as pd\\nimport numpy as np\\nimport seaborn as sns\\nimport matplotlib.pyplot as plt\\n\\nfrom sklearn import metrics\\n\\nfrom sklearn.preprocessing import StandardScaler\\nfrom sklearn.decomposition import PCA\\n\\nfrom sklearn.cluster import (\\n    KMeans,\\n    DBSCAN,\\n    AgglomerativeClustering,\\n)\\nfrom sklearn.mixture import GaussianMixture\";\n",
       "                var nbb_formatted_code = \"%reload_ext nb_black\\n\\nimport pandas as pd\\nimport numpy as np\\nimport seaborn as sns\\nimport matplotlib.pyplot as plt\\n\\nfrom sklearn import metrics\\n\\nfrom sklearn.preprocessing import StandardScaler\\nfrom sklearn.decomposition import PCA\\n\\nfrom sklearn.cluster import (\\n    KMeans,\\n    DBSCAN,\\n    AgglomerativeClustering,\\n)\\nfrom sklearn.mixture import GaussianMixture\";\n",
       "                var nbb_cells = Jupyter.notebook.get_cells();\n",
       "                for (var i = 0; i < nbb_cells.length; ++i) {\n",
       "                    if (nbb_cells[i].input_prompt_number == nbb_cell_id) {\n",
       "                        if (nbb_cells[i].get_text() == nbb_unformatted_code) {\n",
       "                             nbb_cells[i].set_text(nbb_formatted_code);\n",
       "                        }\n",
       "                        break;\n",
       "                    }\n",
       "                }\n",
       "            }, 500);\n",
       "            "
      ],
      "text/plain": [
       "<IPython.core.display.Javascript object>"
      ]
     },
     "metadata": {},
     "output_type": "display_data"
    },
    {
     "data": {
      "application/javascript": [
       "\n",
       "            setTimeout(function() {\n",
       "                var nbb_cell_id = 49;\n",
       "                var nbb_unformatted_code = \"%reload_ext nb_black\\n\\nimport pandas as pd\\nimport numpy as np\\nimport seaborn as sns\\nimport matplotlib.pyplot as plt\\n\\nfrom sklearn import metrics\\n\\nfrom sklearn.preprocessing import StandardScaler\\nfrom sklearn.decomposition import PCA\\n\\nfrom sklearn.cluster import (\\n    KMeans,\\n    DBSCAN,\\n    AgglomerativeClustering,\\n)\\nfrom sklearn.mixture import GaussianMixture\";\n",
       "                var nbb_formatted_code = \"%reload_ext nb_black\\n\\nimport pandas as pd\\nimport numpy as np\\nimport seaborn as sns\\nimport matplotlib.pyplot as plt\\n\\nfrom sklearn import metrics\\n\\nfrom sklearn.preprocessing import StandardScaler\\nfrom sklearn.decomposition import PCA\\n\\nfrom sklearn.cluster import (\\n    KMeans,\\n    DBSCAN,\\n    AgglomerativeClustering,\\n)\\nfrom sklearn.mixture import GaussianMixture\";\n",
       "                var nbb_cells = Jupyter.notebook.get_cells();\n",
       "                for (var i = 0; i < nbb_cells.length; ++i) {\n",
       "                    if (nbb_cells[i].input_prompt_number == nbb_cell_id) {\n",
       "                        if (nbb_cells[i].get_text() == nbb_unformatted_code) {\n",
       "                             nbb_cells[i].set_text(nbb_formatted_code);\n",
       "                        }\n",
       "                        break;\n",
       "                    }\n",
       "                }\n",
       "            }, 500);\n",
       "            "
      ],
      "text/plain": [
       "<IPython.core.display.Javascript object>"
      ]
     },
     "metadata": {},
     "output_type": "display_data"
    },
    {
     "data": {
      "application/javascript": [
       "\n",
       "            setTimeout(function() {\n",
       "                var nbb_cell_id = 49;\n",
       "                var nbb_unformatted_code = \"%reload_ext nb_black\\n\\nimport pandas as pd\\nimport numpy as np\\nimport seaborn as sns\\nimport matplotlib.pyplot as plt\\n\\nfrom sklearn import metrics\\n\\nfrom sklearn.preprocessing import StandardScaler\\nfrom sklearn.decomposition import PCA\\n\\nfrom sklearn.cluster import (\\n    KMeans,\\n    DBSCAN,\\n    AgglomerativeClustering,\\n)\\nfrom sklearn.mixture import GaussianMixture\";\n",
       "                var nbb_formatted_code = \"%reload_ext nb_black\\n\\nimport pandas as pd\\nimport numpy as np\\nimport seaborn as sns\\nimport matplotlib.pyplot as plt\\n\\nfrom sklearn import metrics\\n\\nfrom sklearn.preprocessing import StandardScaler\\nfrom sklearn.decomposition import PCA\\n\\nfrom sklearn.cluster import (\\n    KMeans,\\n    DBSCAN,\\n    AgglomerativeClustering,\\n)\\nfrom sklearn.mixture import GaussianMixture\";\n",
       "                var nbb_cells = Jupyter.notebook.get_cells();\n",
       "                for (var i = 0; i < nbb_cells.length; ++i) {\n",
       "                    if (nbb_cells[i].input_prompt_number == nbb_cell_id) {\n",
       "                        if (nbb_cells[i].get_text() == nbb_unformatted_code) {\n",
       "                             nbb_cells[i].set_text(nbb_formatted_code);\n",
       "                        }\n",
       "                        break;\n",
       "                    }\n",
       "                }\n",
       "            }, 500);\n",
       "            "
      ],
      "text/plain": [
       "<IPython.core.display.Javascript object>"
      ]
     },
     "metadata": {},
     "output_type": "display_data"
    },
    {
     "data": {
      "application/javascript": [
       "\n",
       "            setTimeout(function() {\n",
       "                var nbb_cell_id = 49;\n",
       "                var nbb_unformatted_code = \"%reload_ext nb_black\\n\\nimport pandas as pd\\nimport numpy as np\\nimport seaborn as sns\\nimport matplotlib.pyplot as plt\\n\\nfrom sklearn import metrics\\n\\nfrom sklearn.preprocessing import StandardScaler\\nfrom sklearn.decomposition import PCA\\n\\nfrom sklearn.cluster import (\\n    KMeans,\\n    DBSCAN,\\n    AgglomerativeClustering,\\n)\\nfrom sklearn.mixture import GaussianMixture\";\n",
       "                var nbb_formatted_code = \"%reload_ext nb_black\\n\\nimport pandas as pd\\nimport numpy as np\\nimport seaborn as sns\\nimport matplotlib.pyplot as plt\\n\\nfrom sklearn import metrics\\n\\nfrom sklearn.preprocessing import StandardScaler\\nfrom sklearn.decomposition import PCA\\n\\nfrom sklearn.cluster import (\\n    KMeans,\\n    DBSCAN,\\n    AgglomerativeClustering,\\n)\\nfrom sklearn.mixture import GaussianMixture\";\n",
       "                var nbb_cells = Jupyter.notebook.get_cells();\n",
       "                for (var i = 0; i < nbb_cells.length; ++i) {\n",
       "                    if (nbb_cells[i].input_prompt_number == nbb_cell_id) {\n",
       "                        if (nbb_cells[i].get_text() == nbb_unformatted_code) {\n",
       "                             nbb_cells[i].set_text(nbb_formatted_code);\n",
       "                        }\n",
       "                        break;\n",
       "                    }\n",
       "                }\n",
       "            }, 500);\n",
       "            "
      ],
      "text/plain": [
       "<IPython.core.display.Javascript object>"
      ]
     },
     "metadata": {},
     "output_type": "display_data"
    },
    {
     "data": {
      "application/javascript": [
       "\n",
       "            setTimeout(function() {\n",
       "                var nbb_cell_id = 49;\n",
       "                var nbb_unformatted_code = \"%reload_ext nb_black\\n\\nimport pandas as pd\\nimport numpy as np\\nimport seaborn as sns\\nimport matplotlib.pyplot as plt\\n\\nfrom sklearn import metrics\\n\\nfrom sklearn.preprocessing import StandardScaler\\nfrom sklearn.decomposition import PCA\\n\\nfrom sklearn.cluster import (\\n    KMeans,\\n    DBSCAN,\\n    AgglomerativeClustering,\\n)\\nfrom sklearn.mixture import GaussianMixture\";\n",
       "                var nbb_formatted_code = \"%reload_ext nb_black\\n\\nimport pandas as pd\\nimport numpy as np\\nimport seaborn as sns\\nimport matplotlib.pyplot as plt\\n\\nfrom sklearn import metrics\\n\\nfrom sklearn.preprocessing import StandardScaler\\nfrom sklearn.decomposition import PCA\\n\\nfrom sklearn.cluster import (\\n    KMeans,\\n    DBSCAN,\\n    AgglomerativeClustering,\\n)\\nfrom sklearn.mixture import GaussianMixture\";\n",
       "                var nbb_cells = Jupyter.notebook.get_cells();\n",
       "                for (var i = 0; i < nbb_cells.length; ++i) {\n",
       "                    if (nbb_cells[i].input_prompt_number == nbb_cell_id) {\n",
       "                        if (nbb_cells[i].get_text() == nbb_unformatted_code) {\n",
       "                             nbb_cells[i].set_text(nbb_formatted_code);\n",
       "                        }\n",
       "                        break;\n",
       "                    }\n",
       "                }\n",
       "            }, 500);\n",
       "            "
      ],
      "text/plain": [
       "<IPython.core.display.Javascript object>"
      ]
     },
     "metadata": {},
     "output_type": "display_data"
    },
    {
     "data": {
      "application/javascript": [
       "\n",
       "            setTimeout(function() {\n",
       "                var nbb_cell_id = 49;\n",
       "                var nbb_unformatted_code = \"%reload_ext nb_black\\n\\nimport pandas as pd\\nimport numpy as np\\nimport seaborn as sns\\nimport matplotlib.pyplot as plt\\n\\nfrom sklearn import metrics\\n\\nfrom sklearn.preprocessing import StandardScaler\\nfrom sklearn.decomposition import PCA\\n\\nfrom sklearn.cluster import (\\n    KMeans,\\n    DBSCAN,\\n    AgglomerativeClustering,\\n)\\nfrom sklearn.mixture import GaussianMixture\";\n",
       "                var nbb_formatted_code = \"%reload_ext nb_black\\n\\nimport pandas as pd\\nimport numpy as np\\nimport seaborn as sns\\nimport matplotlib.pyplot as plt\\n\\nfrom sklearn import metrics\\n\\nfrom sklearn.preprocessing import StandardScaler\\nfrom sklearn.decomposition import PCA\\n\\nfrom sklearn.cluster import (\\n    KMeans,\\n    DBSCAN,\\n    AgglomerativeClustering,\\n)\\nfrom sklearn.mixture import GaussianMixture\";\n",
       "                var nbb_cells = Jupyter.notebook.get_cells();\n",
       "                for (var i = 0; i < nbb_cells.length; ++i) {\n",
       "                    if (nbb_cells[i].input_prompt_number == nbb_cell_id) {\n",
       "                        if (nbb_cells[i].get_text() == nbb_unformatted_code) {\n",
       "                             nbb_cells[i].set_text(nbb_formatted_code);\n",
       "                        }\n",
       "                        break;\n",
       "                    }\n",
       "                }\n",
       "            }, 500);\n",
       "            "
      ],
      "text/plain": [
       "<IPython.core.display.Javascript object>"
      ]
     },
     "metadata": {},
     "output_type": "display_data"
    },
    {
     "data": {
      "application/javascript": [
       "\n",
       "            setTimeout(function() {\n",
       "                var nbb_cell_id = 49;\n",
       "                var nbb_unformatted_code = \"%reload_ext nb_black\\n\\nimport pandas as pd\\nimport numpy as np\\nimport seaborn as sns\\nimport matplotlib.pyplot as plt\\n\\nfrom sklearn import metrics\\n\\nfrom sklearn.preprocessing import StandardScaler\\nfrom sklearn.decomposition import PCA\\n\\nfrom sklearn.cluster import (\\n    KMeans,\\n    DBSCAN,\\n    AgglomerativeClustering,\\n)\\nfrom sklearn.mixture import GaussianMixture\";\n",
       "                var nbb_formatted_code = \"%reload_ext nb_black\\n\\nimport pandas as pd\\nimport numpy as np\\nimport seaborn as sns\\nimport matplotlib.pyplot as plt\\n\\nfrom sklearn import metrics\\n\\nfrom sklearn.preprocessing import StandardScaler\\nfrom sklearn.decomposition import PCA\\n\\nfrom sklearn.cluster import (\\n    KMeans,\\n    DBSCAN,\\n    AgglomerativeClustering,\\n)\\nfrom sklearn.mixture import GaussianMixture\";\n",
       "                var nbb_cells = Jupyter.notebook.get_cells();\n",
       "                for (var i = 0; i < nbb_cells.length; ++i) {\n",
       "                    if (nbb_cells[i].input_prompt_number == nbb_cell_id) {\n",
       "                        if (nbb_cells[i].get_text() == nbb_unformatted_code) {\n",
       "                             nbb_cells[i].set_text(nbb_formatted_code);\n",
       "                        }\n",
       "                        break;\n",
       "                    }\n",
       "                }\n",
       "            }, 500);\n",
       "            "
      ],
      "text/plain": [
       "<IPython.core.display.Javascript object>"
      ]
     },
     "metadata": {},
     "output_type": "display_data"
    },
    {
     "data": {
      "application/javascript": [
       "\n",
       "            setTimeout(function() {\n",
       "                var nbb_cell_id = 49;\n",
       "                var nbb_unformatted_code = \"%reload_ext nb_black\\n\\nimport pandas as pd\\nimport numpy as np\\nimport seaborn as sns\\nimport matplotlib.pyplot as plt\\n\\nfrom sklearn import metrics\\n\\nfrom sklearn.preprocessing import StandardScaler\\nfrom sklearn.decomposition import PCA\\n\\nfrom sklearn.cluster import (\\n    KMeans,\\n    DBSCAN,\\n    AgglomerativeClustering,\\n)\\nfrom sklearn.mixture import GaussianMixture\";\n",
       "                var nbb_formatted_code = \"%reload_ext nb_black\\n\\nimport pandas as pd\\nimport numpy as np\\nimport seaborn as sns\\nimport matplotlib.pyplot as plt\\n\\nfrom sklearn import metrics\\n\\nfrom sklearn.preprocessing import StandardScaler\\nfrom sklearn.decomposition import PCA\\n\\nfrom sklearn.cluster import (\\n    KMeans,\\n    DBSCAN,\\n    AgglomerativeClustering,\\n)\\nfrom sklearn.mixture import GaussianMixture\";\n",
       "                var nbb_cells = Jupyter.notebook.get_cells();\n",
       "                for (var i = 0; i < nbb_cells.length; ++i) {\n",
       "                    if (nbb_cells[i].input_prompt_number == nbb_cell_id) {\n",
       "                        if (nbb_cells[i].get_text() == nbb_unformatted_code) {\n",
       "                             nbb_cells[i].set_text(nbb_formatted_code);\n",
       "                        }\n",
       "                        break;\n",
       "                    }\n",
       "                }\n",
       "            }, 500);\n",
       "            "
      ],
      "text/plain": [
       "<IPython.core.display.Javascript object>"
      ]
     },
     "metadata": {},
     "output_type": "display_data"
    },
    {
     "data": {
      "application/javascript": [
       "\n",
       "            setTimeout(function() {\n",
       "                var nbb_cell_id = 49;\n",
       "                var nbb_unformatted_code = \"%reload_ext nb_black\\n\\nimport pandas as pd\\nimport numpy as np\\nimport seaborn as sns\\nimport matplotlib.pyplot as plt\\n\\nfrom sklearn import metrics\\n\\nfrom sklearn.preprocessing import StandardScaler\\nfrom sklearn.decomposition import PCA\\n\\nfrom sklearn.cluster import (\\n    KMeans,\\n    DBSCAN,\\n    AgglomerativeClustering,\\n)\\nfrom sklearn.mixture import GaussianMixture\";\n",
       "                var nbb_formatted_code = \"%reload_ext nb_black\\n\\nimport pandas as pd\\nimport numpy as np\\nimport seaborn as sns\\nimport matplotlib.pyplot as plt\\n\\nfrom sklearn import metrics\\n\\nfrom sklearn.preprocessing import StandardScaler\\nfrom sklearn.decomposition import PCA\\n\\nfrom sklearn.cluster import (\\n    KMeans,\\n    DBSCAN,\\n    AgglomerativeClustering,\\n)\\nfrom sklearn.mixture import GaussianMixture\";\n",
       "                var nbb_cells = Jupyter.notebook.get_cells();\n",
       "                for (var i = 0; i < nbb_cells.length; ++i) {\n",
       "                    if (nbb_cells[i].input_prompt_number == nbb_cell_id) {\n",
       "                        if (nbb_cells[i].get_text() == nbb_unformatted_code) {\n",
       "                             nbb_cells[i].set_text(nbb_formatted_code);\n",
       "                        }\n",
       "                        break;\n",
       "                    }\n",
       "                }\n",
       "            }, 500);\n",
       "            "
      ],
      "text/plain": [
       "<IPython.core.display.Javascript object>"
      ]
     },
     "metadata": {},
     "output_type": "display_data"
    },
    {
     "data": {
      "application/javascript": [
       "\n",
       "            setTimeout(function() {\n",
       "                var nbb_cell_id = 49;\n",
       "                var nbb_unformatted_code = \"%reload_ext nb_black\\n\\nimport pandas as pd\\nimport numpy as np\\nimport seaborn as sns\\nimport matplotlib.pyplot as plt\\n\\nfrom sklearn import metrics\\n\\nfrom sklearn.preprocessing import StandardScaler\\nfrom sklearn.decomposition import PCA\\n\\nfrom sklearn.cluster import (\\n    KMeans,\\n    DBSCAN,\\n    AgglomerativeClustering,\\n)\\nfrom sklearn.mixture import GaussianMixture\";\n",
       "                var nbb_formatted_code = \"%reload_ext nb_black\\n\\nimport pandas as pd\\nimport numpy as np\\nimport seaborn as sns\\nimport matplotlib.pyplot as plt\\n\\nfrom sklearn import metrics\\n\\nfrom sklearn.preprocessing import StandardScaler\\nfrom sklearn.decomposition import PCA\\n\\nfrom sklearn.cluster import (\\n    KMeans,\\n    DBSCAN,\\n    AgglomerativeClustering,\\n)\\nfrom sklearn.mixture import GaussianMixture\";\n",
       "                var nbb_cells = Jupyter.notebook.get_cells();\n",
       "                for (var i = 0; i < nbb_cells.length; ++i) {\n",
       "                    if (nbb_cells[i].input_prompt_number == nbb_cell_id) {\n",
       "                        if (nbb_cells[i].get_text() == nbb_unformatted_code) {\n",
       "                             nbb_cells[i].set_text(nbb_formatted_code);\n",
       "                        }\n",
       "                        break;\n",
       "                    }\n",
       "                }\n",
       "            }, 500);\n",
       "            "
      ],
      "text/plain": [
       "<IPython.core.display.Javascript object>"
      ]
     },
     "metadata": {},
     "output_type": "display_data"
    },
    {
     "data": {
      "application/javascript": [
       "\n",
       "            setTimeout(function() {\n",
       "                var nbb_cell_id = 49;\n",
       "                var nbb_unformatted_code = \"%reload_ext nb_black\\n\\nimport pandas as pd\\nimport numpy as np\\nimport seaborn as sns\\nimport matplotlib.pyplot as plt\\n\\nfrom sklearn import metrics\\n\\nfrom sklearn.preprocessing import StandardScaler\\nfrom sklearn.decomposition import PCA\\n\\nfrom sklearn.cluster import (\\n    KMeans,\\n    DBSCAN,\\n    AgglomerativeClustering,\\n)\\nfrom sklearn.mixture import GaussianMixture\";\n",
       "                var nbb_formatted_code = \"%reload_ext nb_black\\n\\nimport pandas as pd\\nimport numpy as np\\nimport seaborn as sns\\nimport matplotlib.pyplot as plt\\n\\nfrom sklearn import metrics\\n\\nfrom sklearn.preprocessing import StandardScaler\\nfrom sklearn.decomposition import PCA\\n\\nfrom sklearn.cluster import (\\n    KMeans,\\n    DBSCAN,\\n    AgglomerativeClustering,\\n)\\nfrom sklearn.mixture import GaussianMixture\";\n",
       "                var nbb_cells = Jupyter.notebook.get_cells();\n",
       "                for (var i = 0; i < nbb_cells.length; ++i) {\n",
       "                    if (nbb_cells[i].input_prompt_number == nbb_cell_id) {\n",
       "                        if (nbb_cells[i].get_text() == nbb_unformatted_code) {\n",
       "                             nbb_cells[i].set_text(nbb_formatted_code);\n",
       "                        }\n",
       "                        break;\n",
       "                    }\n",
       "                }\n",
       "            }, 500);\n",
       "            "
      ],
      "text/plain": [
       "<IPython.core.display.Javascript object>"
      ]
     },
     "metadata": {},
     "output_type": "display_data"
    }
   ],
   "source": [
    "%reload_ext nb_black\n",
    "\n",
    "import pandas as pd\n",
    "import numpy as np\n",
    "import seaborn as sns\n",
    "import matplotlib.pyplot as plt\n",
    "\n",
    "from sklearn import metrics\n",
    "\n",
    "from sklearn.preprocessing import StandardScaler\n",
    "from sklearn.decomposition import PCA\n",
    "\n",
    "from sklearn.cluster import (\n",
    "    KMeans,\n",
    "    DBSCAN,\n",
    "    AgglomerativeClustering,\n",
    ")\n",
    "from sklearn.mixture import GaussianMixture"
   ]
  },
  {
   "cell_type": "markdown",
   "metadata": {},
   "source": [
    "# EDA"
   ]
  },
  {
   "cell_type": "code",
   "execution_count": 3,
   "metadata": {},
   "outputs": [
    {
     "data": {
      "text/html": [
       "<div>\n",
       "<style scoped>\n",
       "    .dataframe tbody tr th:only-of-type {\n",
       "        vertical-align: middle;\n",
       "    }\n",
       "\n",
       "    .dataframe tbody tr th {\n",
       "        vertical-align: top;\n",
       "    }\n",
       "\n",
       "    .dataframe thead th {\n",
       "        text-align: right;\n",
       "    }\n",
       "</style>\n",
       "<table border=\"1\" class=\"dataframe\">\n",
       "  <thead>\n",
       "    <tr style=\"text-align: right;\">\n",
       "      <th></th>\n",
       "      <th>gameId</th>\n",
       "      <th>blueWins</th>\n",
       "      <th>blueWardsPlaced</th>\n",
       "      <th>blueWardsDestroyed</th>\n",
       "      <th>blueFirstBlood</th>\n",
       "      <th>blueKills</th>\n",
       "      <th>blueDeaths</th>\n",
       "      <th>blueAssists</th>\n",
       "      <th>blueEliteMonsters</th>\n",
       "      <th>blueDragons</th>\n",
       "      <th>...</th>\n",
       "      <th>redTowersDestroyed</th>\n",
       "      <th>redTotalGold</th>\n",
       "      <th>redAvgLevel</th>\n",
       "      <th>redTotalExperience</th>\n",
       "      <th>redTotalMinionsKilled</th>\n",
       "      <th>redTotalJungleMinionsKilled</th>\n",
       "      <th>redGoldDiff</th>\n",
       "      <th>redExperienceDiff</th>\n",
       "      <th>redCSPerMin</th>\n",
       "      <th>redGoldPerMin</th>\n",
       "    </tr>\n",
       "  </thead>\n",
       "  <tbody>\n",
       "    <tr>\n",
       "      <th>0</th>\n",
       "      <td>4519157822</td>\n",
       "      <td>0</td>\n",
       "      <td>28</td>\n",
       "      <td>2</td>\n",
       "      <td>1</td>\n",
       "      <td>9</td>\n",
       "      <td>6</td>\n",
       "      <td>11</td>\n",
       "      <td>0</td>\n",
       "      <td>0</td>\n",
       "      <td>...</td>\n",
       "      <td>0</td>\n",
       "      <td>16567</td>\n",
       "      <td>6.8</td>\n",
       "      <td>17047</td>\n",
       "      <td>197</td>\n",
       "      <td>55</td>\n",
       "      <td>-643</td>\n",
       "      <td>8</td>\n",
       "      <td>19.7</td>\n",
       "      <td>1656.7</td>\n",
       "    </tr>\n",
       "    <tr>\n",
       "      <th>1</th>\n",
       "      <td>4523371949</td>\n",
       "      <td>0</td>\n",
       "      <td>12</td>\n",
       "      <td>1</td>\n",
       "      <td>0</td>\n",
       "      <td>5</td>\n",
       "      <td>5</td>\n",
       "      <td>5</td>\n",
       "      <td>0</td>\n",
       "      <td>0</td>\n",
       "      <td>...</td>\n",
       "      <td>1</td>\n",
       "      <td>17620</td>\n",
       "      <td>6.8</td>\n",
       "      <td>17438</td>\n",
       "      <td>240</td>\n",
       "      <td>52</td>\n",
       "      <td>2908</td>\n",
       "      <td>1173</td>\n",
       "      <td>24.0</td>\n",
       "      <td>1762.0</td>\n",
       "    </tr>\n",
       "    <tr>\n",
       "      <th>2</th>\n",
       "      <td>4521474530</td>\n",
       "      <td>0</td>\n",
       "      <td>15</td>\n",
       "      <td>0</td>\n",
       "      <td>0</td>\n",
       "      <td>7</td>\n",
       "      <td>11</td>\n",
       "      <td>4</td>\n",
       "      <td>1</td>\n",
       "      <td>1</td>\n",
       "      <td>...</td>\n",
       "      <td>0</td>\n",
       "      <td>17285</td>\n",
       "      <td>6.8</td>\n",
       "      <td>17254</td>\n",
       "      <td>203</td>\n",
       "      <td>28</td>\n",
       "      <td>1172</td>\n",
       "      <td>1033</td>\n",
       "      <td>20.3</td>\n",
       "      <td>1728.5</td>\n",
       "    </tr>\n",
       "    <tr>\n",
       "      <th>3</th>\n",
       "      <td>4524384067</td>\n",
       "      <td>0</td>\n",
       "      <td>43</td>\n",
       "      <td>1</td>\n",
       "      <td>0</td>\n",
       "      <td>4</td>\n",
       "      <td>5</td>\n",
       "      <td>5</td>\n",
       "      <td>1</td>\n",
       "      <td>0</td>\n",
       "      <td>...</td>\n",
       "      <td>0</td>\n",
       "      <td>16478</td>\n",
       "      <td>7.0</td>\n",
       "      <td>17961</td>\n",
       "      <td>235</td>\n",
       "      <td>47</td>\n",
       "      <td>1321</td>\n",
       "      <td>7</td>\n",
       "      <td>23.5</td>\n",
       "      <td>1647.8</td>\n",
       "    </tr>\n",
       "    <tr>\n",
       "      <th>4</th>\n",
       "      <td>4436033771</td>\n",
       "      <td>0</td>\n",
       "      <td>75</td>\n",
       "      <td>4</td>\n",
       "      <td>0</td>\n",
       "      <td>6</td>\n",
       "      <td>6</td>\n",
       "      <td>6</td>\n",
       "      <td>0</td>\n",
       "      <td>0</td>\n",
       "      <td>...</td>\n",
       "      <td>0</td>\n",
       "      <td>17404</td>\n",
       "      <td>7.0</td>\n",
       "      <td>18313</td>\n",
       "      <td>225</td>\n",
       "      <td>67</td>\n",
       "      <td>1004</td>\n",
       "      <td>-230</td>\n",
       "      <td>22.5</td>\n",
       "      <td>1740.4</td>\n",
       "    </tr>\n",
       "  </tbody>\n",
       "</table>\n",
       "<p>5 rows × 40 columns</p>\n",
       "</div>"
      ],
      "text/plain": [
       "       gameId  blueWins  blueWardsPlaced  blueWardsDestroyed  blueFirstBlood  \\\n",
       "0  4519157822         0               28                   2               1   \n",
       "1  4523371949         0               12                   1               0   \n",
       "2  4521474530         0               15                   0               0   \n",
       "3  4524384067         0               43                   1               0   \n",
       "4  4436033771         0               75                   4               0   \n",
       "\n",
       "   blueKills  blueDeaths  blueAssists  blueEliteMonsters  blueDragons  ...  \\\n",
       "0          9           6           11                  0            0  ...   \n",
       "1          5           5            5                  0            0  ...   \n",
       "2          7          11            4                  1            1  ...   \n",
       "3          4           5            5                  1            0  ...   \n",
       "4          6           6            6                  0            0  ...   \n",
       "\n",
       "   redTowersDestroyed  redTotalGold  redAvgLevel  redTotalExperience  \\\n",
       "0                   0         16567          6.8               17047   \n",
       "1                   1         17620          6.8               17438   \n",
       "2                   0         17285          6.8               17254   \n",
       "3                   0         16478          7.0               17961   \n",
       "4                   0         17404          7.0               18313   \n",
       "\n",
       "   redTotalMinionsKilled  redTotalJungleMinionsKilled  redGoldDiff  \\\n",
       "0                    197                           55         -643   \n",
       "1                    240                           52         2908   \n",
       "2                    203                           28         1172   \n",
       "3                    235                           47         1321   \n",
       "4                    225                           67         1004   \n",
       "\n",
       "   redExperienceDiff  redCSPerMin  redGoldPerMin  \n",
       "0                  8         19.7         1656.7  \n",
       "1               1173         24.0         1762.0  \n",
       "2               1033         20.3         1728.5  \n",
       "3                  7         23.5         1647.8  \n",
       "4               -230         22.5         1740.4  \n",
       "\n",
       "[5 rows x 40 columns]"
      ]
     },
     "execution_count": 3,
     "metadata": {},
     "output_type": "execute_result"
    },
    {
     "data": {
      "application/javascript": [
       "\n",
       "            setTimeout(function() {\n",
       "                var nbb_cell_id = 3;\n",
       "                var nbb_unformatted_code = \"# the data set contains stats 10 min into diamond ranked games (~10k)\\n# data obtained from https://www.kaggle.com/bobbyscience/league-of-legends-diamond-ranked-games-10-min\\nlol = pd.read_csv(\\\"high_diamond_ranked_10min.csv\\\")\\nlol.head()\";\n",
       "                var nbb_formatted_code = \"# the data set contains stats 10 min into diamond ranked games (~10k)\\n# data obtained from https://www.kaggle.com/bobbyscience/league-of-legends-diamond-ranked-games-10-min\\nlol = pd.read_csv(\\\"high_diamond_ranked_10min.csv\\\")\\nlol.head()\";\n",
       "                var nbb_cells = Jupyter.notebook.get_cells();\n",
       "                for (var i = 0; i < nbb_cells.length; ++i) {\n",
       "                    if (nbb_cells[i].input_prompt_number == nbb_cell_id) {\n",
       "                        if (nbb_cells[i].get_text() == nbb_unformatted_code) {\n",
       "                             nbb_cells[i].set_text(nbb_formatted_code);\n",
       "                        }\n",
       "                        break;\n",
       "                    }\n",
       "                }\n",
       "            }, 500);\n",
       "            "
      ],
      "text/plain": [
       "<IPython.core.display.Javascript object>"
      ]
     },
     "metadata": {},
     "output_type": "display_data"
    }
   ],
   "source": [
    "# the data set contains stats 10 min into diamond ranked games (~10k)\n",
    "# data obtained from https://www.kaggle.com/bobbyscience/league-of-legends-diamond-ranked-games-10-min\n",
    "lol = pd.read_csv(\"high_diamond_ranked_10min.csv\")\n",
    "lol.head()"
   ]
  },
  {
   "cell_type": "code",
   "execution_count": 4,
   "metadata": {},
   "outputs": [
    {
     "data": {
      "text/html": [
       "<div>\n",
       "<style scoped>\n",
       "    .dataframe tbody tr th:only-of-type {\n",
       "        vertical-align: middle;\n",
       "    }\n",
       "\n",
       "    .dataframe tbody tr th {\n",
       "        vertical-align: top;\n",
       "    }\n",
       "\n",
       "    .dataframe thead th {\n",
       "        text-align: right;\n",
       "    }\n",
       "</style>\n",
       "<table border=\"1\" class=\"dataframe\">\n",
       "  <thead>\n",
       "    <tr style=\"text-align: right;\">\n",
       "      <th></th>\n",
       "      <th>gameId</th>\n",
       "      <th>blueWins</th>\n",
       "      <th>blueWardsPlaced</th>\n",
       "      <th>blueWardsDestroyed</th>\n",
       "      <th>blueFirstBlood</th>\n",
       "      <th>blueKills</th>\n",
       "      <th>blueDeaths</th>\n",
       "      <th>blueAssists</th>\n",
       "      <th>blueEliteMonsters</th>\n",
       "      <th>blueDragons</th>\n",
       "      <th>...</th>\n",
       "      <th>blueTowersDestroyed</th>\n",
       "      <th>blueTotalGold</th>\n",
       "      <th>blueAvgLevel</th>\n",
       "      <th>blueTotalExperience</th>\n",
       "      <th>blueTotalMinionsKilled</th>\n",
       "      <th>blueTotalJungleMinionsKilled</th>\n",
       "      <th>blueGoldDiff</th>\n",
       "      <th>blueExperienceDiff</th>\n",
       "      <th>blueCSPerMin</th>\n",
       "      <th>blueGoldPerMin</th>\n",
       "    </tr>\n",
       "  </thead>\n",
       "  <tbody>\n",
       "    <tr>\n",
       "      <th>0</th>\n",
       "      <td>4519157822</td>\n",
       "      <td>0</td>\n",
       "      <td>28</td>\n",
       "      <td>2</td>\n",
       "      <td>1</td>\n",
       "      <td>9</td>\n",
       "      <td>6</td>\n",
       "      <td>11</td>\n",
       "      <td>0</td>\n",
       "      <td>0</td>\n",
       "      <td>...</td>\n",
       "      <td>0</td>\n",
       "      <td>17210</td>\n",
       "      <td>6.6</td>\n",
       "      <td>17039</td>\n",
       "      <td>195</td>\n",
       "      <td>36</td>\n",
       "      <td>643</td>\n",
       "      <td>-8</td>\n",
       "      <td>19.5</td>\n",
       "      <td>1721.0</td>\n",
       "    </tr>\n",
       "    <tr>\n",
       "      <th>1</th>\n",
       "      <td>4523371949</td>\n",
       "      <td>0</td>\n",
       "      <td>12</td>\n",
       "      <td>1</td>\n",
       "      <td>0</td>\n",
       "      <td>5</td>\n",
       "      <td>5</td>\n",
       "      <td>5</td>\n",
       "      <td>0</td>\n",
       "      <td>0</td>\n",
       "      <td>...</td>\n",
       "      <td>0</td>\n",
       "      <td>14712</td>\n",
       "      <td>6.6</td>\n",
       "      <td>16265</td>\n",
       "      <td>174</td>\n",
       "      <td>43</td>\n",
       "      <td>-2908</td>\n",
       "      <td>-1173</td>\n",
       "      <td>17.4</td>\n",
       "      <td>1471.2</td>\n",
       "    </tr>\n",
       "    <tr>\n",
       "      <th>2</th>\n",
       "      <td>4521474530</td>\n",
       "      <td>0</td>\n",
       "      <td>15</td>\n",
       "      <td>0</td>\n",
       "      <td>0</td>\n",
       "      <td>7</td>\n",
       "      <td>11</td>\n",
       "      <td>4</td>\n",
       "      <td>1</td>\n",
       "      <td>1</td>\n",
       "      <td>...</td>\n",
       "      <td>0</td>\n",
       "      <td>16113</td>\n",
       "      <td>6.4</td>\n",
       "      <td>16221</td>\n",
       "      <td>186</td>\n",
       "      <td>46</td>\n",
       "      <td>-1172</td>\n",
       "      <td>-1033</td>\n",
       "      <td>18.6</td>\n",
       "      <td>1611.3</td>\n",
       "    </tr>\n",
       "    <tr>\n",
       "      <th>3</th>\n",
       "      <td>4524384067</td>\n",
       "      <td>0</td>\n",
       "      <td>43</td>\n",
       "      <td>1</td>\n",
       "      <td>0</td>\n",
       "      <td>4</td>\n",
       "      <td>5</td>\n",
       "      <td>5</td>\n",
       "      <td>1</td>\n",
       "      <td>0</td>\n",
       "      <td>...</td>\n",
       "      <td>0</td>\n",
       "      <td>15157</td>\n",
       "      <td>7.0</td>\n",
       "      <td>17954</td>\n",
       "      <td>201</td>\n",
       "      <td>55</td>\n",
       "      <td>-1321</td>\n",
       "      <td>-7</td>\n",
       "      <td>20.1</td>\n",
       "      <td>1515.7</td>\n",
       "    </tr>\n",
       "    <tr>\n",
       "      <th>4</th>\n",
       "      <td>4436033771</td>\n",
       "      <td>0</td>\n",
       "      <td>75</td>\n",
       "      <td>4</td>\n",
       "      <td>0</td>\n",
       "      <td>6</td>\n",
       "      <td>6</td>\n",
       "      <td>6</td>\n",
       "      <td>0</td>\n",
       "      <td>0</td>\n",
       "      <td>...</td>\n",
       "      <td>0</td>\n",
       "      <td>16400</td>\n",
       "      <td>7.0</td>\n",
       "      <td>18543</td>\n",
       "      <td>210</td>\n",
       "      <td>57</td>\n",
       "      <td>-1004</td>\n",
       "      <td>230</td>\n",
       "      <td>21.0</td>\n",
       "      <td>1640.0</td>\n",
       "    </tr>\n",
       "  </tbody>\n",
       "</table>\n",
       "<p>5 rows × 21 columns</p>\n",
       "</div>"
      ],
      "text/plain": [
       "       gameId  blueWins  blueWardsPlaced  blueWardsDestroyed  blueFirstBlood  \\\n",
       "0  4519157822         0               28                   2               1   \n",
       "1  4523371949         0               12                   1               0   \n",
       "2  4521474530         0               15                   0               0   \n",
       "3  4524384067         0               43                   1               0   \n",
       "4  4436033771         0               75                   4               0   \n",
       "\n",
       "   blueKills  blueDeaths  blueAssists  blueEliteMonsters  blueDragons  ...  \\\n",
       "0          9           6           11                  0            0  ...   \n",
       "1          5           5            5                  0            0  ...   \n",
       "2          7          11            4                  1            1  ...   \n",
       "3          4           5            5                  1            0  ...   \n",
       "4          6           6            6                  0            0  ...   \n",
       "\n",
       "   blueTowersDestroyed  blueTotalGold  blueAvgLevel  blueTotalExperience  \\\n",
       "0                    0          17210           6.6                17039   \n",
       "1                    0          14712           6.6                16265   \n",
       "2                    0          16113           6.4                16221   \n",
       "3                    0          15157           7.0                17954   \n",
       "4                    0          16400           7.0                18543   \n",
       "\n",
       "   blueTotalMinionsKilled  blueTotalJungleMinionsKilled  blueGoldDiff  \\\n",
       "0                     195                            36           643   \n",
       "1                     174                            43         -2908   \n",
       "2                     186                            46         -1172   \n",
       "3                     201                            55         -1321   \n",
       "4                     210                            57         -1004   \n",
       "\n",
       "   blueExperienceDiff  blueCSPerMin  blueGoldPerMin  \n",
       "0                  -8          19.5          1721.0  \n",
       "1               -1173          17.4          1471.2  \n",
       "2               -1033          18.6          1611.3  \n",
       "3                  -7          20.1          1515.7  \n",
       "4                 230          21.0          1640.0  \n",
       "\n",
       "[5 rows x 21 columns]"
      ]
     },
     "execution_count": 4,
     "metadata": {},
     "output_type": "execute_result"
    },
    {
     "data": {
      "application/javascript": [
       "\n",
       "            setTimeout(function() {\n",
       "                var nbb_cell_id = 4;\n",
       "                var nbb_unformatted_code = \"### Drop all red columns, focus solely on blue side.\\nblue_lol = lol[lol.columns.drop(list(lol.filter(regex=\\\"red\\\")))]\\nblue_lol.head()\";\n",
       "                var nbb_formatted_code = \"### Drop all red columns, focus solely on blue side.\\nblue_lol = lol[lol.columns.drop(list(lol.filter(regex=\\\"red\\\")))]\\nblue_lol.head()\";\n",
       "                var nbb_cells = Jupyter.notebook.get_cells();\n",
       "                for (var i = 0; i < nbb_cells.length; ++i) {\n",
       "                    if (nbb_cells[i].input_prompt_number == nbb_cell_id) {\n",
       "                        if (nbb_cells[i].get_text() == nbb_unformatted_code) {\n",
       "                             nbb_cells[i].set_text(nbb_formatted_code);\n",
       "                        }\n",
       "                        break;\n",
       "                    }\n",
       "                }\n",
       "            }, 500);\n",
       "            "
      ],
      "text/plain": [
       "<IPython.core.display.Javascript object>"
      ]
     },
     "metadata": {},
     "output_type": "display_data"
    }
   ],
   "source": [
    "### Drop all red columns, focus solely on blue side.\n",
    "blue_lol = lol[lol.columns.drop(list(lol.filter(regex=\"red\")))]\n",
    "blue_lol.head()"
   ]
  },
  {
   "cell_type": "code",
   "execution_count": 5,
   "metadata": {},
   "outputs": [
    {
     "data": {
      "application/javascript": [
       "\n",
       "            setTimeout(function() {\n",
       "                var nbb_cell_id = 5;\n",
       "                var nbb_unformatted_code = \"# Eye balling the data, there are columns that are not necessary or redundant and can be dropped\\n# Able to get rid of these columns because there is another column of totals. Therefore by minute is unnecessary \\nblue_lol = blue_lol.drop(\\n    columns=[\\n        \\\"gameId\\\",\\n        \\\"blueGoldPerMin\\\",\\n        \\\"blueGoldDiff\\\",\\n        \\\"blueCSPerMin\\\",\\n        \\\"blueAvgLevel\\\",\\n        \\\"blueExperienceDiff\\\",\\n    ]\\n)\";\n",
       "                var nbb_formatted_code = \"# Eye balling the data, there are columns that are not necessary or redundant and can be dropped\\n# Able to get rid of these columns because there is another column of totals. Therefore by minute is unnecessary\\nblue_lol = blue_lol.drop(\\n    columns=[\\n        \\\"gameId\\\",\\n        \\\"blueGoldPerMin\\\",\\n        \\\"blueGoldDiff\\\",\\n        \\\"blueCSPerMin\\\",\\n        \\\"blueAvgLevel\\\",\\n        \\\"blueExperienceDiff\\\",\\n    ]\\n)\";\n",
       "                var nbb_cells = Jupyter.notebook.get_cells();\n",
       "                for (var i = 0; i < nbb_cells.length; ++i) {\n",
       "                    if (nbb_cells[i].input_prompt_number == nbb_cell_id) {\n",
       "                        if (nbb_cells[i].get_text() == nbb_unformatted_code) {\n",
       "                             nbb_cells[i].set_text(nbb_formatted_code);\n",
       "                        }\n",
       "                        break;\n",
       "                    }\n",
       "                }\n",
       "            }, 500);\n",
       "            "
      ],
      "text/plain": [
       "<IPython.core.display.Javascript object>"
      ]
     },
     "metadata": {},
     "output_type": "display_data"
    }
   ],
   "source": [
    "# Eye balling the data, there are columns that are not necessary or redundant and can be dropped\n",
    "# Able to get rid of these columns because there is another column of totals. Therefore by minute is unnecessary\n",
    "blue_lol = blue_lol.drop(\n",
    "    columns=[\n",
    "        \"gameId\",\n",
    "        \"blueGoldPerMin\",\n",
    "        \"blueGoldDiff\",\n",
    "        \"blueCSPerMin\",\n",
    "        \"blueAvgLevel\",\n",
    "        \"blueExperienceDiff\",\n",
    "    ]\n",
    ")"
   ]
  },
  {
   "cell_type": "code",
   "execution_count": 6,
   "metadata": {},
   "outputs": [
    {
     "data": {
      "text/plain": [
       "blueWins                        0.0\n",
       "blueWardsPlaced                 0.0\n",
       "blueWardsDestroyed              0.0\n",
       "blueFirstBlood                  0.0\n",
       "blueKills                       0.0\n",
       "blueDeaths                      0.0\n",
       "blueAssists                     0.0\n",
       "blueEliteMonsters               0.0\n",
       "blueDragons                     0.0\n",
       "blueHeralds                     0.0\n",
       "blueTowersDestroyed             0.0\n",
       "blueTotalGold                   0.0\n",
       "blueTotalExperience             0.0\n",
       "blueTotalMinionsKilled          0.0\n",
       "blueTotalJungleMinionsKilled    0.0\n",
       "dtype: float64"
      ]
     },
     "execution_count": 6,
     "metadata": {},
     "output_type": "execute_result"
    },
    {
     "data": {
      "application/javascript": [
       "\n",
       "            setTimeout(function() {\n",
       "                var nbb_cell_id = 6;\n",
       "                var nbb_unformatted_code = \"# Checking for any missing values within the dataset\\n# There does not appear to be any missing values in the data set.\\nblue_lol.isna().mean()\";\n",
       "                var nbb_formatted_code = \"# Checking for any missing values within the dataset\\n# There does not appear to be any missing values in the data set.\\nblue_lol.isna().mean()\";\n",
       "                var nbb_cells = Jupyter.notebook.get_cells();\n",
       "                for (var i = 0; i < nbb_cells.length; ++i) {\n",
       "                    if (nbb_cells[i].input_prompt_number == nbb_cell_id) {\n",
       "                        if (nbb_cells[i].get_text() == nbb_unformatted_code) {\n",
       "                             nbb_cells[i].set_text(nbb_formatted_code);\n",
       "                        }\n",
       "                        break;\n",
       "                    }\n",
       "                }\n",
       "            }, 500);\n",
       "            "
      ],
      "text/plain": [
       "<IPython.core.display.Javascript object>"
      ]
     },
     "metadata": {},
     "output_type": "display_data"
    }
   ],
   "source": [
    "# Checking for any missing values within the dataset\n",
    "# There does not appear to be any missing values in the data set.\n",
    "blue_lol.isna().mean()"
   ]
  },
  {
   "cell_type": "code",
   "execution_count": 7,
   "metadata": {},
   "outputs": [
    {
     "data": {
      "text/plain": [
       "blueWins                        int64\n",
       "blueWardsPlaced                 int64\n",
       "blueWardsDestroyed              int64\n",
       "blueFirstBlood                  int64\n",
       "blueKills                       int64\n",
       "blueDeaths                      int64\n",
       "blueAssists                     int64\n",
       "blueEliteMonsters               int64\n",
       "blueDragons                     int64\n",
       "blueHeralds                     int64\n",
       "blueTowersDestroyed             int64\n",
       "blueTotalGold                   int64\n",
       "blueTotalExperience             int64\n",
       "blueTotalMinionsKilled          int64\n",
       "blueTotalJungleMinionsKilled    int64\n",
       "dtype: object"
      ]
     },
     "execution_count": 7,
     "metadata": {},
     "output_type": "execute_result"
    },
    {
     "data": {
      "application/javascript": [
       "\n",
       "            setTimeout(function() {\n",
       "                var nbb_cell_id = 7;\n",
       "                var nbb_unformatted_code = \"# Making sure the data is numeric\\nblue_lol.dtypes\";\n",
       "                var nbb_formatted_code = \"# Making sure the data is numeric\\nblue_lol.dtypes\";\n",
       "                var nbb_cells = Jupyter.notebook.get_cells();\n",
       "                for (var i = 0; i < nbb_cells.length; ++i) {\n",
       "                    if (nbb_cells[i].input_prompt_number == nbb_cell_id) {\n",
       "                        if (nbb_cells[i].get_text() == nbb_unformatted_code) {\n",
       "                             nbb_cells[i].set_text(nbb_formatted_code);\n",
       "                        }\n",
       "                        break;\n",
       "                    }\n",
       "                }\n",
       "            }, 500);\n",
       "            "
      ],
      "text/plain": [
       "<IPython.core.display.Javascript object>"
      ]
     },
     "metadata": {},
     "output_type": "display_data"
    }
   ],
   "source": [
    "# Making sure the data is numeric\n",
    "blue_lol.dtypes"
   ]
  },
  {
   "cell_type": "code",
   "execution_count": 8,
   "metadata": {},
   "outputs": [
    {
     "data": {
      "text/plain": [
       "0    9415\n",
       "1     429\n",
       "2      27\n",
       "3       7\n",
       "4       1\n",
       "Name: blueTowersDestroyed, dtype: int64"
      ]
     },
     "execution_count": 8,
     "metadata": {},
     "output_type": "execute_result"
    },
    {
     "data": {
      "application/javascript": [
       "\n",
       "            setTimeout(function() {\n",
       "                var nbb_cell_id = 8;\n",
       "                var nbb_unformatted_code = \"# not enough information, I chose to only keep data from 1 and 0 tower kills, which will also place this in bin_cols\\nblue_lol[\\\"blueTowersDestroyed\\\"].value_counts()\";\n",
       "                var nbb_formatted_code = \"# not enough information, I chose to only keep data from 1 and 0 tower kills, which will also place this in bin_cols\\nblue_lol[\\\"blueTowersDestroyed\\\"].value_counts()\";\n",
       "                var nbb_cells = Jupyter.notebook.get_cells();\n",
       "                for (var i = 0; i < nbb_cells.length; ++i) {\n",
       "                    if (nbb_cells[i].input_prompt_number == nbb_cell_id) {\n",
       "                        if (nbb_cells[i].get_text() == nbb_unformatted_code) {\n",
       "                             nbb_cells[i].set_text(nbb_formatted_code);\n",
       "                        }\n",
       "                        break;\n",
       "                    }\n",
       "                }\n",
       "            }, 500);\n",
       "            "
      ],
      "text/plain": [
       "<IPython.core.display.Javascript object>"
      ]
     },
     "metadata": {},
     "output_type": "display_data"
    }
   ],
   "source": [
    "# not enough information, I chose to only keep data from 1 and 0 tower kills, which will also place this in bin_cols\n",
    "blue_lol[\"blueTowersDestroyed\"].value_counts()"
   ]
  },
  {
   "cell_type": "code",
   "execution_count": 9,
   "metadata": {},
   "outputs": [
    {
     "data": {
      "application/javascript": [
       "\n",
       "            setTimeout(function() {\n",
       "                var nbb_cell_id = 9;\n",
       "                var nbb_unformatted_code = \"tower_counts = blue_lol[\\\"blueTowersDestroyed\\\"].value_counts()\\nkeep = tower_counts[tower_counts > 400].index\\nblue_lol = blue_lol[blue_lol[\\\"blueTowersDestroyed\\\"].isin(keep)]\";\n",
       "                var nbb_formatted_code = \"tower_counts = blue_lol[\\\"blueTowersDestroyed\\\"].value_counts()\\nkeep = tower_counts[tower_counts > 400].index\\nblue_lol = blue_lol[blue_lol[\\\"blueTowersDestroyed\\\"].isin(keep)]\";\n",
       "                var nbb_cells = Jupyter.notebook.get_cells();\n",
       "                for (var i = 0; i < nbb_cells.length; ++i) {\n",
       "                    if (nbb_cells[i].input_prompt_number == nbb_cell_id) {\n",
       "                        if (nbb_cells[i].get_text() == nbb_unformatted_code) {\n",
       "                             nbb_cells[i].set_text(nbb_formatted_code);\n",
       "                        }\n",
       "                        break;\n",
       "                    }\n",
       "                }\n",
       "            }, 500);\n",
       "            "
      ],
      "text/plain": [
       "<IPython.core.display.Javascript object>"
      ]
     },
     "metadata": {},
     "output_type": "display_data"
    }
   ],
   "source": [
    "tower_counts = blue_lol[\"blueTowersDestroyed\"].value_counts()\n",
    "keep = tower_counts[tower_counts > 400].index\n",
    "blue_lol = blue_lol[blue_lol[\"blueTowersDestroyed\"].isin(keep)]"
   ]
  },
  {
   "cell_type": "markdown",
   "metadata": {},
   "source": [
    "# Clustering"
   ]
  },
  {
   "cell_type": "markdown",
   "metadata": {},
   "source": [
    "I will be performing 3 dimensionality reduction methods (PCA, t-SNE, UMAP) on 4 clustering methods (KMeans, DBSCAN, Agglomerative, GMM).\n",
    "\n",
    "First I will apply PCA to the 4 different methods. Since I am applying PCA it is important to scale and standardize the data."
   ]
  },
  {
   "cell_type": "code",
   "execution_count": 12,
   "metadata": {},
   "outputs": [
    {
     "data": {
      "application/javascript": [
       "\n",
       "            setTimeout(function() {\n",
       "                var nbb_cell_id = 12;\n",
       "                var nbb_unformatted_code = \"scaler = StandardScaler()\\nX_std = scaler.fit_transform(blue_lol)\";\n",
       "                var nbb_formatted_code = \"scaler = StandardScaler()\\nX_std = scaler.fit_transform(blue_lol)\";\n",
       "                var nbb_cells = Jupyter.notebook.get_cells();\n",
       "                for (var i = 0; i < nbb_cells.length; ++i) {\n",
       "                    if (nbb_cells[i].input_prompt_number == nbb_cell_id) {\n",
       "                        if (nbb_cells[i].get_text() == nbb_unformatted_code) {\n",
       "                             nbb_cells[i].set_text(nbb_formatted_code);\n",
       "                        }\n",
       "                        break;\n",
       "                    }\n",
       "                }\n",
       "            }, 500);\n",
       "            "
      ],
      "text/plain": [
       "<IPython.core.display.Javascript object>"
      ]
     },
     "metadata": {},
     "output_type": "display_data"
    },
    {
     "data": {
      "application/javascript": [
       "\n",
       "            setTimeout(function() {\n",
       "                var nbb_cell_id = 12;\n",
       "                var nbb_unformatted_code = \"scaler = StandardScaler()\\nX_std = scaler.fit_transform(blue_lol)\";\n",
       "                var nbb_formatted_code = \"scaler = StandardScaler()\\nX_std = scaler.fit_transform(blue_lol)\";\n",
       "                var nbb_cells = Jupyter.notebook.get_cells();\n",
       "                for (var i = 0; i < nbb_cells.length; ++i) {\n",
       "                    if (nbb_cells[i].input_prompt_number == nbb_cell_id) {\n",
       "                        if (nbb_cells[i].get_text() == nbb_unformatted_code) {\n",
       "                             nbb_cells[i].set_text(nbb_formatted_code);\n",
       "                        }\n",
       "                        break;\n",
       "                    }\n",
       "                }\n",
       "            }, 500);\n",
       "            "
      ],
      "text/plain": [
       "<IPython.core.display.Javascript object>"
      ]
     },
     "metadata": {},
     "output_type": "display_data"
    }
   ],
   "source": [
    "scaler = StandardScaler()\n",
    "X_std = scaler.fit_transform(blue_lol)"
   ]
  },
  {
   "cell_type": "markdown",
   "metadata": {},
   "source": [
    "## Applying PCA to the Data"
   ]
  },
  {
   "cell_type": "code",
   "execution_count": 15,
   "metadata": {},
   "outputs": [
    {
     "data": {
      "application/javascript": [
       "\n",
       "            setTimeout(function() {\n",
       "                var nbb_cell_id = 15;\n",
       "                var nbb_unformatted_code = \"# Computing the principal components\\npca = PCA()\\nX_pca = pca.fit_transform(X_std)\";\n",
       "                var nbb_formatted_code = \"# Computing the principal components\\npca = PCA()\\nX_pca = pca.fit_transform(X_std)\";\n",
       "                var nbb_cells = Jupyter.notebook.get_cells();\n",
       "                for (var i = 0; i < nbb_cells.length; ++i) {\n",
       "                    if (nbb_cells[i].input_prompt_number == nbb_cell_id) {\n",
       "                        if (nbb_cells[i].get_text() == nbb_unformatted_code) {\n",
       "                             nbb_cells[i].set_text(nbb_formatted_code);\n",
       "                        }\n",
       "                        break;\n",
       "                    }\n",
       "                }\n",
       "            }, 500);\n",
       "            "
      ],
      "text/plain": [
       "<IPython.core.display.Javascript object>"
      ]
     },
     "metadata": {},
     "output_type": "display_data"
    },
    {
     "data": {
      "application/javascript": [
       "\n",
       "            setTimeout(function() {\n",
       "                var nbb_cell_id = 15;\n",
       "                var nbb_unformatted_code = \"# Computing the principal components\\npca = PCA()\\nX_pca = pca.fit_transform(X_std)\";\n",
       "                var nbb_formatted_code = \"# Computing the principal components\\npca = PCA()\\nX_pca = pca.fit_transform(X_std)\";\n",
       "                var nbb_cells = Jupyter.notebook.get_cells();\n",
       "                for (var i = 0; i < nbb_cells.length; ++i) {\n",
       "                    if (nbb_cells[i].input_prompt_number == nbb_cell_id) {\n",
       "                        if (nbb_cells[i].get_text() == nbb_unformatted_code) {\n",
       "                             nbb_cells[i].set_text(nbb_formatted_code);\n",
       "                        }\n",
       "                        break;\n",
       "                    }\n",
       "                }\n",
       "            }, 500);\n",
       "            "
      ],
      "text/plain": [
       "<IPython.core.display.Javascript object>"
      ]
     },
     "metadata": {},
     "output_type": "display_data"
    },
    {
     "data": {
      "application/javascript": [
       "\n",
       "            setTimeout(function() {\n",
       "                var nbb_cell_id = 15;\n",
       "                var nbb_unformatted_code = \"# Computing the principal components\\npca = PCA()\\nX_pca = pca.fit_transform(X_std)\";\n",
       "                var nbb_formatted_code = \"# Computing the principal components\\npca = PCA()\\nX_pca = pca.fit_transform(X_std)\";\n",
       "                var nbb_cells = Jupyter.notebook.get_cells();\n",
       "                for (var i = 0; i < nbb_cells.length; ++i) {\n",
       "                    if (nbb_cells[i].input_prompt_number == nbb_cell_id) {\n",
       "                        if (nbb_cells[i].get_text() == nbb_unformatted_code) {\n",
       "                             nbb_cells[i].set_text(nbb_formatted_code);\n",
       "                        }\n",
       "                        break;\n",
       "                    }\n",
       "                }\n",
       "            }, 500);\n",
       "            "
      ],
      "text/plain": [
       "<IPython.core.display.Javascript object>"
      ]
     },
     "metadata": {},
     "output_type": "display_data"
    }
   ],
   "source": [
    "# Computing the principal components\n",
    "pca = PCA()\n",
    "X_pca = pca.fit_transform(X_std)"
   ]
  },
  {
   "cell_type": "code",
   "execution_count": 23,
   "metadata": {},
   "outputs": [
    {
     "data": {
      "text/plain": [
       "array([2.63615377e-01, 1.39023505e-01, 1.09399601e-01, 7.60729176e-02,\n",
       "       6.90720604e-02, 6.70107832e-02, 6.28352930e-02, 5.41898004e-02,\n",
       "       5.00583999e-02, 4.74944385e-02, 3.34762755e-02, 1.73887245e-02,\n",
       "       8.17474884e-03, 2.18807605e-03, 4.56760035e-33])"
      ]
     },
     "execution_count": 23,
     "metadata": {},
     "output_type": "execute_result"
    },
    {
     "data": {
      "application/javascript": [
       "\n",
       "            setTimeout(function() {\n",
       "                var nbb_cell_id = 23;\n",
       "                var nbb_unformatted_code = \"pca.explained_variance_ratio_\";\n",
       "                var nbb_formatted_code = \"pca.explained_variance_ratio_\";\n",
       "                var nbb_cells = Jupyter.notebook.get_cells();\n",
       "                for (var i = 0; i < nbb_cells.length; ++i) {\n",
       "                    if (nbb_cells[i].input_prompt_number == nbb_cell_id) {\n",
       "                        if (nbb_cells[i].get_text() == nbb_unformatted_code) {\n",
       "                             nbb_cells[i].set_text(nbb_formatted_code);\n",
       "                        }\n",
       "                        break;\n",
       "                    }\n",
       "                }\n",
       "            }, 500);\n",
       "            "
      ],
      "text/plain": [
       "<IPython.core.display.Javascript object>"
      ]
     },
     "metadata": {},
     "output_type": "display_data"
    },
    {
     "data": {
      "application/javascript": [
       "\n",
       "            setTimeout(function() {\n",
       "                var nbb_cell_id = 23;\n",
       "                var nbb_unformatted_code = \"pca.explained_variance_ratio_\";\n",
       "                var nbb_formatted_code = \"pca.explained_variance_ratio_\";\n",
       "                var nbb_cells = Jupyter.notebook.get_cells();\n",
       "                for (var i = 0; i < nbb_cells.length; ++i) {\n",
       "                    if (nbb_cells[i].input_prompt_number == nbb_cell_id) {\n",
       "                        if (nbb_cells[i].get_text() == nbb_unformatted_code) {\n",
       "                             nbb_cells[i].set_text(nbb_formatted_code);\n",
       "                        }\n",
       "                        break;\n",
       "                    }\n",
       "                }\n",
       "            }, 500);\n",
       "            "
      ],
      "text/plain": [
       "<IPython.core.display.Javascript object>"
      ]
     },
     "metadata": {},
     "output_type": "display_data"
    },
    {
     "data": {
      "application/javascript": [
       "\n",
       "            setTimeout(function() {\n",
       "                var nbb_cell_id = 23;\n",
       "                var nbb_unformatted_code = \"pca.explained_variance_ratio_\";\n",
       "                var nbb_formatted_code = \"pca.explained_variance_ratio_\";\n",
       "                var nbb_cells = Jupyter.notebook.get_cells();\n",
       "                for (var i = 0; i < nbb_cells.length; ++i) {\n",
       "                    if (nbb_cells[i].input_prompt_number == nbb_cell_id) {\n",
       "                        if (nbb_cells[i].get_text() == nbb_unformatted_code) {\n",
       "                             nbb_cells[i].set_text(nbb_formatted_code);\n",
       "                        }\n",
       "                        break;\n",
       "                    }\n",
       "                }\n",
       "            }, 500);\n",
       "            "
      ],
      "text/plain": [
       "<IPython.core.display.Javascript object>"
      ]
     },
     "metadata": {},
     "output_type": "display_data"
    },
    {
     "data": {
      "application/javascript": [
       "\n",
       "            setTimeout(function() {\n",
       "                var nbb_cell_id = 23;\n",
       "                var nbb_unformatted_code = \"pca.explained_variance_ratio_\";\n",
       "                var nbb_formatted_code = \"pca.explained_variance_ratio_\";\n",
       "                var nbb_cells = Jupyter.notebook.get_cells();\n",
       "                for (var i = 0; i < nbb_cells.length; ++i) {\n",
       "                    if (nbb_cells[i].input_prompt_number == nbb_cell_id) {\n",
       "                        if (nbb_cells[i].get_text() == nbb_unformatted_code) {\n",
       "                             nbb_cells[i].set_text(nbb_formatted_code);\n",
       "                        }\n",
       "                        break;\n",
       "                    }\n",
       "                }\n",
       "            }, 500);\n",
       "            "
      ],
      "text/plain": [
       "<IPython.core.display.Javascript object>"
      ]
     },
     "metadata": {},
     "output_type": "display_data"
    }
   ],
   "source": [
    "pca.explained_variance_ratio_"
   ]
  },
  {
   "cell_type": "code",
   "execution_count": 21,
   "metadata": {},
   "outputs": [
    {
     "data": {
      "application/javascript": [
       "\n",
       "            setTimeout(function() {\n",
       "                var nbb_cell_id = 21;\n",
       "                var nbb_unformatted_code = \"# I plan to use the amount of components that add up to 90% variance.\\nn_components = np.sum(np.cumsum(pca.explained_variance_ratio_) < 0.90)\\nX_pca = X_pca[:, :n_components]\";\n",
       "                var nbb_formatted_code = \"# I plan to use the amount of components that add up to 90% variance.\\nn_components = np.sum(np.cumsum(pca.explained_variance_ratio_) < 0.90)\\nX_pca = X_pca[:, :n_components]\";\n",
       "                var nbb_cells = Jupyter.notebook.get_cells();\n",
       "                for (var i = 0; i < nbb_cells.length; ++i) {\n",
       "                    if (nbb_cells[i].input_prompt_number == nbb_cell_id) {\n",
       "                        if (nbb_cells[i].get_text() == nbb_unformatted_code) {\n",
       "                             nbb_cells[i].set_text(nbb_formatted_code);\n",
       "                        }\n",
       "                        break;\n",
       "                    }\n",
       "                }\n",
       "            }, 500);\n",
       "            "
      ],
      "text/plain": [
       "<IPython.core.display.Javascript object>"
      ]
     },
     "metadata": {},
     "output_type": "display_data"
    },
    {
     "data": {
      "application/javascript": [
       "\n",
       "            setTimeout(function() {\n",
       "                var nbb_cell_id = 21;\n",
       "                var nbb_unformatted_code = \"# I plan to use the amount of components that add up to 90% variance.\\nn_components = np.sum(np.cumsum(pca.explained_variance_ratio_) < 0.90)\\nX_pca = X_pca[:, :n_components]\";\n",
       "                var nbb_formatted_code = \"# I plan to use the amount of components that add up to 90% variance.\\nn_components = np.sum(np.cumsum(pca.explained_variance_ratio_) < 0.90)\\nX_pca = X_pca[:, :n_components]\";\n",
       "                var nbb_cells = Jupyter.notebook.get_cells();\n",
       "                for (var i = 0; i < nbb_cells.length; ++i) {\n",
       "                    if (nbb_cells[i].input_prompt_number == nbb_cell_id) {\n",
       "                        if (nbb_cells[i].get_text() == nbb_unformatted_code) {\n",
       "                             nbb_cells[i].set_text(nbb_formatted_code);\n",
       "                        }\n",
       "                        break;\n",
       "                    }\n",
       "                }\n",
       "            }, 500);\n",
       "            "
      ],
      "text/plain": [
       "<IPython.core.display.Javascript object>"
      ]
     },
     "metadata": {},
     "output_type": "display_data"
    },
    {
     "data": {
      "application/javascript": [
       "\n",
       "            setTimeout(function() {\n",
       "                var nbb_cell_id = 21;\n",
       "                var nbb_unformatted_code = \"# I plan to use the amount of components that add up to 90% variance.\\nn_components = np.sum(np.cumsum(pca.explained_variance_ratio_) < 0.90)\\nX_pca = X_pca[:, :n_components]\";\n",
       "                var nbb_formatted_code = \"# I plan to use the amount of components that add up to 90% variance.\\nn_components = np.sum(np.cumsum(pca.explained_variance_ratio_) < 0.90)\\nX_pca = X_pca[:, :n_components]\";\n",
       "                var nbb_cells = Jupyter.notebook.get_cells();\n",
       "                for (var i = 0; i < nbb_cells.length; ++i) {\n",
       "                    if (nbb_cells[i].input_prompt_number == nbb_cell_id) {\n",
       "                        if (nbb_cells[i].get_text() == nbb_unformatted_code) {\n",
       "                             nbb_cells[i].set_text(nbb_formatted_code);\n",
       "                        }\n",
       "                        break;\n",
       "                    }\n",
       "                }\n",
       "            }, 500);\n",
       "            "
      ],
      "text/plain": [
       "<IPython.core.display.Javascript object>"
      ]
     },
     "metadata": {},
     "output_type": "display_data"
    },
    {
     "data": {
      "application/javascript": [
       "\n",
       "            setTimeout(function() {\n",
       "                var nbb_cell_id = 21;\n",
       "                var nbb_unformatted_code = \"# I plan to use the amount of components that add up to 90% variance.\\nn_components = np.sum(np.cumsum(pca.explained_variance_ratio_) < 0.90)\\nX_pca = X_pca[:, :n_components]\";\n",
       "                var nbb_formatted_code = \"# I plan to use the amount of components that add up to 90% variance.\\nn_components = np.sum(np.cumsum(pca.explained_variance_ratio_) < 0.90)\\nX_pca = X_pca[:, :n_components]\";\n",
       "                var nbb_cells = Jupyter.notebook.get_cells();\n",
       "                for (var i = 0; i < nbb_cells.length; ++i) {\n",
       "                    if (nbb_cells[i].input_prompt_number == nbb_cell_id) {\n",
       "                        if (nbb_cells[i].get_text() == nbb_unformatted_code) {\n",
       "                             nbb_cells[i].set_text(nbb_formatted_code);\n",
       "                        }\n",
       "                        break;\n",
       "                    }\n",
       "                }\n",
       "            }, 500);\n",
       "            "
      ],
      "text/plain": [
       "<IPython.core.display.Javascript object>"
      ]
     },
     "metadata": {},
     "output_type": "display_data"
    }
   ],
   "source": [
    "# I plan to use the amount of components that add up to 90% variance.\n",
    "n_components = np.sum(np.cumsum(pca.explained_variance_ratio_) < 0.90)\n",
    "X_pca = X_pca[:, :n_components]"
   ]
  },
  {
   "cell_type": "code",
   "execution_count": 24,
   "metadata": {},
   "outputs": [
    {
     "data": {
      "text/plain": [
       "9"
      ]
     },
     "execution_count": 24,
     "metadata": {},
     "output_type": "execute_result"
    },
    {
     "data": {
      "application/javascript": [
       "\n",
       "            setTimeout(function() {\n",
       "                var nbb_cell_id = 24;\n",
       "                var nbb_unformatted_code = \"# check to see the amount of components being used\\n# it appears 9 out of the 15 features add up to 90% variance\\nn_components\";\n",
       "                var nbb_formatted_code = \"# check to see the amount of components being used\\n# it appears 9 out of the 15 features add up to 90% variance\\nn_components\";\n",
       "                var nbb_cells = Jupyter.notebook.get_cells();\n",
       "                for (var i = 0; i < nbb_cells.length; ++i) {\n",
       "                    if (nbb_cells[i].input_prompt_number == nbb_cell_id) {\n",
       "                        if (nbb_cells[i].get_text() == nbb_unformatted_code) {\n",
       "                             nbb_cells[i].set_text(nbb_formatted_code);\n",
       "                        }\n",
       "                        break;\n",
       "                    }\n",
       "                }\n",
       "            }, 500);\n",
       "            "
      ],
      "text/plain": [
       "<IPython.core.display.Javascript object>"
      ]
     },
     "metadata": {},
     "output_type": "display_data"
    },
    {
     "data": {
      "application/javascript": [
       "\n",
       "            setTimeout(function() {\n",
       "                var nbb_cell_id = 24;\n",
       "                var nbb_unformatted_code = \"# check to see the amount of components being used\\n# it appears 9 out of the 15 features add up to 90% variance\\nn_components\";\n",
       "                var nbb_formatted_code = \"# check to see the amount of components being used\\n# it appears 9 out of the 15 features add up to 90% variance\\nn_components\";\n",
       "                var nbb_cells = Jupyter.notebook.get_cells();\n",
       "                for (var i = 0; i < nbb_cells.length; ++i) {\n",
       "                    if (nbb_cells[i].input_prompt_number == nbb_cell_id) {\n",
       "                        if (nbb_cells[i].get_text() == nbb_unformatted_code) {\n",
       "                             nbb_cells[i].set_text(nbb_formatted_code);\n",
       "                        }\n",
       "                        break;\n",
       "                    }\n",
       "                }\n",
       "            }, 500);\n",
       "            "
      ],
      "text/plain": [
       "<IPython.core.display.Javascript object>"
      ]
     },
     "metadata": {},
     "output_type": "display_data"
    },
    {
     "data": {
      "application/javascript": [
       "\n",
       "            setTimeout(function() {\n",
       "                var nbb_cell_id = 24;\n",
       "                var nbb_unformatted_code = \"# check to see the amount of components being used\\n# it appears 9 out of the 15 features add up to 90% variance\\nn_components\";\n",
       "                var nbb_formatted_code = \"# check to see the amount of components being used\\n# it appears 9 out of the 15 features add up to 90% variance\\nn_components\";\n",
       "                var nbb_cells = Jupyter.notebook.get_cells();\n",
       "                for (var i = 0; i < nbb_cells.length; ++i) {\n",
       "                    if (nbb_cells[i].input_prompt_number == nbb_cell_id) {\n",
       "                        if (nbb_cells[i].get_text() == nbb_unformatted_code) {\n",
       "                             nbb_cells[i].set_text(nbb_formatted_code);\n",
       "                        }\n",
       "                        break;\n",
       "                    }\n",
       "                }\n",
       "            }, 500);\n",
       "            "
      ],
      "text/plain": [
       "<IPython.core.display.Javascript object>"
      ]
     },
     "metadata": {},
     "output_type": "display_data"
    },
    {
     "data": {
      "application/javascript": [
       "\n",
       "            setTimeout(function() {\n",
       "                var nbb_cell_id = 24;\n",
       "                var nbb_unformatted_code = \"# check to see the amount of components being used\\n# it appears 9 out of the 15 features add up to 90% variance\\nn_components\";\n",
       "                var nbb_formatted_code = \"# check to see the amount of components being used\\n# it appears 9 out of the 15 features add up to 90% variance\\nn_components\";\n",
       "                var nbb_cells = Jupyter.notebook.get_cells();\n",
       "                for (var i = 0; i < nbb_cells.length; ++i) {\n",
       "                    if (nbb_cells[i].input_prompt_number == nbb_cell_id) {\n",
       "                        if (nbb_cells[i].get_text() == nbb_unformatted_code) {\n",
       "                             nbb_cells[i].set_text(nbb_formatted_code);\n",
       "                        }\n",
       "                        break;\n",
       "                    }\n",
       "                }\n",
       "            }, 500);\n",
       "            "
      ],
      "text/plain": [
       "<IPython.core.display.Javascript object>"
      ]
     },
     "metadata": {},
     "output_type": "display_data"
    }
   ],
   "source": [
    "# check to see the amount of components being used\n",
    "# it appears 9 out of the 15 features add up to 90% variance\n",
    "n_components"
   ]
  },
  {
   "cell_type": "code",
   "execution_count": 30,
   "metadata": {},
   "outputs": [
    {
     "data": {
      "image/png": "[encoded data removed]",
      "text/plain": [
       "<Figure size 432x288 with 1 Axes>"
      ]
     },
     "metadata": {
      "needs_background": "light"
     },
     "output_type": "display_data"
    },
    {
     "data": {
      "application/javascript": [
       "\n",
       "            setTimeout(function() {\n",
       "                var nbb_cell_id = 30;\n",
       "                var nbb_unformatted_code = \"# adding a scatterplot to visualize how the data was split using PCA\\n# just eyeballing the plot there does not appear to be any noticeable clusters. \\n# curious to see how each clustering method will split the data.\\nsns.scatterplot(X_pca[:, 0], X_pca[:, 1])\\nplt.title(\\\"Data Split by PCA\\\")\\nplt.show()\";\n",
       "                var nbb_formatted_code = \"# adding a scatterplot to visualize how the data was split using PCA\\n# just eyeballing the plot there does not appear to be any noticeable clusters.\\n# curious to see how each clustering method will split the data.\\nsns.scatterplot(X_pca[:, 0], X_pca[:, 1])\\nplt.title(\\\"Data Split by PCA\\\")\\nplt.show()\";\n",
       "                var nbb_cells = Jupyter.notebook.get_cells();\n",
       "                for (var i = 0; i < nbb_cells.length; ++i) {\n",
       "                    if (nbb_cells[i].input_prompt_number == nbb_cell_id) {\n",
       "                        if (nbb_cells[i].get_text() == nbb_unformatted_code) {\n",
       "                             nbb_cells[i].set_text(nbb_formatted_code);\n",
       "                        }\n",
       "                        break;\n",
       "                    }\n",
       "                }\n",
       "            }, 500);\n",
       "            "
      ],
      "text/plain": [
       "<IPython.core.display.Javascript object>"
      ]
     },
     "metadata": {},
     "output_type": "display_data"
    },
    {
     "data": {
      "application/javascript": [
       "\n",
       "            setTimeout(function() {\n",
       "                var nbb_cell_id = 30;\n",
       "                var nbb_unformatted_code = \"# adding a scatterplot to visualize how the data was split using PCA\\n# just eyeballing the plot there does not appear to be any noticeable clusters. \\n# curious to see how each clustering method will split the data.\\nsns.scatterplot(X_pca[:, 0], X_pca[:, 1])\\nplt.title(\\\"Data Split by PCA\\\")\\nplt.show()\";\n",
       "                var nbb_formatted_code = \"# adding a scatterplot to visualize how the data was split using PCA\\n# just eyeballing the plot there does not appear to be any noticeable clusters.\\n# curious to see how each clustering method will split the data.\\nsns.scatterplot(X_pca[:, 0], X_pca[:, 1])\\nplt.title(\\\"Data Split by PCA\\\")\\nplt.show()\";\n",
       "                var nbb_cells = Jupyter.notebook.get_cells();\n",
       "                for (var i = 0; i < nbb_cells.length; ++i) {\n",
       "                    if (nbb_cells[i].input_prompt_number == nbb_cell_id) {\n",
       "                        if (nbb_cells[i].get_text() == nbb_unformatted_code) {\n",
       "                             nbb_cells[i].set_text(nbb_formatted_code);\n",
       "                        }\n",
       "                        break;\n",
       "                    }\n",
       "                }\n",
       "            }, 500);\n",
       "            "
      ],
      "text/plain": [
       "<IPython.core.display.Javascript object>"
      ]
     },
     "metadata": {},
     "output_type": "display_data"
    },
    {
     "data": {
      "application/javascript": [
       "\n",
       "            setTimeout(function() {\n",
       "                var nbb_cell_id = 30;\n",
       "                var nbb_unformatted_code = \"# adding a scatterplot to visualize how the data was split using PCA\\n# just eyeballing the plot there does not appear to be any noticeable clusters. \\n# curious to see how each clustering method will split the data.\\nsns.scatterplot(X_pca[:, 0], X_pca[:, 1])\\nplt.title(\\\"Data Split by PCA\\\")\\nplt.show()\";\n",
       "                var nbb_formatted_code = \"# adding a scatterplot to visualize how the data was split using PCA\\n# just eyeballing the plot there does not appear to be any noticeable clusters.\\n# curious to see how each clustering method will split the data.\\nsns.scatterplot(X_pca[:, 0], X_pca[:, 1])\\nplt.title(\\\"Data Split by PCA\\\")\\nplt.show()\";\n",
       "                var nbb_cells = Jupyter.notebook.get_cells();\n",
       "                for (var i = 0; i < nbb_cells.length; ++i) {\n",
       "                    if (nbb_cells[i].input_prompt_number == nbb_cell_id) {\n",
       "                        if (nbb_cells[i].get_text() == nbb_unformatted_code) {\n",
       "                             nbb_cells[i].set_text(nbb_formatted_code);\n",
       "                        }\n",
       "                        break;\n",
       "                    }\n",
       "                }\n",
       "            }, 500);\n",
       "            "
      ],
      "text/plain": [
       "<IPython.core.display.Javascript object>"
      ]
     },
     "metadata": {},
     "output_type": "display_data"
    },
    {
     "data": {
      "application/javascript": [
       "\n",
       "            setTimeout(function() {\n",
       "                var nbb_cell_id = 30;\n",
       "                var nbb_unformatted_code = \"# adding a scatterplot to visualize how the data was split using PCA\\n# just eyeballing the plot there does not appear to be any noticeable clusters. \\n# curious to see how each clustering method will split the data.\\nsns.scatterplot(X_pca[:, 0], X_pca[:, 1])\\nplt.title(\\\"Data Split by PCA\\\")\\nplt.show()\";\n",
       "                var nbb_formatted_code = \"# adding a scatterplot to visualize how the data was split using PCA\\n# just eyeballing the plot there does not appear to be any noticeable clusters.\\n# curious to see how each clustering method will split the data.\\nsns.scatterplot(X_pca[:, 0], X_pca[:, 1])\\nplt.title(\\\"Data Split by PCA\\\")\\nplt.show()\";\n",
       "                var nbb_cells = Jupyter.notebook.get_cells();\n",
       "                for (var i = 0; i < nbb_cells.length; ++i) {\n",
       "                    if (nbb_cells[i].input_prompt_number == nbb_cell_id) {\n",
       "                        if (nbb_cells[i].get_text() == nbb_unformatted_code) {\n",
       "                             nbb_cells[i].set_text(nbb_formatted_code);\n",
       "                        }\n",
       "                        break;\n",
       "                    }\n",
       "                }\n",
       "            }, 500);\n",
       "            "
      ],
      "text/plain": [
       "<IPython.core.display.Javascript object>"
      ]
     },
     "metadata": {},
     "output_type": "display_data"
    },
    {
     "data": {
      "application/javascript": [
       "\n",
       "            setTimeout(function() {\n",
       "                var nbb_cell_id = 30;\n",
       "                var nbb_unformatted_code = \"# adding a scatterplot to visualize how the data was split using PCA\\n# just eyeballing the plot there does not appear to be any noticeable clusters. \\n# curious to see how each clustering method will split the data.\\nsns.scatterplot(X_pca[:, 0], X_pca[:, 1])\\nplt.title(\\\"Data Split by PCA\\\")\\nplt.show()\";\n",
       "                var nbb_formatted_code = \"# adding a scatterplot to visualize how the data was split using PCA\\n# just eyeballing the plot there does not appear to be any noticeable clusters.\\n# curious to see how each clustering method will split the data.\\nsns.scatterplot(X_pca[:, 0], X_pca[:, 1])\\nplt.title(\\\"Data Split by PCA\\\")\\nplt.show()\";\n",
       "                var nbb_cells = Jupyter.notebook.get_cells();\n",
       "                for (var i = 0; i < nbb_cells.length; ++i) {\n",
       "                    if (nbb_cells[i].input_prompt_number == nbb_cell_id) {\n",
       "                        if (nbb_cells[i].get_text() == nbb_unformatted_code) {\n",
       "                             nbb_cells[i].set_text(nbb_formatted_code);\n",
       "                        }\n",
       "                        break;\n",
       "                    }\n",
       "                }\n",
       "            }, 500);\n",
       "            "
      ],
      "text/plain": [
       "<IPython.core.display.Javascript object>"
      ]
     },
     "metadata": {},
     "output_type": "display_data"
    },
    {
     "data": {
      "application/javascript": [
       "\n",
       "            setTimeout(function() {\n",
       "                var nbb_cell_id = 30;\n",
       "                var nbb_unformatted_code = \"# adding a scatterplot to visualize how the data was split using PCA\\n# just eyeballing the plot there does not appear to be any noticeable clusters. \\n# curious to see how each clustering method will split the data.\\nsns.scatterplot(X_pca[:, 0], X_pca[:, 1])\\nplt.title(\\\"Data Split by PCA\\\")\\nplt.show()\";\n",
       "                var nbb_formatted_code = \"# adding a scatterplot to visualize how the data was split using PCA\\n# just eyeballing the plot there does not appear to be any noticeable clusters.\\n# curious to see how each clustering method will split the data.\\nsns.scatterplot(X_pca[:, 0], X_pca[:, 1])\\nplt.title(\\\"Data Split by PCA\\\")\\nplt.show()\";\n",
       "                var nbb_cells = Jupyter.notebook.get_cells();\n",
       "                for (var i = 0; i < nbb_cells.length; ++i) {\n",
       "                    if (nbb_cells[i].input_prompt_number == nbb_cell_id) {\n",
       "                        if (nbb_cells[i].get_text() == nbb_unformatted_code) {\n",
       "                             nbb_cells[i].set_text(nbb_formatted_code);\n",
       "                        }\n",
       "                        break;\n",
       "                    }\n",
       "                }\n",
       "            }, 500);\n",
       "            "
      ],
      "text/plain": [
       "<IPython.core.display.Javascript object>"
      ]
     },
     "metadata": {},
     "output_type": "display_data"
    },
    {
     "data": {
      "application/javascript": [
       "\n",
       "            setTimeout(function() {\n",
       "                var nbb_cell_id = 30;\n",
       "                var nbb_unformatted_code = \"# adding a scatterplot to visualize how the data was split using PCA\\n# just eyeballing the plot there does not appear to be any noticeable clusters. \\n# curious to see how each clustering method will split the data.\\nsns.scatterplot(X_pca[:, 0], X_pca[:, 1])\\nplt.title(\\\"Data Split by PCA\\\")\\nplt.show()\";\n",
       "                var nbb_formatted_code = \"# adding a scatterplot to visualize how the data was split using PCA\\n# just eyeballing the plot there does not appear to be any noticeable clusters.\\n# curious to see how each clustering method will split the data.\\nsns.scatterplot(X_pca[:, 0], X_pca[:, 1])\\nplt.title(\\\"Data Split by PCA\\\")\\nplt.show()\";\n",
       "                var nbb_cells = Jupyter.notebook.get_cells();\n",
       "                for (var i = 0; i < nbb_cells.length; ++i) {\n",
       "                    if (nbb_cells[i].input_prompt_number == nbb_cell_id) {\n",
       "                        if (nbb_cells[i].get_text() == nbb_unformatted_code) {\n",
       "                             nbb_cells[i].set_text(nbb_formatted_code);\n",
       "                        }\n",
       "                        break;\n",
       "                    }\n",
       "                }\n",
       "            }, 500);\n",
       "            "
      ],
      "text/plain": [
       "<IPython.core.display.Javascript object>"
      ]
     },
     "metadata": {},
     "output_type": "display_data"
    }
   ],
   "source": [
    "# adding a scatterplot to visualize how the data was split using PCA\n",
    "# just eyeballing the plot there does not appear to be any noticeable clusters.\n",
    "# curious to see how each clustering method will split the data.\n",
    "sns.scatterplot(X_pca[:, 0], X_pca[:, 1])\n",
    "plt.title(\"Data Split by PCA\")\n",
    "plt.show()"
   ]
  },
  {
   "cell_type": "markdown",
   "metadata": {},
   "source": [
    "## Applying KMeans to the Data"
   ]
  },
  {
   "cell_type": "markdown",
   "metadata": {},
   "source": [
    "To keep cluster results consistant I am applying a random state of 13 so when I close the notebook and come back to it at later times my results will remain the same. I am choosing to create 3-10 clusters and compare those results."
   ]
  },
  {
   "cell_type": "code",
   "execution_count": 34,
   "metadata": {},
   "outputs": [
    {
     "name": "stdout",
     "output_type": "stream",
     "text": [
      "The Silhouette Score for 3 clusters: 0.17751553632732925\n",
      "The Silhouette Score for 4 clusters: 0.174171320226354\n",
      "The Silhouette Score for 5 clusters: 0.17591190406998541\n",
      "The Silhouette Score for 6 clusters: 0.1585760284556778\n",
      "The Silhouette Score for 7 clusters: 0.1640629407248322\n",
      "The Silhouette Score for 8 clusters: 0.16455040798973974\n",
      "The Silhouette Score for 9 clusters: 0.17027904442946798\n",
      "The Silhouette Score for 10 clusters: 0.16287427847191216\n"
     ]
    },
    {
     "data": {
      "application/javascript": [
       "\n",
       "            setTimeout(function() {\n",
       "                var nbb_cell_id = 34;\n",
       "                var nbb_unformatted_code = \"for c in range(3,11):\\n    km = KMeans(n_clusters=c, random_state=13)\\n    km.fit(X_pca)\\n    labels = km.fit_predict(X_pca)\\n    print(f'The Silhouette Score for {c} clusters: ' + str(metrics.silhouette_score(X_pca, labels, metric='euclidean')))\";\n",
       "                var nbb_formatted_code = \"for c in range(3, 11):\\n    km = KMeans(n_clusters=c, random_state=13)\\n    km.fit(X_pca)\\n    labels = km.fit_predict(X_pca)\\n    print(\\n        f\\\"The Silhouette Score for {c} clusters: \\\"\\n        + str(metrics.silhouette_score(X_pca, labels, metric=\\\"euclidean\\\"))\\n    )\";\n",
       "                var nbb_cells = Jupyter.notebook.get_cells();\n",
       "                for (var i = 0; i < nbb_cells.length; ++i) {\n",
       "                    if (nbb_cells[i].input_prompt_number == nbb_cell_id) {\n",
       "                        if (nbb_cells[i].get_text() == nbb_unformatted_code) {\n",
       "                             nbb_cells[i].set_text(nbb_formatted_code);\n",
       "                        }\n",
       "                        break;\n",
       "                    }\n",
       "                }\n",
       "            }, 500);\n",
       "            "
      ],
      "text/plain": [
       "<IPython.core.display.Javascript object>"
      ]
     },
     "metadata": {},
     "output_type": "display_data"
    },
    {
     "data": {
      "application/javascript": [
       "\n",
       "            setTimeout(function() {\n",
       "                var nbb_cell_id = 34;\n",
       "                var nbb_unformatted_code = \"for c in range(3,11):\\n    km = KMeans(n_clusters=c, random_state=13)\\n    km.fit(X_pca)\\n    labels = km.fit_predict(X_pca)\\n    print(f'The Silhouette Score for {c} clusters: ' + str(metrics.silhouette_score(X_pca, labels, metric='euclidean')))\";\n",
       "                var nbb_formatted_code = \"for c in range(3, 11):\\n    km = KMeans(n_clusters=c, random_state=13)\\n    km.fit(X_pca)\\n    labels = km.fit_predict(X_pca)\\n    print(\\n        f\\\"The Silhouette Score for {c} clusters: \\\"\\n        + str(metrics.silhouette_score(X_pca, labels, metric=\\\"euclidean\\\"))\\n    )\";\n",
       "                var nbb_cells = Jupyter.notebook.get_cells();\n",
       "                for (var i = 0; i < nbb_cells.length; ++i) {\n",
       "                    if (nbb_cells[i].input_prompt_number == nbb_cell_id) {\n",
       "                        if (nbb_cells[i].get_text() == nbb_unformatted_code) {\n",
       "                             nbb_cells[i].set_text(nbb_formatted_code);\n",
       "                        }\n",
       "                        break;\n",
       "                    }\n",
       "                }\n",
       "            }, 500);\n",
       "            "
      ],
      "text/plain": [
       "<IPython.core.display.Javascript object>"
      ]
     },
     "metadata": {},
     "output_type": "display_data"
    },
    {
     "data": {
      "application/javascript": [
       "\n",
       "            setTimeout(function() {\n",
       "                var nbb_cell_id = 34;\n",
       "                var nbb_unformatted_code = \"for c in range(3,11):\\n    km = KMeans(n_clusters=c, random_state=13)\\n    km.fit(X_pca)\\n    labels = km.fit_predict(X_pca)\\n    print(f'The Silhouette Score for {c} clusters: ' + str(metrics.silhouette_score(X_pca, labels, metric='euclidean')))\";\n",
       "                var nbb_formatted_code = \"for c in range(3, 11):\\n    km = KMeans(n_clusters=c, random_state=13)\\n    km.fit(X_pca)\\n    labels = km.fit_predict(X_pca)\\n    print(\\n        f\\\"The Silhouette Score for {c} clusters: \\\"\\n        + str(metrics.silhouette_score(X_pca, labels, metric=\\\"euclidean\\\"))\\n    )\";\n",
       "                var nbb_cells = Jupyter.notebook.get_cells();\n",
       "                for (var i = 0; i < nbb_cells.length; ++i) {\n",
       "                    if (nbb_cells[i].input_prompt_number == nbb_cell_id) {\n",
       "                        if (nbb_cells[i].get_text() == nbb_unformatted_code) {\n",
       "                             nbb_cells[i].set_text(nbb_formatted_code);\n",
       "                        }\n",
       "                        break;\n",
       "                    }\n",
       "                }\n",
       "            }, 500);\n",
       "            "
      ],
      "text/plain": [
       "<IPython.core.display.Javascript object>"
      ]
     },
     "metadata": {},
     "output_type": "display_data"
    },
    {
     "data": {
      "application/javascript": [
       "\n",
       "            setTimeout(function() {\n",
       "                var nbb_cell_id = 34;\n",
       "                var nbb_unformatted_code = \"for c in range(3,11):\\n    km = KMeans(n_clusters=c, random_state=13)\\n    km.fit(X_pca)\\n    labels = km.fit_predict(X_pca)\\n    print(f'The Silhouette Score for {c} clusters: ' + str(metrics.silhouette_score(X_pca, labels, metric='euclidean')))\";\n",
       "                var nbb_formatted_code = \"for c in range(3, 11):\\n    km = KMeans(n_clusters=c, random_state=13)\\n    km.fit(X_pca)\\n    labels = km.fit_predict(X_pca)\\n    print(\\n        f\\\"The Silhouette Score for {c} clusters: \\\"\\n        + str(metrics.silhouette_score(X_pca, labels, metric=\\\"euclidean\\\"))\\n    )\";\n",
       "                var nbb_cells = Jupyter.notebook.get_cells();\n",
       "                for (var i = 0; i < nbb_cells.length; ++i) {\n",
       "                    if (nbb_cells[i].input_prompt_number == nbb_cell_id) {\n",
       "                        if (nbb_cells[i].get_text() == nbb_unformatted_code) {\n",
       "                             nbb_cells[i].set_text(nbb_formatted_code);\n",
       "                        }\n",
       "                        break;\n",
       "                    }\n",
       "                }\n",
       "            }, 500);\n",
       "            "
      ],
      "text/plain": [
       "<IPython.core.display.Javascript object>"
      ]
     },
     "metadata": {},
     "output_type": "display_data"
    },
    {
     "data": {
      "application/javascript": [
       "\n",
       "            setTimeout(function() {\n",
       "                var nbb_cell_id = 34;\n",
       "                var nbb_unformatted_code = \"for c in range(3,11):\\n    km = KMeans(n_clusters=c, random_state=13)\\n    km.fit(X_pca)\\n    labels = km.fit_predict(X_pca)\\n    print(f'The Silhouette Score for {c} clusters: ' + str(metrics.silhouette_score(X_pca, labels, metric='euclidean')))\";\n",
       "                var nbb_formatted_code = \"for c in range(3, 11):\\n    km = KMeans(n_clusters=c, random_state=13)\\n    km.fit(X_pca)\\n    labels = km.fit_predict(X_pca)\\n    print(\\n        f\\\"The Silhouette Score for {c} clusters: \\\"\\n        + str(metrics.silhouette_score(X_pca, labels, metric=\\\"euclidean\\\"))\\n    )\";\n",
       "                var nbb_cells = Jupyter.notebook.get_cells();\n",
       "                for (var i = 0; i < nbb_cells.length; ++i) {\n",
       "                    if (nbb_cells[i].input_prompt_number == nbb_cell_id) {\n",
       "                        if (nbb_cells[i].get_text() == nbb_unformatted_code) {\n",
       "                             nbb_cells[i].set_text(nbb_formatted_code);\n",
       "                        }\n",
       "                        break;\n",
       "                    }\n",
       "                }\n",
       "            }, 500);\n",
       "            "
      ],
      "text/plain": [
       "<IPython.core.display.Javascript object>"
      ]
     },
     "metadata": {},
     "output_type": "display_data"
    },
    {
     "data": {
      "application/javascript": [
       "\n",
       "            setTimeout(function() {\n",
       "                var nbb_cell_id = 34;\n",
       "                var nbb_unformatted_code = \"for c in range(3,11):\\n    km = KMeans(n_clusters=c, random_state=13)\\n    km.fit(X_pca)\\n    labels = km.fit_predict(X_pca)\\n    print(f'The Silhouette Score for {c} clusters: ' + str(metrics.silhouette_score(X_pca, labels, metric='euclidean')))\";\n",
       "                var nbb_formatted_code = \"for c in range(3, 11):\\n    km = KMeans(n_clusters=c, random_state=13)\\n    km.fit(X_pca)\\n    labels = km.fit_predict(X_pca)\\n    print(\\n        f\\\"The Silhouette Score for {c} clusters: \\\"\\n        + str(metrics.silhouette_score(X_pca, labels, metric=\\\"euclidean\\\"))\\n    )\";\n",
       "                var nbb_cells = Jupyter.notebook.get_cells();\n",
       "                for (var i = 0; i < nbb_cells.length; ++i) {\n",
       "                    if (nbb_cells[i].input_prompt_number == nbb_cell_id) {\n",
       "                        if (nbb_cells[i].get_text() == nbb_unformatted_code) {\n",
       "                             nbb_cells[i].set_text(nbb_formatted_code);\n",
       "                        }\n",
       "                        break;\n",
       "                    }\n",
       "                }\n",
       "            }, 500);\n",
       "            "
      ],
      "text/plain": [
       "<IPython.core.display.Javascript object>"
      ]
     },
     "metadata": {},
     "output_type": "display_data"
    },
    {
     "data": {
      "application/javascript": [
       "\n",
       "            setTimeout(function() {\n",
       "                var nbb_cell_id = 34;\n",
       "                var nbb_unformatted_code = \"for c in range(3,11):\\n    km = KMeans(n_clusters=c, random_state=13)\\n    km.fit(X_pca)\\n    labels = km.fit_predict(X_pca)\\n    print(f'The Silhouette Score for {c} clusters: ' + str(metrics.silhouette_score(X_pca, labels, metric='euclidean')))\";\n",
       "                var nbb_formatted_code = \"for c in range(3, 11):\\n    km = KMeans(n_clusters=c, random_state=13)\\n    km.fit(X_pca)\\n    labels = km.fit_predict(X_pca)\\n    print(\\n        f\\\"The Silhouette Score for {c} clusters: \\\"\\n        + str(metrics.silhouette_score(X_pca, labels, metric=\\\"euclidean\\\"))\\n    )\";\n",
       "                var nbb_cells = Jupyter.notebook.get_cells();\n",
       "                for (var i = 0; i < nbb_cells.length; ++i) {\n",
       "                    if (nbb_cells[i].input_prompt_number == nbb_cell_id) {\n",
       "                        if (nbb_cells[i].get_text() == nbb_unformatted_code) {\n",
       "                             nbb_cells[i].set_text(nbb_formatted_code);\n",
       "                        }\n",
       "                        break;\n",
       "                    }\n",
       "                }\n",
       "            }, 500);\n",
       "            "
      ],
      "text/plain": [
       "<IPython.core.display.Javascript object>"
      ]
     },
     "metadata": {},
     "output_type": "display_data"
    },
    {
     "data": {
      "application/javascript": [
       "\n",
       "            setTimeout(function() {\n",
       "                var nbb_cell_id = 34;\n",
       "                var nbb_unformatted_code = \"for c in range(3,11):\\n    km = KMeans(n_clusters=c, random_state=13)\\n    km.fit(X_pca)\\n    labels = km.fit_predict(X_pca)\\n    print(f'The Silhouette Score for {c} clusters: ' + str(metrics.silhouette_score(X_pca, labels, metric='euclidean')))\";\n",
       "                var nbb_formatted_code = \"for c in range(3, 11):\\n    km = KMeans(n_clusters=c, random_state=13)\\n    km.fit(X_pca)\\n    labels = km.fit_predict(X_pca)\\n    print(\\n        f\\\"The Silhouette Score for {c} clusters: \\\"\\n        + str(metrics.silhouette_score(X_pca, labels, metric=\\\"euclidean\\\"))\\n    )\";\n",
       "                var nbb_cells = Jupyter.notebook.get_cells();\n",
       "                for (var i = 0; i < nbb_cells.length; ++i) {\n",
       "                    if (nbb_cells[i].input_prompt_number == nbb_cell_id) {\n",
       "                        if (nbb_cells[i].get_text() == nbb_unformatted_code) {\n",
       "                             nbb_cells[i].set_text(nbb_formatted_code);\n",
       "                        }\n",
       "                        break;\n",
       "                    }\n",
       "                }\n",
       "            }, 500);\n",
       "            "
      ],
      "text/plain": [
       "<IPython.core.display.Javascript object>"
      ]
     },
     "metadata": {},
     "output_type": "display_data"
    },
    {
     "data": {
      "application/javascript": [
       "\n",
       "            setTimeout(function() {\n",
       "                var nbb_cell_id = 34;\n",
       "                var nbb_unformatted_code = \"for c in range(3,11):\\n    km = KMeans(n_clusters=c, random_state=13)\\n    km.fit(X_pca)\\n    labels = km.fit_predict(X_pca)\\n    print(f'The Silhouette Score for {c} clusters: ' + str(metrics.silhouette_score(X_pca, labels, metric='euclidean')))\";\n",
       "                var nbb_formatted_code = \"for c in range(3, 11):\\n    km = KMeans(n_clusters=c, random_state=13)\\n    km.fit(X_pca)\\n    labels = km.fit_predict(X_pca)\\n    print(\\n        f\\\"The Silhouette Score for {c} clusters: \\\"\\n        + str(metrics.silhouette_score(X_pca, labels, metric=\\\"euclidean\\\"))\\n    )\";\n",
       "                var nbb_cells = Jupyter.notebook.get_cells();\n",
       "                for (var i = 0; i < nbb_cells.length; ++i) {\n",
       "                    if (nbb_cells[i].input_prompt_number == nbb_cell_id) {\n",
       "                        if (nbb_cells[i].get_text() == nbb_unformatted_code) {\n",
       "                             nbb_cells[i].set_text(nbb_formatted_code);\n",
       "                        }\n",
       "                        break;\n",
       "                    }\n",
       "                }\n",
       "            }, 500);\n",
       "            "
      ],
      "text/plain": [
       "<IPython.core.display.Javascript object>"
      ]
     },
     "metadata": {},
     "output_type": "display_data"
    }
   ],
   "source": [
    "for c in range(3, 11):\n",
    "    km = KMeans(n_clusters=c, random_state=13)\n",
    "    km.fit(X_pca)\n",
    "    labels = km.fit_predict(X_pca)\n",
    "    print(\n",
    "        f\"The Silhouette Score for {c} clusters: \"\n",
    "        + str(metrics.silhouette_score(X_pca, labels, metric=\"euclidean\"))\n",
    "    )"
   ]
  },
  {
   "cell_type": "markdown",
   "metadata": {},
   "source": [
    "It appears KMeans with PCA and 3 clusters provides the best silhouette score of around 0.178. \n",
    "\n",
    "*Note: This score is relatively low.*"
   ]
  },
  {
   "cell_type": "markdown",
   "metadata": {},
   "source": [
    "## Applying DBSCAN to the Data"
   ]
  },
  {
   "cell_type": "code",
   "execution_count": 48,
   "metadata": {
    "scrolled": true
   },
   "outputs": [
    {
     "name": "stdout",
     "output_type": "stream",
     "text": [
      "The number of clusters when epsilon = 1 is: 26 \n",
      "26 cluster score: \n",
      "-0.13906358366571828\n",
      "The number of clusters when epsilon = 1.5 is: 14 \n",
      "14 cluster score: \n",
      "0.14739303978293924\n",
      "The number of clusters when epsilon = 2 is: 10 \n",
      "10 cluster score: \n",
      "0.17724452791750125\n",
      "The number of clusters when epsilon = 2.5 is: 7 \n",
      "7 cluster score: \n",
      "0.1852872463222325\n",
      "The number of clusters when epsilon = 3 is: 3 \n",
      "3 cluster score: \n",
      "0.3555809507181026\n",
      "The number of clusters when epsilon = 3.5 is: 3 \n",
      "3 cluster score: \n",
      "0.35767014679235165\n",
      "The number of clusters when epsilon = 4 is: 3 \n",
      "3 cluster score: \n",
      "0.35815449702653096\n",
      "The number of clusters when epsilon = 4.5 is: 3 \n",
      "3 cluster score: \n",
      "0.35896084731457545\n",
      "The number of clusters when epsilon = 5 is: 2 \n",
      "2 cluster score: \n",
      "0.5470454920663432\n"
     ]
    },
    {
     "data": {
      "application/javascript": [
       "\n",
       "            setTimeout(function() {\n",
       "                var nbb_cell_id = 48;\n",
       "                var nbb_unformatted_code = \"for e in (1,1.5,2,2.5,3,3.5,4,4.5,5):\\n    db = DBSCAN(eps=e)\\n    clusters = db.fit_predict(X_pca)\\n    print('The number of clusters when epsilon = {} is: {} '.format(e, len(np.unique(clusters))))\\n    print(str(len(np.unique(clusters))) + \\\" cluster score: \\\")\\n    print(metrics.silhouette_score(X_pca, clusters, metric=\\\"euclidean\\\"))\";\n",
       "                var nbb_formatted_code = \"for e in (1, 1.5, 2, 2.5, 3, 3.5, 4, 4.5, 5):\\n    db = DBSCAN(eps=e)\\n    clusters = db.fit_predict(X_pca)\\n    print(\\n        \\\"The number of clusters when epsilon = {} is: {} \\\".format(\\n            e, len(np.unique(clusters))\\n        )\\n    )\\n    print(str(len(np.unique(clusters))) + \\\" cluster score: \\\")\\n    print(metrics.silhouette_score(X_pca, clusters, metric=\\\"euclidean\\\"))\";\n",
       "                var nbb_cells = Jupyter.notebook.get_cells();\n",
       "                for (var i = 0; i < nbb_cells.length; ++i) {\n",
       "                    if (nbb_cells[i].input_prompt_number == nbb_cell_id) {\n",
       "                        if (nbb_cells[i].get_text() == nbb_unformatted_code) {\n",
       "                             nbb_cells[i].set_text(nbb_formatted_code);\n",
       "                        }\n",
       "                        break;\n",
       "                    }\n",
       "                }\n",
       "            }, 500);\n",
       "            "
      ],
      "text/plain": [
       "<IPython.core.display.Javascript object>"
      ]
     },
     "metadata": {},
     "output_type": "display_data"
    },
    {
     "data": {
      "application/javascript": [
       "\n",
       "            setTimeout(function() {\n",
       "                var nbb_cell_id = 48;\n",
       "                var nbb_unformatted_code = \"for e in (1,1.5,2,2.5,3,3.5,4,4.5,5):\\n    db = DBSCAN(eps=e)\\n    clusters = db.fit_predict(X_pca)\\n    print('The number of clusters when epsilon = {} is: {} '.format(e, len(np.unique(clusters))))\\n    print(str(len(np.unique(clusters))) + \\\" cluster score: \\\")\\n    print(metrics.silhouette_score(X_pca, clusters, metric=\\\"euclidean\\\"))\";\n",
       "                var nbb_formatted_code = \"for e in (1, 1.5, 2, 2.5, 3, 3.5, 4, 4.5, 5):\\n    db = DBSCAN(eps=e)\\n    clusters = db.fit_predict(X_pca)\\n    print(\\n        \\\"The number of clusters when epsilon = {} is: {} \\\".format(\\n            e, len(np.unique(clusters))\\n        )\\n    )\\n    print(str(len(np.unique(clusters))) + \\\" cluster score: \\\")\\n    print(metrics.silhouette_score(X_pca, clusters, metric=\\\"euclidean\\\"))\";\n",
       "                var nbb_cells = Jupyter.notebook.get_cells();\n",
       "                for (var i = 0; i < nbb_cells.length; ++i) {\n",
       "                    if (nbb_cells[i].input_prompt_number == nbb_cell_id) {\n",
       "                        if (nbb_cells[i].get_text() == nbb_unformatted_code) {\n",
       "                             nbb_cells[i].set_text(nbb_formatted_code);\n",
       "                        }\n",
       "                        break;\n",
       "                    }\n",
       "                }\n",
       "            }, 500);\n",
       "            "
      ],
      "text/plain": [
       "<IPython.core.display.Javascript object>"
      ]
     },
     "metadata": {},
     "output_type": "display_data"
    },
    {
     "data": {
      "application/javascript": [
       "\n",
       "            setTimeout(function() {\n",
       "                var nbb_cell_id = 48;\n",
       "                var nbb_unformatted_code = \"for e in (1,1.5,2,2.5,3,3.5,4,4.5,5):\\n    db = DBSCAN(eps=e)\\n    clusters = db.fit_predict(X_pca)\\n    print('The number of clusters when epsilon = {} is: {} '.format(e, len(np.unique(clusters))))\\n    print(str(len(np.unique(clusters))) + \\\" cluster score: \\\")\\n    print(metrics.silhouette_score(X_pca, clusters, metric=\\\"euclidean\\\"))\";\n",
       "                var nbb_formatted_code = \"for e in (1, 1.5, 2, 2.5, 3, 3.5, 4, 4.5, 5):\\n    db = DBSCAN(eps=e)\\n    clusters = db.fit_predict(X_pca)\\n    print(\\n        \\\"The number of clusters when epsilon = {} is: {} \\\".format(\\n            e, len(np.unique(clusters))\\n        )\\n    )\\n    print(str(len(np.unique(clusters))) + \\\" cluster score: \\\")\\n    print(metrics.silhouette_score(X_pca, clusters, metric=\\\"euclidean\\\"))\";\n",
       "                var nbb_cells = Jupyter.notebook.get_cells();\n",
       "                for (var i = 0; i < nbb_cells.length; ++i) {\n",
       "                    if (nbb_cells[i].input_prompt_number == nbb_cell_id) {\n",
       "                        if (nbb_cells[i].get_text() == nbb_unformatted_code) {\n",
       "                             nbb_cells[i].set_text(nbb_formatted_code);\n",
       "                        }\n",
       "                        break;\n",
       "                    }\n",
       "                }\n",
       "            }, 500);\n",
       "            "
      ],
      "text/plain": [
       "<IPython.core.display.Javascript object>"
      ]
     },
     "metadata": {},
     "output_type": "display_data"
    },
    {
     "data": {
      "application/javascript": [
       "\n",
       "            setTimeout(function() {\n",
       "                var nbb_cell_id = 48;\n",
       "                var nbb_unformatted_code = \"for e in (1,1.5,2,2.5,3,3.5,4,4.5,5):\\n    db = DBSCAN(eps=e)\\n    clusters = db.fit_predict(X_pca)\\n    print('The number of clusters when epsilon = {} is: {} '.format(e, len(np.unique(clusters))))\\n    print(str(len(np.unique(clusters))) + \\\" cluster score: \\\")\\n    print(metrics.silhouette_score(X_pca, clusters, metric=\\\"euclidean\\\"))\";\n",
       "                var nbb_formatted_code = \"for e in (1, 1.5, 2, 2.5, 3, 3.5, 4, 4.5, 5):\\n    db = DBSCAN(eps=e)\\n    clusters = db.fit_predict(X_pca)\\n    print(\\n        \\\"The number of clusters when epsilon = {} is: {} \\\".format(\\n            e, len(np.unique(clusters))\\n        )\\n    )\\n    print(str(len(np.unique(clusters))) + \\\" cluster score: \\\")\\n    print(metrics.silhouette_score(X_pca, clusters, metric=\\\"euclidean\\\"))\";\n",
       "                var nbb_cells = Jupyter.notebook.get_cells();\n",
       "                for (var i = 0; i < nbb_cells.length; ++i) {\n",
       "                    if (nbb_cells[i].input_prompt_number == nbb_cell_id) {\n",
       "                        if (nbb_cells[i].get_text() == nbb_unformatted_code) {\n",
       "                             nbb_cells[i].set_text(nbb_formatted_code);\n",
       "                        }\n",
       "                        break;\n",
       "                    }\n",
       "                }\n",
       "            }, 500);\n",
       "            "
      ],
      "text/plain": [
       "<IPython.core.display.Javascript object>"
      ]
     },
     "metadata": {},
     "output_type": "display_data"
    },
    {
     "data": {
      "application/javascript": [
       "\n",
       "            setTimeout(function() {\n",
       "                var nbb_cell_id = 48;\n",
       "                var nbb_unformatted_code = \"for e in (1,1.5,2,2.5,3,3.5,4,4.5,5):\\n    db = DBSCAN(eps=e)\\n    clusters = db.fit_predict(X_pca)\\n    print('The number of clusters when epsilon = {} is: {} '.format(e, len(np.unique(clusters))))\\n    print(str(len(np.unique(clusters))) + \\\" cluster score: \\\")\\n    print(metrics.silhouette_score(X_pca, clusters, metric=\\\"euclidean\\\"))\";\n",
       "                var nbb_formatted_code = \"for e in (1, 1.5, 2, 2.5, 3, 3.5, 4, 4.5, 5):\\n    db = DBSCAN(eps=e)\\n    clusters = db.fit_predict(X_pca)\\n    print(\\n        \\\"The number of clusters when epsilon = {} is: {} \\\".format(\\n            e, len(np.unique(clusters))\\n        )\\n    )\\n    print(str(len(np.unique(clusters))) + \\\" cluster score: \\\")\\n    print(metrics.silhouette_score(X_pca, clusters, metric=\\\"euclidean\\\"))\";\n",
       "                var nbb_cells = Jupyter.notebook.get_cells();\n",
       "                for (var i = 0; i < nbb_cells.length; ++i) {\n",
       "                    if (nbb_cells[i].input_prompt_number == nbb_cell_id) {\n",
       "                        if (nbb_cells[i].get_text() == nbb_unformatted_code) {\n",
       "                             nbb_cells[i].set_text(nbb_formatted_code);\n",
       "                        }\n",
       "                        break;\n",
       "                    }\n",
       "                }\n",
       "            }, 500);\n",
       "            "
      ],
      "text/plain": [
       "<IPython.core.display.Javascript object>"
      ]
     },
     "metadata": {},
     "output_type": "display_data"
    },
    {
     "data": {
      "application/javascript": [
       "\n",
       "            setTimeout(function() {\n",
       "                var nbb_cell_id = 48;\n",
       "                var nbb_unformatted_code = \"for e in (1,1.5,2,2.5,3,3.5,4,4.5,5):\\n    db = DBSCAN(eps=e)\\n    clusters = db.fit_predict(X_pca)\\n    print('The number of clusters when epsilon = {} is: {} '.format(e, len(np.unique(clusters))))\\n    print(str(len(np.unique(clusters))) + \\\" cluster score: \\\")\\n    print(metrics.silhouette_score(X_pca, clusters, metric=\\\"euclidean\\\"))\";\n",
       "                var nbb_formatted_code = \"for e in (1, 1.5, 2, 2.5, 3, 3.5, 4, 4.5, 5):\\n    db = DBSCAN(eps=e)\\n    clusters = db.fit_predict(X_pca)\\n    print(\\n        \\\"The number of clusters when epsilon = {} is: {} \\\".format(\\n            e, len(np.unique(clusters))\\n        )\\n    )\\n    print(str(len(np.unique(clusters))) + \\\" cluster score: \\\")\\n    print(metrics.silhouette_score(X_pca, clusters, metric=\\\"euclidean\\\"))\";\n",
       "                var nbb_cells = Jupyter.notebook.get_cells();\n",
       "                for (var i = 0; i < nbb_cells.length; ++i) {\n",
       "                    if (nbb_cells[i].input_prompt_number == nbb_cell_id) {\n",
       "                        if (nbb_cells[i].get_text() == nbb_unformatted_code) {\n",
       "                             nbb_cells[i].set_text(nbb_formatted_code);\n",
       "                        }\n",
       "                        break;\n",
       "                    }\n",
       "                }\n",
       "            }, 500);\n",
       "            "
      ],
      "text/plain": [
       "<IPython.core.display.Javascript object>"
      ]
     },
     "metadata": {},
     "output_type": "display_data"
    },
    {
     "data": {
      "application/javascript": [
       "\n",
       "            setTimeout(function() {\n",
       "                var nbb_cell_id = 48;\n",
       "                var nbb_unformatted_code = \"for e in (1,1.5,2,2.5,3,3.5,4,4.5,5):\\n    db = DBSCAN(eps=e)\\n    clusters = db.fit_predict(X_pca)\\n    print('The number of clusters when epsilon = {} is: {} '.format(e, len(np.unique(clusters))))\\n    print(str(len(np.unique(clusters))) + \\\" cluster score: \\\")\\n    print(metrics.silhouette_score(X_pca, clusters, metric=\\\"euclidean\\\"))\";\n",
       "                var nbb_formatted_code = \"for e in (1, 1.5, 2, 2.5, 3, 3.5, 4, 4.5, 5):\\n    db = DBSCAN(eps=e)\\n    clusters = db.fit_predict(X_pca)\\n    print(\\n        \\\"The number of clusters when epsilon = {} is: {} \\\".format(\\n            e, len(np.unique(clusters))\\n        )\\n    )\\n    print(str(len(np.unique(clusters))) + \\\" cluster score: \\\")\\n    print(metrics.silhouette_score(X_pca, clusters, metric=\\\"euclidean\\\"))\";\n",
       "                var nbb_cells = Jupyter.notebook.get_cells();\n",
       "                for (var i = 0; i < nbb_cells.length; ++i) {\n",
       "                    if (nbb_cells[i].input_prompt_number == nbb_cell_id) {\n",
       "                        if (nbb_cells[i].get_text() == nbb_unformatted_code) {\n",
       "                             nbb_cells[i].set_text(nbb_formatted_code);\n",
       "                        }\n",
       "                        break;\n",
       "                    }\n",
       "                }\n",
       "            }, 500);\n",
       "            "
      ],
      "text/plain": [
       "<IPython.core.display.Javascript object>"
      ]
     },
     "metadata": {},
     "output_type": "display_data"
    },
    {
     "data": {
      "application/javascript": [
       "\n",
       "            setTimeout(function() {\n",
       "                var nbb_cell_id = 48;\n",
       "                var nbb_unformatted_code = \"for e in (1,1.5,2,2.5,3,3.5,4,4.5,5):\\n    db = DBSCAN(eps=e)\\n    clusters = db.fit_predict(X_pca)\\n    print('The number of clusters when epsilon = {} is: {} '.format(e, len(np.unique(clusters))))\\n    print(str(len(np.unique(clusters))) + \\\" cluster score: \\\")\\n    print(metrics.silhouette_score(X_pca, clusters, metric=\\\"euclidean\\\"))\";\n",
       "                var nbb_formatted_code = \"for e in (1, 1.5, 2, 2.5, 3, 3.5, 4, 4.5, 5):\\n    db = DBSCAN(eps=e)\\n    clusters = db.fit_predict(X_pca)\\n    print(\\n        \\\"The number of clusters when epsilon = {} is: {} \\\".format(\\n            e, len(np.unique(clusters))\\n        )\\n    )\\n    print(str(len(np.unique(clusters))) + \\\" cluster score: \\\")\\n    print(metrics.silhouette_score(X_pca, clusters, metric=\\\"euclidean\\\"))\";\n",
       "                var nbb_cells = Jupyter.notebook.get_cells();\n",
       "                for (var i = 0; i < nbb_cells.length; ++i) {\n",
       "                    if (nbb_cells[i].input_prompt_number == nbb_cell_id) {\n",
       "                        if (nbb_cells[i].get_text() == nbb_unformatted_code) {\n",
       "                             nbb_cells[i].set_text(nbb_formatted_code);\n",
       "                        }\n",
       "                        break;\n",
       "                    }\n",
       "                }\n",
       "            }, 500);\n",
       "            "
      ],
      "text/plain": [
       "<IPython.core.display.Javascript object>"
      ]
     },
     "metadata": {},
     "output_type": "display_data"
    },
    {
     "data": {
      "application/javascript": [
       "\n",
       "            setTimeout(function() {\n",
       "                var nbb_cell_id = 48;\n",
       "                var nbb_unformatted_code = \"for e in (1,1.5,2,2.5,3,3.5,4,4.5,5):\\n    db = DBSCAN(eps=e)\\n    clusters = db.fit_predict(X_pca)\\n    print('The number of clusters when epsilon = {} is: {} '.format(e, len(np.unique(clusters))))\\n    print(str(len(np.unique(clusters))) + \\\" cluster score: \\\")\\n    print(metrics.silhouette_score(X_pca, clusters, metric=\\\"euclidean\\\"))\";\n",
       "                var nbb_formatted_code = \"for e in (1, 1.5, 2, 2.5, 3, 3.5, 4, 4.5, 5):\\n    db = DBSCAN(eps=e)\\n    clusters = db.fit_predict(X_pca)\\n    print(\\n        \\\"The number of clusters when epsilon = {} is: {} \\\".format(\\n            e, len(np.unique(clusters))\\n        )\\n    )\\n    print(str(len(np.unique(clusters))) + \\\" cluster score: \\\")\\n    print(metrics.silhouette_score(X_pca, clusters, metric=\\\"euclidean\\\"))\";\n",
       "                var nbb_cells = Jupyter.notebook.get_cells();\n",
       "                for (var i = 0; i < nbb_cells.length; ++i) {\n",
       "                    if (nbb_cells[i].input_prompt_number == nbb_cell_id) {\n",
       "                        if (nbb_cells[i].get_text() == nbb_unformatted_code) {\n",
       "                             nbb_cells[i].set_text(nbb_formatted_code);\n",
       "                        }\n",
       "                        break;\n",
       "                    }\n",
       "                }\n",
       "            }, 500);\n",
       "            "
      ],
      "text/plain": [
       "<IPython.core.display.Javascript object>"
      ]
     },
     "metadata": {},
     "output_type": "display_data"
    },
    {
     "data": {
      "application/javascript": [
       "\n",
       "            setTimeout(function() {\n",
       "                var nbb_cell_id = 48;\n",
       "                var nbb_unformatted_code = \"for e in (1,1.5,2,2.5,3,3.5,4,4.5,5):\\n    db = DBSCAN(eps=e)\\n    clusters = db.fit_predict(X_pca)\\n    print('The number of clusters when epsilon = {} is: {} '.format(e, len(np.unique(clusters))))\\n    print(str(len(np.unique(clusters))) + \\\" cluster score: \\\")\\n    print(metrics.silhouette_score(X_pca, clusters, metric=\\\"euclidean\\\"))\";\n",
       "                var nbb_formatted_code = \"for e in (1, 1.5, 2, 2.5, 3, 3.5, 4, 4.5, 5):\\n    db = DBSCAN(eps=e)\\n    clusters = db.fit_predict(X_pca)\\n    print(\\n        \\\"The number of clusters when epsilon = {} is: {} \\\".format(\\n            e, len(np.unique(clusters))\\n        )\\n    )\\n    print(str(len(np.unique(clusters))) + \\\" cluster score: \\\")\\n    print(metrics.silhouette_score(X_pca, clusters, metric=\\\"euclidean\\\"))\";\n",
       "                var nbb_cells = Jupyter.notebook.get_cells();\n",
       "                for (var i = 0; i < nbb_cells.length; ++i) {\n",
       "                    if (nbb_cells[i].input_prompt_number == nbb_cell_id) {\n",
       "                        if (nbb_cells[i].get_text() == nbb_unformatted_code) {\n",
       "                             nbb_cells[i].set_text(nbb_formatted_code);\n",
       "                        }\n",
       "                        break;\n",
       "                    }\n",
       "                }\n",
       "            }, 500);\n",
       "            "
      ],
      "text/plain": [
       "<IPython.core.display.Javascript object>"
      ]
     },
     "metadata": {},
     "output_type": "display_data"
    },
    {
     "data": {
      "application/javascript": [
       "\n",
       "            setTimeout(function() {\n",
       "                var nbb_cell_id = 48;\n",
       "                var nbb_unformatted_code = \"for e in (1,1.5,2,2.5,3,3.5,4,4.5,5):\\n    db = DBSCAN(eps=e)\\n    clusters = db.fit_predict(X_pca)\\n    print('The number of clusters when epsilon = {} is: {} '.format(e, len(np.unique(clusters))))\\n    print(str(len(np.unique(clusters))) + \\\" cluster score: \\\")\\n    print(metrics.silhouette_score(X_pca, clusters, metric=\\\"euclidean\\\"))\";\n",
       "                var nbb_formatted_code = \"for e in (1, 1.5, 2, 2.5, 3, 3.5, 4, 4.5, 5):\\n    db = DBSCAN(eps=e)\\n    clusters = db.fit_predict(X_pca)\\n    print(\\n        \\\"The number of clusters when epsilon = {} is: {} \\\".format(\\n            e, len(np.unique(clusters))\\n        )\\n    )\\n    print(str(len(np.unique(clusters))) + \\\" cluster score: \\\")\\n    print(metrics.silhouette_score(X_pca, clusters, metric=\\\"euclidean\\\"))\";\n",
       "                var nbb_cells = Jupyter.notebook.get_cells();\n",
       "                for (var i = 0; i < nbb_cells.length; ++i) {\n",
       "                    if (nbb_cells[i].input_prompt_number == nbb_cell_id) {\n",
       "                        if (nbb_cells[i].get_text() == nbb_unformatted_code) {\n",
       "                             nbb_cells[i].set_text(nbb_formatted_code);\n",
       "                        }\n",
       "                        break;\n",
       "                    }\n",
       "                }\n",
       "            }, 500);\n",
       "            "
      ],
      "text/plain": [
       "<IPython.core.display.Javascript object>"
      ]
     },
     "metadata": {},
     "output_type": "display_data"
    }
   ],
   "source": [
    "for e in (1, 1.5, 2, 2.5, 3, 3.5, 4, 4.5, 5):\n",
    "    db = DBSCAN(eps=e)\n",
    "    clusters = db.fit_predict(X_pca)\n",
    "    print(\n",
    "        \"The number of clusters when epsilon = {} is: {} \".format(\n",
    "            e, len(np.unique(clusters))\n",
    "        )\n",
    "    )\n",
    "    print(str(len(np.unique(clusters))) + \" cluster score: \")\n",
    "    print(metrics.silhouette_score(X_pca, clusters, metric=\"euclidean\"))"
   ]
  },
  {
   "cell_type": "markdown",
   "metadata": {},
   "source": [
    "For DBSCAN I chose to only manipulate epsilon and leave the min samples alone. To my surprise, the Silhouette Scores obtained from this clustering method was much better than the other methods tested so far. The best epsilon is 5 and results in 2 clusters. This gives a Silhouette Score of 0.547."
   ]
  },
  {
   "cell_type": "markdown",
   "metadata": {},
   "source": [
    "## Applying Agglomerative Clustering to the Data"
   ]
  },
  {
   "cell_type": "markdown",
   "metadata": {},
   "source": [
    "For Agglomerative clustering since there are three ways to determine linkage (complete, average, ward), I will be creating 3-10 clusters for each of the three distance measurements."
   ]
  },
  {
   "cell_type": "code",
   "execution_count": 40,
   "metadata": {},
   "outputs": [
    {
     "name": "stdout",
     "output_type": "stream",
     "text": [
      "The Silhouette Score for 3 clusters is: 0.09001934310702729\n",
      "The Silhouette Score for 4 clusters is: 0.11991539369910201\n",
      "The Silhouette Score for 5 clusters is: 0.06609544253693514\n",
      "The Silhouette Score for 6 clusters is: 0.04219258073056444\n",
      "The Silhouette Score for 7 clusters is: 0.04612100051727293\n",
      "The Silhouette Score for 8 clusters is: 0.04484446937320177\n",
      "The Silhouette Score for 9 clusters is: 0.07202883401986299\n",
      "The Silhouette Score for 10 clusters is: 0.07641897618938209\n"
     ]
    },
    {
     "data": {
      "application/javascript": [
       "\n",
       "            setTimeout(function() {\n",
       "                var nbb_cell_id = 40;\n",
       "                var nbb_unformatted_code = \"for c in range(3, 11):\\n    agg_clstr = AgglomerativeClustering(\\n        linkage=\\\"complete\\\", affinity=\\\"cosine\\\", n_clusters=c\\n    )\\n    clusters = agg_clstr.fit_predict(X_pca)\\n\\n    print(\\n        \\\"The Silhouette Score for \\\"\\n        + str(c)\\n        + \\\" clusters is: \\\"\\n        + str(metrics.silhouette_score(X_pca, clusters, metric=\\\"euclidean\\\"))\\n    )\";\n",
       "                var nbb_formatted_code = \"for c in range(3, 11):\\n    agg_clstr = AgglomerativeClustering(\\n        linkage=\\\"complete\\\", affinity=\\\"cosine\\\", n_clusters=c\\n    )\\n    clusters = agg_clstr.fit_predict(X_pca)\\n\\n    print(\\n        \\\"The Silhouette Score for \\\"\\n        + str(c)\\n        + \\\" clusters is: \\\"\\n        + str(metrics.silhouette_score(X_pca, clusters, metric=\\\"euclidean\\\"))\\n    )\";\n",
       "                var nbb_cells = Jupyter.notebook.get_cells();\n",
       "                for (var i = 0; i < nbb_cells.length; ++i) {\n",
       "                    if (nbb_cells[i].input_prompt_number == nbb_cell_id) {\n",
       "                        if (nbb_cells[i].get_text() == nbb_unformatted_code) {\n",
       "                             nbb_cells[i].set_text(nbb_formatted_code);\n",
       "                        }\n",
       "                        break;\n",
       "                    }\n",
       "                }\n",
       "            }, 500);\n",
       "            "
      ],
      "text/plain": [
       "<IPython.core.display.Javascript object>"
      ]
     },
     "metadata": {},
     "output_type": "display_data"
    },
    {
     "data": {
      "application/javascript": [
       "\n",
       "            setTimeout(function() {\n",
       "                var nbb_cell_id = 40;\n",
       "                var nbb_unformatted_code = \"for c in range(3, 11):\\n    agg_clstr = AgglomerativeClustering(\\n        linkage=\\\"complete\\\", affinity=\\\"cosine\\\", n_clusters=c\\n    )\\n    clusters = agg_clstr.fit_predict(X_pca)\\n\\n    print(\\n        \\\"The Silhouette Score for \\\"\\n        + str(c)\\n        + \\\" clusters is: \\\"\\n        + str(metrics.silhouette_score(X_pca, clusters, metric=\\\"euclidean\\\"))\\n    )\";\n",
       "                var nbb_formatted_code = \"for c in range(3, 11):\\n    agg_clstr = AgglomerativeClustering(\\n        linkage=\\\"complete\\\", affinity=\\\"cosine\\\", n_clusters=c\\n    )\\n    clusters = agg_clstr.fit_predict(X_pca)\\n\\n    print(\\n        \\\"The Silhouette Score for \\\"\\n        + str(c)\\n        + \\\" clusters is: \\\"\\n        + str(metrics.silhouette_score(X_pca, clusters, metric=\\\"euclidean\\\"))\\n    )\";\n",
       "                var nbb_cells = Jupyter.notebook.get_cells();\n",
       "                for (var i = 0; i < nbb_cells.length; ++i) {\n",
       "                    if (nbb_cells[i].input_prompt_number == nbb_cell_id) {\n",
       "                        if (nbb_cells[i].get_text() == nbb_unformatted_code) {\n",
       "                             nbb_cells[i].set_text(nbb_formatted_code);\n",
       "                        }\n",
       "                        break;\n",
       "                    }\n",
       "                }\n",
       "            }, 500);\n",
       "            "
      ],
      "text/plain": [
       "<IPython.core.display.Javascript object>"
      ]
     },
     "metadata": {},
     "output_type": "display_data"
    },
    {
     "data": {
      "application/javascript": [
       "\n",
       "            setTimeout(function() {\n",
       "                var nbb_cell_id = 40;\n",
       "                var nbb_unformatted_code = \"for c in range(3, 11):\\n    agg_clstr = AgglomerativeClustering(\\n        linkage=\\\"complete\\\", affinity=\\\"cosine\\\", n_clusters=c\\n    )\\n    clusters = agg_clstr.fit_predict(X_pca)\\n\\n    print(\\n        \\\"The Silhouette Score for \\\"\\n        + str(c)\\n        + \\\" clusters is: \\\"\\n        + str(metrics.silhouette_score(X_pca, clusters, metric=\\\"euclidean\\\"))\\n    )\";\n",
       "                var nbb_formatted_code = \"for c in range(3, 11):\\n    agg_clstr = AgglomerativeClustering(\\n        linkage=\\\"complete\\\", affinity=\\\"cosine\\\", n_clusters=c\\n    )\\n    clusters = agg_clstr.fit_predict(X_pca)\\n\\n    print(\\n        \\\"The Silhouette Score for \\\"\\n        + str(c)\\n        + \\\" clusters is: \\\"\\n        + str(metrics.silhouette_score(X_pca, clusters, metric=\\\"euclidean\\\"))\\n    )\";\n",
       "                var nbb_cells = Jupyter.notebook.get_cells();\n",
       "                for (var i = 0; i < nbb_cells.length; ++i) {\n",
       "                    if (nbb_cells[i].input_prompt_number == nbb_cell_id) {\n",
       "                        if (nbb_cells[i].get_text() == nbb_unformatted_code) {\n",
       "                             nbb_cells[i].set_text(nbb_formatted_code);\n",
       "                        }\n",
       "                        break;\n",
       "                    }\n",
       "                }\n",
       "            }, 500);\n",
       "            "
      ],
      "text/plain": [
       "<IPython.core.display.Javascript object>"
      ]
     },
     "metadata": {},
     "output_type": "display_data"
    },
    {
     "data": {
      "application/javascript": [
       "\n",
       "            setTimeout(function() {\n",
       "                var nbb_cell_id = 40;\n",
       "                var nbb_unformatted_code = \"for c in range(3, 11):\\n    agg_clstr = AgglomerativeClustering(\\n        linkage=\\\"complete\\\", affinity=\\\"cosine\\\", n_clusters=c\\n    )\\n    clusters = agg_clstr.fit_predict(X_pca)\\n\\n    print(\\n        \\\"The Silhouette Score for \\\"\\n        + str(c)\\n        + \\\" clusters is: \\\"\\n        + str(metrics.silhouette_score(X_pca, clusters, metric=\\\"euclidean\\\"))\\n    )\";\n",
       "                var nbb_formatted_code = \"for c in range(3, 11):\\n    agg_clstr = AgglomerativeClustering(\\n        linkage=\\\"complete\\\", affinity=\\\"cosine\\\", n_clusters=c\\n    )\\n    clusters = agg_clstr.fit_predict(X_pca)\\n\\n    print(\\n        \\\"The Silhouette Score for \\\"\\n        + str(c)\\n        + \\\" clusters is: \\\"\\n        + str(metrics.silhouette_score(X_pca, clusters, metric=\\\"euclidean\\\"))\\n    )\";\n",
       "                var nbb_cells = Jupyter.notebook.get_cells();\n",
       "                for (var i = 0; i < nbb_cells.length; ++i) {\n",
       "                    if (nbb_cells[i].input_prompt_number == nbb_cell_id) {\n",
       "                        if (nbb_cells[i].get_text() == nbb_unformatted_code) {\n",
       "                             nbb_cells[i].set_text(nbb_formatted_code);\n",
       "                        }\n",
       "                        break;\n",
       "                    }\n",
       "                }\n",
       "            }, 500);\n",
       "            "
      ],
      "text/plain": [
       "<IPython.core.display.Javascript object>"
      ]
     },
     "metadata": {},
     "output_type": "display_data"
    },
    {
     "data": {
      "application/javascript": [
       "\n",
       "            setTimeout(function() {\n",
       "                var nbb_cell_id = 40;\n",
       "                var nbb_unformatted_code = \"for c in range(3, 11):\\n    agg_clstr = AgglomerativeClustering(\\n        linkage=\\\"complete\\\", affinity=\\\"cosine\\\", n_clusters=c\\n    )\\n    clusters = agg_clstr.fit_predict(X_pca)\\n\\n    print(\\n        \\\"The Silhouette Score for \\\"\\n        + str(c)\\n        + \\\" clusters is: \\\"\\n        + str(metrics.silhouette_score(X_pca, clusters, metric=\\\"euclidean\\\"))\\n    )\";\n",
       "                var nbb_formatted_code = \"for c in range(3, 11):\\n    agg_clstr = AgglomerativeClustering(\\n        linkage=\\\"complete\\\", affinity=\\\"cosine\\\", n_clusters=c\\n    )\\n    clusters = agg_clstr.fit_predict(X_pca)\\n\\n    print(\\n        \\\"The Silhouette Score for \\\"\\n        + str(c)\\n        + \\\" clusters is: \\\"\\n        + str(metrics.silhouette_score(X_pca, clusters, metric=\\\"euclidean\\\"))\\n    )\";\n",
       "                var nbb_cells = Jupyter.notebook.get_cells();\n",
       "                for (var i = 0; i < nbb_cells.length; ++i) {\n",
       "                    if (nbb_cells[i].input_prompt_number == nbb_cell_id) {\n",
       "                        if (nbb_cells[i].get_text() == nbb_unformatted_code) {\n",
       "                             nbb_cells[i].set_text(nbb_formatted_code);\n",
       "                        }\n",
       "                        break;\n",
       "                    }\n",
       "                }\n",
       "            }, 500);\n",
       "            "
      ],
      "text/plain": [
       "<IPython.core.display.Javascript object>"
      ]
     },
     "metadata": {},
     "output_type": "display_data"
    },
    {
     "data": {
      "application/javascript": [
       "\n",
       "            setTimeout(function() {\n",
       "                var nbb_cell_id = 40;\n",
       "                var nbb_unformatted_code = \"for c in range(3, 11):\\n    agg_clstr = AgglomerativeClustering(\\n        linkage=\\\"complete\\\", affinity=\\\"cosine\\\", n_clusters=c\\n    )\\n    clusters = agg_clstr.fit_predict(X_pca)\\n\\n    print(\\n        \\\"The Silhouette Score for \\\"\\n        + str(c)\\n        + \\\" clusters is: \\\"\\n        + str(metrics.silhouette_score(X_pca, clusters, metric=\\\"euclidean\\\"))\\n    )\";\n",
       "                var nbb_formatted_code = \"for c in range(3, 11):\\n    agg_clstr = AgglomerativeClustering(\\n        linkage=\\\"complete\\\", affinity=\\\"cosine\\\", n_clusters=c\\n    )\\n    clusters = agg_clstr.fit_predict(X_pca)\\n\\n    print(\\n        \\\"The Silhouette Score for \\\"\\n        + str(c)\\n        + \\\" clusters is: \\\"\\n        + str(metrics.silhouette_score(X_pca, clusters, metric=\\\"euclidean\\\"))\\n    )\";\n",
       "                var nbb_cells = Jupyter.notebook.get_cells();\n",
       "                for (var i = 0; i < nbb_cells.length; ++i) {\n",
       "                    if (nbb_cells[i].input_prompt_number == nbb_cell_id) {\n",
       "                        if (nbb_cells[i].get_text() == nbb_unformatted_code) {\n",
       "                             nbb_cells[i].set_text(nbb_formatted_code);\n",
       "                        }\n",
       "                        break;\n",
       "                    }\n",
       "                }\n",
       "            }, 500);\n",
       "            "
      ],
      "text/plain": [
       "<IPython.core.display.Javascript object>"
      ]
     },
     "metadata": {},
     "output_type": "display_data"
    },
    {
     "data": {
      "application/javascript": [
       "\n",
       "            setTimeout(function() {\n",
       "                var nbb_cell_id = 40;\n",
       "                var nbb_unformatted_code = \"for c in range(3, 11):\\n    agg_clstr = AgglomerativeClustering(\\n        linkage=\\\"complete\\\", affinity=\\\"cosine\\\", n_clusters=c\\n    )\\n    clusters = agg_clstr.fit_predict(X_pca)\\n\\n    print(\\n        \\\"The Silhouette Score for \\\"\\n        + str(c)\\n        + \\\" clusters is: \\\"\\n        + str(metrics.silhouette_score(X_pca, clusters, metric=\\\"euclidean\\\"))\\n    )\";\n",
       "                var nbb_formatted_code = \"for c in range(3, 11):\\n    agg_clstr = AgglomerativeClustering(\\n        linkage=\\\"complete\\\", affinity=\\\"cosine\\\", n_clusters=c\\n    )\\n    clusters = agg_clstr.fit_predict(X_pca)\\n\\n    print(\\n        \\\"The Silhouette Score for \\\"\\n        + str(c)\\n        + \\\" clusters is: \\\"\\n        + str(metrics.silhouette_score(X_pca, clusters, metric=\\\"euclidean\\\"))\\n    )\";\n",
       "                var nbb_cells = Jupyter.notebook.get_cells();\n",
       "                for (var i = 0; i < nbb_cells.length; ++i) {\n",
       "                    if (nbb_cells[i].input_prompt_number == nbb_cell_id) {\n",
       "                        if (nbb_cells[i].get_text() == nbb_unformatted_code) {\n",
       "                             nbb_cells[i].set_text(nbb_formatted_code);\n",
       "                        }\n",
       "                        break;\n",
       "                    }\n",
       "                }\n",
       "            }, 500);\n",
       "            "
      ],
      "text/plain": [
       "<IPython.core.display.Javascript object>"
      ]
     },
     "metadata": {},
     "output_type": "display_data"
    },
    {
     "data": {
      "application/javascript": [
       "\n",
       "            setTimeout(function() {\n",
       "                var nbb_cell_id = 40;\n",
       "                var nbb_unformatted_code = \"for c in range(3, 11):\\n    agg_clstr = AgglomerativeClustering(\\n        linkage=\\\"complete\\\", affinity=\\\"cosine\\\", n_clusters=c\\n    )\\n    clusters = agg_clstr.fit_predict(X_pca)\\n\\n    print(\\n        \\\"The Silhouette Score for \\\"\\n        + str(c)\\n        + \\\" clusters is: \\\"\\n        + str(metrics.silhouette_score(X_pca, clusters, metric=\\\"euclidean\\\"))\\n    )\";\n",
       "                var nbb_formatted_code = \"for c in range(3, 11):\\n    agg_clstr = AgglomerativeClustering(\\n        linkage=\\\"complete\\\", affinity=\\\"cosine\\\", n_clusters=c\\n    )\\n    clusters = agg_clstr.fit_predict(X_pca)\\n\\n    print(\\n        \\\"The Silhouette Score for \\\"\\n        + str(c)\\n        + \\\" clusters is: \\\"\\n        + str(metrics.silhouette_score(X_pca, clusters, metric=\\\"euclidean\\\"))\\n    )\";\n",
       "                var nbb_cells = Jupyter.notebook.get_cells();\n",
       "                for (var i = 0; i < nbb_cells.length; ++i) {\n",
       "                    if (nbb_cells[i].input_prompt_number == nbb_cell_id) {\n",
       "                        if (nbb_cells[i].get_text() == nbb_unformatted_code) {\n",
       "                             nbb_cells[i].set_text(nbb_formatted_code);\n",
       "                        }\n",
       "                        break;\n",
       "                    }\n",
       "                }\n",
       "            }, 500);\n",
       "            "
      ],
      "text/plain": [
       "<IPython.core.display.Javascript object>"
      ]
     },
     "metadata": {},
     "output_type": "display_data"
    },
    {
     "data": {
      "application/javascript": [
       "\n",
       "            setTimeout(function() {\n",
       "                var nbb_cell_id = 40;\n",
       "                var nbb_unformatted_code = \"for c in range(3, 11):\\n    agg_clstr = AgglomerativeClustering(\\n        linkage=\\\"complete\\\", affinity=\\\"cosine\\\", n_clusters=c\\n    )\\n    clusters = agg_clstr.fit_predict(X_pca)\\n\\n    print(\\n        \\\"The Silhouette Score for \\\"\\n        + str(c)\\n        + \\\" clusters is: \\\"\\n        + str(metrics.silhouette_score(X_pca, clusters, metric=\\\"euclidean\\\"))\\n    )\";\n",
       "                var nbb_formatted_code = \"for c in range(3, 11):\\n    agg_clstr = AgglomerativeClustering(\\n        linkage=\\\"complete\\\", affinity=\\\"cosine\\\", n_clusters=c\\n    )\\n    clusters = agg_clstr.fit_predict(X_pca)\\n\\n    print(\\n        \\\"The Silhouette Score for \\\"\\n        + str(c)\\n        + \\\" clusters is: \\\"\\n        + str(metrics.silhouette_score(X_pca, clusters, metric=\\\"euclidean\\\"))\\n    )\";\n",
       "                var nbb_cells = Jupyter.notebook.get_cells();\n",
       "                for (var i = 0; i < nbb_cells.length; ++i) {\n",
       "                    if (nbb_cells[i].input_prompt_number == nbb_cell_id) {\n",
       "                        if (nbb_cells[i].get_text() == nbb_unformatted_code) {\n",
       "                             nbb_cells[i].set_text(nbb_formatted_code);\n",
       "                        }\n",
       "                        break;\n",
       "                    }\n",
       "                }\n",
       "            }, 500);\n",
       "            "
      ],
      "text/plain": [
       "<IPython.core.display.Javascript object>"
      ]
     },
     "metadata": {},
     "output_type": "display_data"
    },
    {
     "data": {
      "application/javascript": [
       "\n",
       "            setTimeout(function() {\n",
       "                var nbb_cell_id = 40;\n",
       "                var nbb_unformatted_code = \"for c in range(3, 11):\\n    agg_clstr = AgglomerativeClustering(\\n        linkage=\\\"complete\\\", affinity=\\\"cosine\\\", n_clusters=c\\n    )\\n    clusters = agg_clstr.fit_predict(X_pca)\\n\\n    print(\\n        \\\"The Silhouette Score for \\\"\\n        + str(c)\\n        + \\\" clusters is: \\\"\\n        + str(metrics.silhouette_score(X_pca, clusters, metric=\\\"euclidean\\\"))\\n    )\";\n",
       "                var nbb_formatted_code = \"for c in range(3, 11):\\n    agg_clstr = AgglomerativeClustering(\\n        linkage=\\\"complete\\\", affinity=\\\"cosine\\\", n_clusters=c\\n    )\\n    clusters = agg_clstr.fit_predict(X_pca)\\n\\n    print(\\n        \\\"The Silhouette Score for \\\"\\n        + str(c)\\n        + \\\" clusters is: \\\"\\n        + str(metrics.silhouette_score(X_pca, clusters, metric=\\\"euclidean\\\"))\\n    )\";\n",
       "                var nbb_cells = Jupyter.notebook.get_cells();\n",
       "                for (var i = 0; i < nbb_cells.length; ++i) {\n",
       "                    if (nbb_cells[i].input_prompt_number == nbb_cell_id) {\n",
       "                        if (nbb_cells[i].get_text() == nbb_unformatted_code) {\n",
       "                             nbb_cells[i].set_text(nbb_formatted_code);\n",
       "                        }\n",
       "                        break;\n",
       "                    }\n",
       "                }\n",
       "            }, 500);\n",
       "            "
      ],
      "text/plain": [
       "<IPython.core.display.Javascript object>"
      ]
     },
     "metadata": {},
     "output_type": "display_data"
    },
    {
     "data": {
      "application/javascript": [
       "\n",
       "            setTimeout(function() {\n",
       "                var nbb_cell_id = 40;\n",
       "                var nbb_unformatted_code = \"for c in range(3, 11):\\n    agg_clstr = AgglomerativeClustering(\\n        linkage=\\\"complete\\\", affinity=\\\"cosine\\\", n_clusters=c\\n    )\\n    clusters = agg_clstr.fit_predict(X_pca)\\n\\n    print(\\n        \\\"The Silhouette Score for \\\"\\n        + str(c)\\n        + \\\" clusters is: \\\"\\n        + str(metrics.silhouette_score(X_pca, clusters, metric=\\\"euclidean\\\"))\\n    )\";\n",
       "                var nbb_formatted_code = \"for c in range(3, 11):\\n    agg_clstr = AgglomerativeClustering(\\n        linkage=\\\"complete\\\", affinity=\\\"cosine\\\", n_clusters=c\\n    )\\n    clusters = agg_clstr.fit_predict(X_pca)\\n\\n    print(\\n        \\\"The Silhouette Score for \\\"\\n        + str(c)\\n        + \\\" clusters is: \\\"\\n        + str(metrics.silhouette_score(X_pca, clusters, metric=\\\"euclidean\\\"))\\n    )\";\n",
       "                var nbb_cells = Jupyter.notebook.get_cells();\n",
       "                for (var i = 0; i < nbb_cells.length; ++i) {\n",
       "                    if (nbb_cells[i].input_prompt_number == nbb_cell_id) {\n",
       "                        if (nbb_cells[i].get_text() == nbb_unformatted_code) {\n",
       "                             nbb_cells[i].set_text(nbb_formatted_code);\n",
       "                        }\n",
       "                        break;\n",
       "                    }\n",
       "                }\n",
       "            }, 500);\n",
       "            "
      ],
      "text/plain": [
       "<IPython.core.display.Javascript object>"
      ]
     },
     "metadata": {},
     "output_type": "display_data"
    }
   ],
   "source": [
    "for c in range(3, 11):\n",
    "    agg_clstr = AgglomerativeClustering(\n",
    "        linkage=\"complete\", affinity=\"cosine\", n_clusters=c\n",
    "    )\n",
    "    clusters = agg_clstr.fit_predict(X_pca)\n",
    "\n",
    "    print(\n",
    "        \"The Silhouette Score for \"\n",
    "        + str(c)\n",
    "        + \" clusters is: \"\n",
    "        + str(metrics.silhouette_score(X_pca, clusters, metric=\"euclidean\"))\n",
    "    )"
   ]
  },
  {
   "cell_type": "code",
   "execution_count": 41,
   "metadata": {},
   "outputs": [
    {
     "name": "stdout",
     "output_type": "stream",
     "text": [
      "The Silhouette Score for 4 clusters is:0.16184144774615958\n",
      "The Silhouette Score for 5 clusters is:0.1233482760822222\n",
      "The Silhouette Score for 6 clusters is:0.15308406440632782\n",
      "The Silhouette Score for 7 clusters is:0.14755885940473779\n",
      "The Silhouette Score for 8 clusters is:0.14559854853705745\n",
      "The Silhouette Score for 9 clusters is:0.13021519019954858\n",
      "The Silhouette Score for 10 clusters is:0.11995913423793382\n"
     ]
    },
    {
     "data": {
      "application/javascript": [
       "\n",
       "            setTimeout(function() {\n",
       "                var nbb_cell_id = 41;\n",
       "                var nbb_unformatted_code = \"for c in range(4, 11):\\n    agg_clstr = AgglomerativeClustering(\\n        linkage=\\\"average\\\", affinity=\\\"cosine\\\", n_clusters=c\\n    )\\n    clusters = agg_clstr.fit_predict(X_pca)\\n\\n    print(\\n        \\\"The Silhouette Score for \\\"\\n        + str(c)\\n        + \\\" clusters is:\\\"\\n        + str(metrics.silhouette_score(X_pca, clusters, metric=\\\"euclidean\\\"))\\n    )\";\n",
       "                var nbb_formatted_code = \"for c in range(4, 11):\\n    agg_clstr = AgglomerativeClustering(\\n        linkage=\\\"average\\\", affinity=\\\"cosine\\\", n_clusters=c\\n    )\\n    clusters = agg_clstr.fit_predict(X_pca)\\n\\n    print(\\n        \\\"The Silhouette Score for \\\"\\n        + str(c)\\n        + \\\" clusters is:\\\"\\n        + str(metrics.silhouette_score(X_pca, clusters, metric=\\\"euclidean\\\"))\\n    )\";\n",
       "                var nbb_cells = Jupyter.notebook.get_cells();\n",
       "                for (var i = 0; i < nbb_cells.length; ++i) {\n",
       "                    if (nbb_cells[i].input_prompt_number == nbb_cell_id) {\n",
       "                        if (nbb_cells[i].get_text() == nbb_unformatted_code) {\n",
       "                             nbb_cells[i].set_text(nbb_formatted_code);\n",
       "                        }\n",
       "                        break;\n",
       "                    }\n",
       "                }\n",
       "            }, 500);\n",
       "            "
      ],
      "text/plain": [
       "<IPython.core.display.Javascript object>"
      ]
     },
     "metadata": {},
     "output_type": "display_data"
    },
    {
     "data": {
      "application/javascript": [
       "\n",
       "            setTimeout(function() {\n",
       "                var nbb_cell_id = 41;\n",
       "                var nbb_unformatted_code = \"for c in range(4, 11):\\n    agg_clstr = AgglomerativeClustering(\\n        linkage=\\\"average\\\", affinity=\\\"cosine\\\", n_clusters=c\\n    )\\n    clusters = agg_clstr.fit_predict(X_pca)\\n\\n    print(\\n        \\\"The Silhouette Score for \\\"\\n        + str(c)\\n        + \\\" clusters is:\\\"\\n        + str(metrics.silhouette_score(X_pca, clusters, metric=\\\"euclidean\\\"))\\n    )\";\n",
       "                var nbb_formatted_code = \"for c in range(4, 11):\\n    agg_clstr = AgglomerativeClustering(\\n        linkage=\\\"average\\\", affinity=\\\"cosine\\\", n_clusters=c\\n    )\\n    clusters = agg_clstr.fit_predict(X_pca)\\n\\n    print(\\n        \\\"The Silhouette Score for \\\"\\n        + str(c)\\n        + \\\" clusters is:\\\"\\n        + str(metrics.silhouette_score(X_pca, clusters, metric=\\\"euclidean\\\"))\\n    )\";\n",
       "                var nbb_cells = Jupyter.notebook.get_cells();\n",
       "                for (var i = 0; i < nbb_cells.length; ++i) {\n",
       "                    if (nbb_cells[i].input_prompt_number == nbb_cell_id) {\n",
       "                        if (nbb_cells[i].get_text() == nbb_unformatted_code) {\n",
       "                             nbb_cells[i].set_text(nbb_formatted_code);\n",
       "                        }\n",
       "                        break;\n",
       "                    }\n",
       "                }\n",
       "            }, 500);\n",
       "            "
      ],
      "text/plain": [
       "<IPython.core.display.Javascript object>"
      ]
     },
     "metadata": {},
     "output_type": "display_data"
    },
    {
     "data": {
      "application/javascript": [
       "\n",
       "            setTimeout(function() {\n",
       "                var nbb_cell_id = 41;\n",
       "                var nbb_unformatted_code = \"for c in range(4, 11):\\n    agg_clstr = AgglomerativeClustering(\\n        linkage=\\\"average\\\", affinity=\\\"cosine\\\", n_clusters=c\\n    )\\n    clusters = agg_clstr.fit_predict(X_pca)\\n\\n    print(\\n        \\\"The Silhouette Score for \\\"\\n        + str(c)\\n        + \\\" clusters is:\\\"\\n        + str(metrics.silhouette_score(X_pca, clusters, metric=\\\"euclidean\\\"))\\n    )\";\n",
       "                var nbb_formatted_code = \"for c in range(4, 11):\\n    agg_clstr = AgglomerativeClustering(\\n        linkage=\\\"average\\\", affinity=\\\"cosine\\\", n_clusters=c\\n    )\\n    clusters = agg_clstr.fit_predict(X_pca)\\n\\n    print(\\n        \\\"The Silhouette Score for \\\"\\n        + str(c)\\n        + \\\" clusters is:\\\"\\n        + str(metrics.silhouette_score(X_pca, clusters, metric=\\\"euclidean\\\"))\\n    )\";\n",
       "                var nbb_cells = Jupyter.notebook.get_cells();\n",
       "                for (var i = 0; i < nbb_cells.length; ++i) {\n",
       "                    if (nbb_cells[i].input_prompt_number == nbb_cell_id) {\n",
       "                        if (nbb_cells[i].get_text() == nbb_unformatted_code) {\n",
       "                             nbb_cells[i].set_text(nbb_formatted_code);\n",
       "                        }\n",
       "                        break;\n",
       "                    }\n",
       "                }\n",
       "            }, 500);\n",
       "            "
      ],
      "text/plain": [
       "<IPython.core.display.Javascript object>"
      ]
     },
     "metadata": {},
     "output_type": "display_data"
    },
    {
     "data": {
      "application/javascript": [
       "\n",
       "            setTimeout(function() {\n",
       "                var nbb_cell_id = 41;\n",
       "                var nbb_unformatted_code = \"for c in range(4, 11):\\n    agg_clstr = AgglomerativeClustering(\\n        linkage=\\\"average\\\", affinity=\\\"cosine\\\", n_clusters=c\\n    )\\n    clusters = agg_clstr.fit_predict(X_pca)\\n\\n    print(\\n        \\\"The Silhouette Score for \\\"\\n        + str(c)\\n        + \\\" clusters is:\\\"\\n        + str(metrics.silhouette_score(X_pca, clusters, metric=\\\"euclidean\\\"))\\n    )\";\n",
       "                var nbb_formatted_code = \"for c in range(4, 11):\\n    agg_clstr = AgglomerativeClustering(\\n        linkage=\\\"average\\\", affinity=\\\"cosine\\\", n_clusters=c\\n    )\\n    clusters = agg_clstr.fit_predict(X_pca)\\n\\n    print(\\n        \\\"The Silhouette Score for \\\"\\n        + str(c)\\n        + \\\" clusters is:\\\"\\n        + str(metrics.silhouette_score(X_pca, clusters, metric=\\\"euclidean\\\"))\\n    )\";\n",
       "                var nbb_cells = Jupyter.notebook.get_cells();\n",
       "                for (var i = 0; i < nbb_cells.length; ++i) {\n",
       "                    if (nbb_cells[i].input_prompt_number == nbb_cell_id) {\n",
       "                        if (nbb_cells[i].get_text() == nbb_unformatted_code) {\n",
       "                             nbb_cells[i].set_text(nbb_formatted_code);\n",
       "                        }\n",
       "                        break;\n",
       "                    }\n",
       "                }\n",
       "            }, 500);\n",
       "            "
      ],
      "text/plain": [
       "<IPython.core.display.Javascript object>"
      ]
     },
     "metadata": {},
     "output_type": "display_data"
    },
    {
     "data": {
      "application/javascript": [
       "\n",
       "            setTimeout(function() {\n",
       "                var nbb_cell_id = 41;\n",
       "                var nbb_unformatted_code = \"for c in range(4, 11):\\n    agg_clstr = AgglomerativeClustering(\\n        linkage=\\\"average\\\", affinity=\\\"cosine\\\", n_clusters=c\\n    )\\n    clusters = agg_clstr.fit_predict(X_pca)\\n\\n    print(\\n        \\\"The Silhouette Score for \\\"\\n        + str(c)\\n        + \\\" clusters is:\\\"\\n        + str(metrics.silhouette_score(X_pca, clusters, metric=\\\"euclidean\\\"))\\n    )\";\n",
       "                var nbb_formatted_code = \"for c in range(4, 11):\\n    agg_clstr = AgglomerativeClustering(\\n        linkage=\\\"average\\\", affinity=\\\"cosine\\\", n_clusters=c\\n    )\\n    clusters = agg_clstr.fit_predict(X_pca)\\n\\n    print(\\n        \\\"The Silhouette Score for \\\"\\n        + str(c)\\n        + \\\" clusters is:\\\"\\n        + str(metrics.silhouette_score(X_pca, clusters, metric=\\\"euclidean\\\"))\\n    )\";\n",
       "                var nbb_cells = Jupyter.notebook.get_cells();\n",
       "                for (var i = 0; i < nbb_cells.length; ++i) {\n",
       "                    if (nbb_cells[i].input_prompt_number == nbb_cell_id) {\n",
       "                        if (nbb_cells[i].get_text() == nbb_unformatted_code) {\n",
       "                             nbb_cells[i].set_text(nbb_formatted_code);\n",
       "                        }\n",
       "                        break;\n",
       "                    }\n",
       "                }\n",
       "            }, 500);\n",
       "            "
      ],
      "text/plain": [
       "<IPython.core.display.Javascript object>"
      ]
     },
     "metadata": {},
     "output_type": "display_data"
    },
    {
     "data": {
      "application/javascript": [
       "\n",
       "            setTimeout(function() {\n",
       "                var nbb_cell_id = 41;\n",
       "                var nbb_unformatted_code = \"for c in range(4, 11):\\n    agg_clstr = AgglomerativeClustering(\\n        linkage=\\\"average\\\", affinity=\\\"cosine\\\", n_clusters=c\\n    )\\n    clusters = agg_clstr.fit_predict(X_pca)\\n\\n    print(\\n        \\\"The Silhouette Score for \\\"\\n        + str(c)\\n        + \\\" clusters is:\\\"\\n        + str(metrics.silhouette_score(X_pca, clusters, metric=\\\"euclidean\\\"))\\n    )\";\n",
       "                var nbb_formatted_code = \"for c in range(4, 11):\\n    agg_clstr = AgglomerativeClustering(\\n        linkage=\\\"average\\\", affinity=\\\"cosine\\\", n_clusters=c\\n    )\\n    clusters = agg_clstr.fit_predict(X_pca)\\n\\n    print(\\n        \\\"The Silhouette Score for \\\"\\n        + str(c)\\n        + \\\" clusters is:\\\"\\n        + str(metrics.silhouette_score(X_pca, clusters, metric=\\\"euclidean\\\"))\\n    )\";\n",
       "                var nbb_cells = Jupyter.notebook.get_cells();\n",
       "                for (var i = 0; i < nbb_cells.length; ++i) {\n",
       "                    if (nbb_cells[i].input_prompt_number == nbb_cell_id) {\n",
       "                        if (nbb_cells[i].get_text() == nbb_unformatted_code) {\n",
       "                             nbb_cells[i].set_text(nbb_formatted_code);\n",
       "                        }\n",
       "                        break;\n",
       "                    }\n",
       "                }\n",
       "            }, 500);\n",
       "            "
      ],
      "text/plain": [
       "<IPython.core.display.Javascript object>"
      ]
     },
     "metadata": {},
     "output_type": "display_data"
    },
    {
     "data": {
      "application/javascript": [
       "\n",
       "            setTimeout(function() {\n",
       "                var nbb_cell_id = 41;\n",
       "                var nbb_unformatted_code = \"for c in range(4, 11):\\n    agg_clstr = AgglomerativeClustering(\\n        linkage=\\\"average\\\", affinity=\\\"cosine\\\", n_clusters=c\\n    )\\n    clusters = agg_clstr.fit_predict(X_pca)\\n\\n    print(\\n        \\\"The Silhouette Score for \\\"\\n        + str(c)\\n        + \\\" clusters is:\\\"\\n        + str(metrics.silhouette_score(X_pca, clusters, metric=\\\"euclidean\\\"))\\n    )\";\n",
       "                var nbb_formatted_code = \"for c in range(4, 11):\\n    agg_clstr = AgglomerativeClustering(\\n        linkage=\\\"average\\\", affinity=\\\"cosine\\\", n_clusters=c\\n    )\\n    clusters = agg_clstr.fit_predict(X_pca)\\n\\n    print(\\n        \\\"The Silhouette Score for \\\"\\n        + str(c)\\n        + \\\" clusters is:\\\"\\n        + str(metrics.silhouette_score(X_pca, clusters, metric=\\\"euclidean\\\"))\\n    )\";\n",
       "                var nbb_cells = Jupyter.notebook.get_cells();\n",
       "                for (var i = 0; i < nbb_cells.length; ++i) {\n",
       "                    if (nbb_cells[i].input_prompt_number == nbb_cell_id) {\n",
       "                        if (nbb_cells[i].get_text() == nbb_unformatted_code) {\n",
       "                             nbb_cells[i].set_text(nbb_formatted_code);\n",
       "                        }\n",
       "                        break;\n",
       "                    }\n",
       "                }\n",
       "            }, 500);\n",
       "            "
      ],
      "text/plain": [
       "<IPython.core.display.Javascript object>"
      ]
     },
     "metadata": {},
     "output_type": "display_data"
    },
    {
     "data": {
      "application/javascript": [
       "\n",
       "            setTimeout(function() {\n",
       "                var nbb_cell_id = 41;\n",
       "                var nbb_unformatted_code = \"for c in range(4, 11):\\n    agg_clstr = AgglomerativeClustering(\\n        linkage=\\\"average\\\", affinity=\\\"cosine\\\", n_clusters=c\\n    )\\n    clusters = agg_clstr.fit_predict(X_pca)\\n\\n    print(\\n        \\\"The Silhouette Score for \\\"\\n        + str(c)\\n        + \\\" clusters is:\\\"\\n        + str(metrics.silhouette_score(X_pca, clusters, metric=\\\"euclidean\\\"))\\n    )\";\n",
       "                var nbb_formatted_code = \"for c in range(4, 11):\\n    agg_clstr = AgglomerativeClustering(\\n        linkage=\\\"average\\\", affinity=\\\"cosine\\\", n_clusters=c\\n    )\\n    clusters = agg_clstr.fit_predict(X_pca)\\n\\n    print(\\n        \\\"The Silhouette Score for \\\"\\n        + str(c)\\n        + \\\" clusters is:\\\"\\n        + str(metrics.silhouette_score(X_pca, clusters, metric=\\\"euclidean\\\"))\\n    )\";\n",
       "                var nbb_cells = Jupyter.notebook.get_cells();\n",
       "                for (var i = 0; i < nbb_cells.length; ++i) {\n",
       "                    if (nbb_cells[i].input_prompt_number == nbb_cell_id) {\n",
       "                        if (nbb_cells[i].get_text() == nbb_unformatted_code) {\n",
       "                             nbb_cells[i].set_text(nbb_formatted_code);\n",
       "                        }\n",
       "                        break;\n",
       "                    }\n",
       "                }\n",
       "            }, 500);\n",
       "            "
      ],
      "text/plain": [
       "<IPython.core.display.Javascript object>"
      ]
     },
     "metadata": {},
     "output_type": "display_data"
    },
    {
     "data": {
      "application/javascript": [
       "\n",
       "            setTimeout(function() {\n",
       "                var nbb_cell_id = 41;\n",
       "                var nbb_unformatted_code = \"for c in range(4, 11):\\n    agg_clstr = AgglomerativeClustering(\\n        linkage=\\\"average\\\", affinity=\\\"cosine\\\", n_clusters=c\\n    )\\n    clusters = agg_clstr.fit_predict(X_pca)\\n\\n    print(\\n        \\\"The Silhouette Score for \\\"\\n        + str(c)\\n        + \\\" clusters is:\\\"\\n        + str(metrics.silhouette_score(X_pca, clusters, metric=\\\"euclidean\\\"))\\n    )\";\n",
       "                var nbb_formatted_code = \"for c in range(4, 11):\\n    agg_clstr = AgglomerativeClustering(\\n        linkage=\\\"average\\\", affinity=\\\"cosine\\\", n_clusters=c\\n    )\\n    clusters = agg_clstr.fit_predict(X_pca)\\n\\n    print(\\n        \\\"The Silhouette Score for \\\"\\n        + str(c)\\n        + \\\" clusters is:\\\"\\n        + str(metrics.silhouette_score(X_pca, clusters, metric=\\\"euclidean\\\"))\\n    )\";\n",
       "                var nbb_cells = Jupyter.notebook.get_cells();\n",
       "                for (var i = 0; i < nbb_cells.length; ++i) {\n",
       "                    if (nbb_cells[i].input_prompt_number == nbb_cell_id) {\n",
       "                        if (nbb_cells[i].get_text() == nbb_unformatted_code) {\n",
       "                             nbb_cells[i].set_text(nbb_formatted_code);\n",
       "                        }\n",
       "                        break;\n",
       "                    }\n",
       "                }\n",
       "            }, 500);\n",
       "            "
      ],
      "text/plain": [
       "<IPython.core.display.Javascript object>"
      ]
     },
     "metadata": {},
     "output_type": "display_data"
    },
    {
     "data": {
      "application/javascript": [
       "\n",
       "            setTimeout(function() {\n",
       "                var nbb_cell_id = 41;\n",
       "                var nbb_unformatted_code = \"for c in range(4, 11):\\n    agg_clstr = AgglomerativeClustering(\\n        linkage=\\\"average\\\", affinity=\\\"cosine\\\", n_clusters=c\\n    )\\n    clusters = agg_clstr.fit_predict(X_pca)\\n\\n    print(\\n        \\\"The Silhouette Score for \\\"\\n        + str(c)\\n        + \\\" clusters is:\\\"\\n        + str(metrics.silhouette_score(X_pca, clusters, metric=\\\"euclidean\\\"))\\n    )\";\n",
       "                var nbb_formatted_code = \"for c in range(4, 11):\\n    agg_clstr = AgglomerativeClustering(\\n        linkage=\\\"average\\\", affinity=\\\"cosine\\\", n_clusters=c\\n    )\\n    clusters = agg_clstr.fit_predict(X_pca)\\n\\n    print(\\n        \\\"The Silhouette Score for \\\"\\n        + str(c)\\n        + \\\" clusters is:\\\"\\n        + str(metrics.silhouette_score(X_pca, clusters, metric=\\\"euclidean\\\"))\\n    )\";\n",
       "                var nbb_cells = Jupyter.notebook.get_cells();\n",
       "                for (var i = 0; i < nbb_cells.length; ++i) {\n",
       "                    if (nbb_cells[i].input_prompt_number == nbb_cell_id) {\n",
       "                        if (nbb_cells[i].get_text() == nbb_unformatted_code) {\n",
       "                             nbb_cells[i].set_text(nbb_formatted_code);\n",
       "                        }\n",
       "                        break;\n",
       "                    }\n",
       "                }\n",
       "            }, 500);\n",
       "            "
      ],
      "text/plain": [
       "<IPython.core.display.Javascript object>"
      ]
     },
     "metadata": {},
     "output_type": "display_data"
    },
    {
     "data": {
      "application/javascript": [
       "\n",
       "            setTimeout(function() {\n",
       "                var nbb_cell_id = 41;\n",
       "                var nbb_unformatted_code = \"for c in range(4, 11):\\n    agg_clstr = AgglomerativeClustering(\\n        linkage=\\\"average\\\", affinity=\\\"cosine\\\", n_clusters=c\\n    )\\n    clusters = agg_clstr.fit_predict(X_pca)\\n\\n    print(\\n        \\\"The Silhouette Score for \\\"\\n        + str(c)\\n        + \\\" clusters is:\\\"\\n        + str(metrics.silhouette_score(X_pca, clusters, metric=\\\"euclidean\\\"))\\n    )\";\n",
       "                var nbb_formatted_code = \"for c in range(4, 11):\\n    agg_clstr = AgglomerativeClustering(\\n        linkage=\\\"average\\\", affinity=\\\"cosine\\\", n_clusters=c\\n    )\\n    clusters = agg_clstr.fit_predict(X_pca)\\n\\n    print(\\n        \\\"The Silhouette Score for \\\"\\n        + str(c)\\n        + \\\" clusters is:\\\"\\n        + str(metrics.silhouette_score(X_pca, clusters, metric=\\\"euclidean\\\"))\\n    )\";\n",
       "                var nbb_cells = Jupyter.notebook.get_cells();\n",
       "                for (var i = 0; i < nbb_cells.length; ++i) {\n",
       "                    if (nbb_cells[i].input_prompt_number == nbb_cell_id) {\n",
       "                        if (nbb_cells[i].get_text() == nbb_unformatted_code) {\n",
       "                             nbb_cells[i].set_text(nbb_formatted_code);\n",
       "                        }\n",
       "                        break;\n",
       "                    }\n",
       "                }\n",
       "            }, 500);\n",
       "            "
      ],
      "text/plain": [
       "<IPython.core.display.Javascript object>"
      ]
     },
     "metadata": {},
     "output_type": "display_data"
    }
   ],
   "source": [
    "for c in range(4, 11):\n",
    "    agg_clstr = AgglomerativeClustering(\n",
    "        linkage=\"average\", affinity=\"cosine\", n_clusters=c\n",
    "    )\n",
    "    clusters = agg_clstr.fit_predict(X_pca)\n",
    "\n",
    "    print(\n",
    "        \"The Silhouette Score for \"\n",
    "        + str(c)\n",
    "        + \" clusters is:\"\n",
    "        + str(metrics.silhouette_score(X_pca, clusters, metric=\"euclidean\"))\n",
    "    )"
   ]
  },
  {
   "cell_type": "code",
   "execution_count": 43,
   "metadata": {},
   "outputs": [
    {
     "name": "stdout",
     "output_type": "stream",
     "text": [
      "The Silhouette Score for 4 clusters is:0.1532527334233306\n",
      "The Silhouette Score for 5 clusters is:0.17018040774754256\n",
      "The Silhouette Score for 6 clusters is:0.16115705352567145\n",
      "The Silhouette Score for 7 clusters is:0.1467820637214655\n",
      "The Silhouette Score for 8 clusters is:0.14834859009156706\n",
      "The Silhouette Score for 9 clusters is:0.11438776227717598\n",
      "The Silhouette Score for 10 clusters is:0.1182766085820967\n"
     ]
    },
    {
     "data": {
      "application/javascript": [
       "\n",
       "            setTimeout(function() {\n",
       "                var nbb_cell_id = 43;\n",
       "                var nbb_unformatted_code = \"for c in range(4, 11):\\n    agg_clstr = AgglomerativeClustering(\\n        linkage=\\\"ward\\\", affinity=\\\"euclidean\\\", n_clusters=c\\n    )\\n    clusters = agg_clstr.fit_predict(X_pca)\\n\\n    print(\\n        \\\"The Silhouette Score for \\\"\\n        + str(c)\\n        + \\\" clusters is:\\\"\\n        + str(metrics.silhouette_score(X_pca, clusters, metric=\\\"euclidean\\\"))\\n    )\";\n",
       "                var nbb_formatted_code = \"for c in range(4, 11):\\n    agg_clstr = AgglomerativeClustering(\\n        linkage=\\\"ward\\\", affinity=\\\"euclidean\\\", n_clusters=c\\n    )\\n    clusters = agg_clstr.fit_predict(X_pca)\\n\\n    print(\\n        \\\"The Silhouette Score for \\\"\\n        + str(c)\\n        + \\\" clusters is:\\\"\\n        + str(metrics.silhouette_score(X_pca, clusters, metric=\\\"euclidean\\\"))\\n    )\";\n",
       "                var nbb_cells = Jupyter.notebook.get_cells();\n",
       "                for (var i = 0; i < nbb_cells.length; ++i) {\n",
       "                    if (nbb_cells[i].input_prompt_number == nbb_cell_id) {\n",
       "                        if (nbb_cells[i].get_text() == nbb_unformatted_code) {\n",
       "                             nbb_cells[i].set_text(nbb_formatted_code);\n",
       "                        }\n",
       "                        break;\n",
       "                    }\n",
       "                }\n",
       "            }, 500);\n",
       "            "
      ],
      "text/plain": [
       "<IPython.core.display.Javascript object>"
      ]
     },
     "metadata": {},
     "output_type": "display_data"
    },
    {
     "data": {
      "application/javascript": [
       "\n",
       "            setTimeout(function() {\n",
       "                var nbb_cell_id = 43;\n",
       "                var nbb_unformatted_code = \"for c in range(4, 11):\\n    agg_clstr = AgglomerativeClustering(\\n        linkage=\\\"ward\\\", affinity=\\\"euclidean\\\", n_clusters=c\\n    )\\n    clusters = agg_clstr.fit_predict(X_pca)\\n\\n    print(\\n        \\\"The Silhouette Score for \\\"\\n        + str(c)\\n        + \\\" clusters is:\\\"\\n        + str(metrics.silhouette_score(X_pca, clusters, metric=\\\"euclidean\\\"))\\n    )\";\n",
       "                var nbb_formatted_code = \"for c in range(4, 11):\\n    agg_clstr = AgglomerativeClustering(\\n        linkage=\\\"ward\\\", affinity=\\\"euclidean\\\", n_clusters=c\\n    )\\n    clusters = agg_clstr.fit_predict(X_pca)\\n\\n    print(\\n        \\\"The Silhouette Score for \\\"\\n        + str(c)\\n        + \\\" clusters is:\\\"\\n        + str(metrics.silhouette_score(X_pca, clusters, metric=\\\"euclidean\\\"))\\n    )\";\n",
       "                var nbb_cells = Jupyter.notebook.get_cells();\n",
       "                for (var i = 0; i < nbb_cells.length; ++i) {\n",
       "                    if (nbb_cells[i].input_prompt_number == nbb_cell_id) {\n",
       "                        if (nbb_cells[i].get_text() == nbb_unformatted_code) {\n",
       "                             nbb_cells[i].set_text(nbb_formatted_code);\n",
       "                        }\n",
       "                        break;\n",
       "                    }\n",
       "                }\n",
       "            }, 500);\n",
       "            "
      ],
      "text/plain": [
       "<IPython.core.display.Javascript object>"
      ]
     },
     "metadata": {},
     "output_type": "display_data"
    },
    {
     "data": {
      "application/javascript": [
       "\n",
       "            setTimeout(function() {\n",
       "                var nbb_cell_id = 43;\n",
       "                var nbb_unformatted_code = \"for c in range(4, 11):\\n    agg_clstr = AgglomerativeClustering(\\n        linkage=\\\"ward\\\", affinity=\\\"euclidean\\\", n_clusters=c\\n    )\\n    clusters = agg_clstr.fit_predict(X_pca)\\n\\n    print(\\n        \\\"The Silhouette Score for \\\"\\n        + str(c)\\n        + \\\" clusters is:\\\"\\n        + str(metrics.silhouette_score(X_pca, clusters, metric=\\\"euclidean\\\"))\\n    )\";\n",
       "                var nbb_formatted_code = \"for c in range(4, 11):\\n    agg_clstr = AgglomerativeClustering(\\n        linkage=\\\"ward\\\", affinity=\\\"euclidean\\\", n_clusters=c\\n    )\\n    clusters = agg_clstr.fit_predict(X_pca)\\n\\n    print(\\n        \\\"The Silhouette Score for \\\"\\n        + str(c)\\n        + \\\" clusters is:\\\"\\n        + str(metrics.silhouette_score(X_pca, clusters, metric=\\\"euclidean\\\"))\\n    )\";\n",
       "                var nbb_cells = Jupyter.notebook.get_cells();\n",
       "                for (var i = 0; i < nbb_cells.length; ++i) {\n",
       "                    if (nbb_cells[i].input_prompt_number == nbb_cell_id) {\n",
       "                        if (nbb_cells[i].get_text() == nbb_unformatted_code) {\n",
       "                             nbb_cells[i].set_text(nbb_formatted_code);\n",
       "                        }\n",
       "                        break;\n",
       "                    }\n",
       "                }\n",
       "            }, 500);\n",
       "            "
      ],
      "text/plain": [
       "<IPython.core.display.Javascript object>"
      ]
     },
     "metadata": {},
     "output_type": "display_data"
    },
    {
     "data": {
      "application/javascript": [
       "\n",
       "            setTimeout(function() {\n",
       "                var nbb_cell_id = 43;\n",
       "                var nbb_unformatted_code = \"for c in range(4, 11):\\n    agg_clstr = AgglomerativeClustering(\\n        linkage=\\\"ward\\\", affinity=\\\"euclidean\\\", n_clusters=c\\n    )\\n    clusters = agg_clstr.fit_predict(X_pca)\\n\\n    print(\\n        \\\"The Silhouette Score for \\\"\\n        + str(c)\\n        + \\\" clusters is:\\\"\\n        + str(metrics.silhouette_score(X_pca, clusters, metric=\\\"euclidean\\\"))\\n    )\";\n",
       "                var nbb_formatted_code = \"for c in range(4, 11):\\n    agg_clstr = AgglomerativeClustering(\\n        linkage=\\\"ward\\\", affinity=\\\"euclidean\\\", n_clusters=c\\n    )\\n    clusters = agg_clstr.fit_predict(X_pca)\\n\\n    print(\\n        \\\"The Silhouette Score for \\\"\\n        + str(c)\\n        + \\\" clusters is:\\\"\\n        + str(metrics.silhouette_score(X_pca, clusters, metric=\\\"euclidean\\\"))\\n    )\";\n",
       "                var nbb_cells = Jupyter.notebook.get_cells();\n",
       "                for (var i = 0; i < nbb_cells.length; ++i) {\n",
       "                    if (nbb_cells[i].input_prompt_number == nbb_cell_id) {\n",
       "                        if (nbb_cells[i].get_text() == nbb_unformatted_code) {\n",
       "                             nbb_cells[i].set_text(nbb_formatted_code);\n",
       "                        }\n",
       "                        break;\n",
       "                    }\n",
       "                }\n",
       "            }, 500);\n",
       "            "
      ],
      "text/plain": [
       "<IPython.core.display.Javascript object>"
      ]
     },
     "metadata": {},
     "output_type": "display_data"
    },
    {
     "data": {
      "application/javascript": [
       "\n",
       "            setTimeout(function() {\n",
       "                var nbb_cell_id = 43;\n",
       "                var nbb_unformatted_code = \"for c in range(4, 11):\\n    agg_clstr = AgglomerativeClustering(\\n        linkage=\\\"ward\\\", affinity=\\\"euclidean\\\", n_clusters=c\\n    )\\n    clusters = agg_clstr.fit_predict(X_pca)\\n\\n    print(\\n        \\\"The Silhouette Score for \\\"\\n        + str(c)\\n        + \\\" clusters is:\\\"\\n        + str(metrics.silhouette_score(X_pca, clusters, metric=\\\"euclidean\\\"))\\n    )\";\n",
       "                var nbb_formatted_code = \"for c in range(4, 11):\\n    agg_clstr = AgglomerativeClustering(\\n        linkage=\\\"ward\\\", affinity=\\\"euclidean\\\", n_clusters=c\\n    )\\n    clusters = agg_clstr.fit_predict(X_pca)\\n\\n    print(\\n        \\\"The Silhouette Score for \\\"\\n        + str(c)\\n        + \\\" clusters is:\\\"\\n        + str(metrics.silhouette_score(X_pca, clusters, metric=\\\"euclidean\\\"))\\n    )\";\n",
       "                var nbb_cells = Jupyter.notebook.get_cells();\n",
       "                for (var i = 0; i < nbb_cells.length; ++i) {\n",
       "                    if (nbb_cells[i].input_prompt_number == nbb_cell_id) {\n",
       "                        if (nbb_cells[i].get_text() == nbb_unformatted_code) {\n",
       "                             nbb_cells[i].set_text(nbb_formatted_code);\n",
       "                        }\n",
       "                        break;\n",
       "                    }\n",
       "                }\n",
       "            }, 500);\n",
       "            "
      ],
      "text/plain": [
       "<IPython.core.display.Javascript object>"
      ]
     },
     "metadata": {},
     "output_type": "display_data"
    },
    {
     "data": {
      "application/javascript": [
       "\n",
       "            setTimeout(function() {\n",
       "                var nbb_cell_id = 43;\n",
       "                var nbb_unformatted_code = \"for c in range(4, 11):\\n    agg_clstr = AgglomerativeClustering(\\n        linkage=\\\"ward\\\", affinity=\\\"euclidean\\\", n_clusters=c\\n    )\\n    clusters = agg_clstr.fit_predict(X_pca)\\n\\n    print(\\n        \\\"The Silhouette Score for \\\"\\n        + str(c)\\n        + \\\" clusters is:\\\"\\n        + str(metrics.silhouette_score(X_pca, clusters, metric=\\\"euclidean\\\"))\\n    )\";\n",
       "                var nbb_formatted_code = \"for c in range(4, 11):\\n    agg_clstr = AgglomerativeClustering(\\n        linkage=\\\"ward\\\", affinity=\\\"euclidean\\\", n_clusters=c\\n    )\\n    clusters = agg_clstr.fit_predict(X_pca)\\n\\n    print(\\n        \\\"The Silhouette Score for \\\"\\n        + str(c)\\n        + \\\" clusters is:\\\"\\n        + str(metrics.silhouette_score(X_pca, clusters, metric=\\\"euclidean\\\"))\\n    )\";\n",
       "                var nbb_cells = Jupyter.notebook.get_cells();\n",
       "                for (var i = 0; i < nbb_cells.length; ++i) {\n",
       "                    if (nbb_cells[i].input_prompt_number == nbb_cell_id) {\n",
       "                        if (nbb_cells[i].get_text() == nbb_unformatted_code) {\n",
       "                             nbb_cells[i].set_text(nbb_formatted_code);\n",
       "                        }\n",
       "                        break;\n",
       "                    }\n",
       "                }\n",
       "            }, 500);\n",
       "            "
      ],
      "text/plain": [
       "<IPython.core.display.Javascript object>"
      ]
     },
     "metadata": {},
     "output_type": "display_data"
    },
    {
     "data": {
      "application/javascript": [
       "\n",
       "            setTimeout(function() {\n",
       "                var nbb_cell_id = 43;\n",
       "                var nbb_unformatted_code = \"for c in range(4, 11):\\n    agg_clstr = AgglomerativeClustering(\\n        linkage=\\\"ward\\\", affinity=\\\"euclidean\\\", n_clusters=c\\n    )\\n    clusters = agg_clstr.fit_predict(X_pca)\\n\\n    print(\\n        \\\"The Silhouette Score for \\\"\\n        + str(c)\\n        + \\\" clusters is:\\\"\\n        + str(metrics.silhouette_score(X_pca, clusters, metric=\\\"euclidean\\\"))\\n    )\";\n",
       "                var nbb_formatted_code = \"for c in range(4, 11):\\n    agg_clstr = AgglomerativeClustering(\\n        linkage=\\\"ward\\\", affinity=\\\"euclidean\\\", n_clusters=c\\n    )\\n    clusters = agg_clstr.fit_predict(X_pca)\\n\\n    print(\\n        \\\"The Silhouette Score for \\\"\\n        + str(c)\\n        + \\\" clusters is:\\\"\\n        + str(metrics.silhouette_score(X_pca, clusters, metric=\\\"euclidean\\\"))\\n    )\";\n",
       "                var nbb_cells = Jupyter.notebook.get_cells();\n",
       "                for (var i = 0; i < nbb_cells.length; ++i) {\n",
       "                    if (nbb_cells[i].input_prompt_number == nbb_cell_id) {\n",
       "                        if (nbb_cells[i].get_text() == nbb_unformatted_code) {\n",
       "                             nbb_cells[i].set_text(nbb_formatted_code);\n",
       "                        }\n",
       "                        break;\n",
       "                    }\n",
       "                }\n",
       "            }, 500);\n",
       "            "
      ],
      "text/plain": [
       "<IPython.core.display.Javascript object>"
      ]
     },
     "metadata": {},
     "output_type": "display_data"
    },
    {
     "data": {
      "application/javascript": [
       "\n",
       "            setTimeout(function() {\n",
       "                var nbb_cell_id = 43;\n",
       "                var nbb_unformatted_code = \"for c in range(4, 11):\\n    agg_clstr = AgglomerativeClustering(\\n        linkage=\\\"ward\\\", affinity=\\\"euclidean\\\", n_clusters=c\\n    )\\n    clusters = agg_clstr.fit_predict(X_pca)\\n\\n    print(\\n        \\\"The Silhouette Score for \\\"\\n        + str(c)\\n        + \\\" clusters is:\\\"\\n        + str(metrics.silhouette_score(X_pca, clusters, metric=\\\"euclidean\\\"))\\n    )\";\n",
       "                var nbb_formatted_code = \"for c in range(4, 11):\\n    agg_clstr = AgglomerativeClustering(\\n        linkage=\\\"ward\\\", affinity=\\\"euclidean\\\", n_clusters=c\\n    )\\n    clusters = agg_clstr.fit_predict(X_pca)\\n\\n    print(\\n        \\\"The Silhouette Score for \\\"\\n        + str(c)\\n        + \\\" clusters is:\\\"\\n        + str(metrics.silhouette_score(X_pca, clusters, metric=\\\"euclidean\\\"))\\n    )\";\n",
       "                var nbb_cells = Jupyter.notebook.get_cells();\n",
       "                for (var i = 0; i < nbb_cells.length; ++i) {\n",
       "                    if (nbb_cells[i].input_prompt_number == nbb_cell_id) {\n",
       "                        if (nbb_cells[i].get_text() == nbb_unformatted_code) {\n",
       "                             nbb_cells[i].set_text(nbb_formatted_code);\n",
       "                        }\n",
       "                        break;\n",
       "                    }\n",
       "                }\n",
       "            }, 500);\n",
       "            "
      ],
      "text/plain": [
       "<IPython.core.display.Javascript object>"
      ]
     },
     "metadata": {},
     "output_type": "display_data"
    },
    {
     "data": {
      "application/javascript": [
       "\n",
       "            setTimeout(function() {\n",
       "                var nbb_cell_id = 43;\n",
       "                var nbb_unformatted_code = \"for c in range(4, 11):\\n    agg_clstr = AgglomerativeClustering(\\n        linkage=\\\"ward\\\", affinity=\\\"euclidean\\\", n_clusters=c\\n    )\\n    clusters = agg_clstr.fit_predict(X_pca)\\n\\n    print(\\n        \\\"The Silhouette Score for \\\"\\n        + str(c)\\n        + \\\" clusters is:\\\"\\n        + str(metrics.silhouette_score(X_pca, clusters, metric=\\\"euclidean\\\"))\\n    )\";\n",
       "                var nbb_formatted_code = \"for c in range(4, 11):\\n    agg_clstr = AgglomerativeClustering(\\n        linkage=\\\"ward\\\", affinity=\\\"euclidean\\\", n_clusters=c\\n    )\\n    clusters = agg_clstr.fit_predict(X_pca)\\n\\n    print(\\n        \\\"The Silhouette Score for \\\"\\n        + str(c)\\n        + \\\" clusters is:\\\"\\n        + str(metrics.silhouette_score(X_pca, clusters, metric=\\\"euclidean\\\"))\\n    )\";\n",
       "                var nbb_cells = Jupyter.notebook.get_cells();\n",
       "                for (var i = 0; i < nbb_cells.length; ++i) {\n",
       "                    if (nbb_cells[i].input_prompt_number == nbb_cell_id) {\n",
       "                        if (nbb_cells[i].get_text() == nbb_unformatted_code) {\n",
       "                             nbb_cells[i].set_text(nbb_formatted_code);\n",
       "                        }\n",
       "                        break;\n",
       "                    }\n",
       "                }\n",
       "            }, 500);\n",
       "            "
      ],
      "text/plain": [
       "<IPython.core.display.Javascript object>"
      ]
     },
     "metadata": {},
     "output_type": "display_data"
    },
    {
     "data": {
      "application/javascript": [
       "\n",
       "            setTimeout(function() {\n",
       "                var nbb_cell_id = 43;\n",
       "                var nbb_unformatted_code = \"for c in range(4, 11):\\n    agg_clstr = AgglomerativeClustering(\\n        linkage=\\\"ward\\\", affinity=\\\"euclidean\\\", n_clusters=c\\n    )\\n    clusters = agg_clstr.fit_predict(X_pca)\\n\\n    print(\\n        \\\"The Silhouette Score for \\\"\\n        + str(c)\\n        + \\\" clusters is:\\\"\\n        + str(metrics.silhouette_score(X_pca, clusters, metric=\\\"euclidean\\\"))\\n    )\";\n",
       "                var nbb_formatted_code = \"for c in range(4, 11):\\n    agg_clstr = AgglomerativeClustering(\\n        linkage=\\\"ward\\\", affinity=\\\"euclidean\\\", n_clusters=c\\n    )\\n    clusters = agg_clstr.fit_predict(X_pca)\\n\\n    print(\\n        \\\"The Silhouette Score for \\\"\\n        + str(c)\\n        + \\\" clusters is:\\\"\\n        + str(metrics.silhouette_score(X_pca, clusters, metric=\\\"euclidean\\\"))\\n    )\";\n",
       "                var nbb_cells = Jupyter.notebook.get_cells();\n",
       "                for (var i = 0; i < nbb_cells.length; ++i) {\n",
       "                    if (nbb_cells[i].input_prompt_number == nbb_cell_id) {\n",
       "                        if (nbb_cells[i].get_text() == nbb_unformatted_code) {\n",
       "                             nbb_cells[i].set_text(nbb_formatted_code);\n",
       "                        }\n",
       "                        break;\n",
       "                    }\n",
       "                }\n",
       "            }, 500);\n",
       "            "
      ],
      "text/plain": [
       "<IPython.core.display.Javascript object>"
      ]
     },
     "metadata": {},
     "output_type": "display_data"
    },
    {
     "data": {
      "application/javascript": [
       "\n",
       "            setTimeout(function() {\n",
       "                var nbb_cell_id = 43;\n",
       "                var nbb_unformatted_code = \"for c in range(4, 11):\\n    agg_clstr = AgglomerativeClustering(\\n        linkage=\\\"ward\\\", affinity=\\\"euclidean\\\", n_clusters=c\\n    )\\n    clusters = agg_clstr.fit_predict(X_pca)\\n\\n    print(\\n        \\\"The Silhouette Score for \\\"\\n        + str(c)\\n        + \\\" clusters is:\\\"\\n        + str(metrics.silhouette_score(X_pca, clusters, metric=\\\"euclidean\\\"))\\n    )\";\n",
       "                var nbb_formatted_code = \"for c in range(4, 11):\\n    agg_clstr = AgglomerativeClustering(\\n        linkage=\\\"ward\\\", affinity=\\\"euclidean\\\", n_clusters=c\\n    )\\n    clusters = agg_clstr.fit_predict(X_pca)\\n\\n    print(\\n        \\\"The Silhouette Score for \\\"\\n        + str(c)\\n        + \\\" clusters is:\\\"\\n        + str(metrics.silhouette_score(X_pca, clusters, metric=\\\"euclidean\\\"))\\n    )\";\n",
       "                var nbb_cells = Jupyter.notebook.get_cells();\n",
       "                for (var i = 0; i < nbb_cells.length; ++i) {\n",
       "                    if (nbb_cells[i].input_prompt_number == nbb_cell_id) {\n",
       "                        if (nbb_cells[i].get_text() == nbb_unformatted_code) {\n",
       "                             nbb_cells[i].set_text(nbb_formatted_code);\n",
       "                        }\n",
       "                        break;\n",
       "                    }\n",
       "                }\n",
       "            }, 500);\n",
       "            "
      ],
      "text/plain": [
       "<IPython.core.display.Javascript object>"
      ]
     },
     "metadata": {},
     "output_type": "display_data"
    }
   ],
   "source": [
    "for c in range(4, 11):\n",
    "    agg_clstr = AgglomerativeClustering(\n",
    "        linkage=\"ward\", affinity=\"euclidean\", n_clusters=c\n",
    "    )\n",
    "    clusters = agg_clstr.fit_predict(X_pca)\n",
    "\n",
    "    print(\n",
    "        \"The Silhouette Score for \"\n",
    "        + str(c)\n",
    "        + \" clusters is:\"\n",
    "        + str(metrics.silhouette_score(X_pca, clusters, metric=\"euclidean\"))\n",
    "    )"
   ]
  },
  {
   "cell_type": "markdown",
   "metadata": {},
   "source": [
    "After comparing the results it is clear Agglomerative Clustering with 5 clusters and ward linkage provides the best Silhouette Score of 0.170.\n",
    "\n",
    "*Note: this score is still relatively low*"
   ]
  },
  {
   "cell_type": "markdown",
   "metadata": {},
   "source": [
    "## Applying Gaussian Mixture Model to the Data"
   ]
  },
  {
   "cell_type": "code",
   "execution_count": 50,
   "metadata": {},
   "outputs": [
    {
     "name": "stdout",
     "output_type": "stream",
     "text": [
      "The Silhouette Score for 3 clusters is:0.1798293947077883\n",
      "The Silhouette Score for 4 clusters is:0.16079053875207625\n",
      "The Silhouette Score for 5 clusters is:0.15205186132718806\n",
      "The Silhouette Score for 6 clusters is:0.14363874566492935\n",
      "The Silhouette Score for 7 clusters is:0.12459468379358489\n",
      "The Silhouette Score for 8 clusters is:0.13164980603507287\n",
      "The Silhouette Score for 9 clusters is:0.1197192990338002\n",
      "The Silhouette Score for 10 clusters is:0.10165722263946232\n"
     ]
    },
    {
     "data": {
      "application/javascript": [
       "\n",
       "            setTimeout(function() {\n",
       "                var nbb_cell_id = 50;\n",
       "                var nbb_unformatted_code = \"for c in range(3,11):\\n    gauss = GaussianMixture(n_components=c, random_state = 13)\\n    clusters = gauss.fit_predict(X_pca)\\n    print(\\n        \\\"The Silhouette Score for \\\"\\n        + str(c)\\n        + \\\" clusters is:\\\"\\n        + str(metrics.silhouette_score(X_pca, clusters, metric=\\\"euclidean\\\"))\\n    )\";\n",
       "                var nbb_formatted_code = \"for c in range(3, 11):\\n    gauss = GaussianMixture(n_components=c, random_state=13)\\n    clusters = gauss.fit_predict(X_pca)\\n    print(\\n        \\\"The Silhouette Score for \\\"\\n        + str(c)\\n        + \\\" clusters is:\\\"\\n        + str(metrics.silhouette_score(X_pca, clusters, metric=\\\"euclidean\\\"))\\n    )\";\n",
       "                var nbb_cells = Jupyter.notebook.get_cells();\n",
       "                for (var i = 0; i < nbb_cells.length; ++i) {\n",
       "                    if (nbb_cells[i].input_prompt_number == nbb_cell_id) {\n",
       "                        if (nbb_cells[i].get_text() == nbb_unformatted_code) {\n",
       "                             nbb_cells[i].set_text(nbb_formatted_code);\n",
       "                        }\n",
       "                        break;\n",
       "                    }\n",
       "                }\n",
       "            }, 500);\n",
       "            "
      ],
      "text/plain": [
       "<IPython.core.display.Javascript object>"
      ]
     },
     "metadata": {},
     "output_type": "display_data"
    },
    {
     "data": {
      "application/javascript": [
       "\n",
       "            setTimeout(function() {\n",
       "                var nbb_cell_id = 50;\n",
       "                var nbb_unformatted_code = \"for c in range(3,11):\\n    gauss = GaussianMixture(n_components=c, random_state = 13)\\n    clusters = gauss.fit_predict(X_pca)\\n    print(\\n        \\\"The Silhouette Score for \\\"\\n        + str(c)\\n        + \\\" clusters is:\\\"\\n        + str(metrics.silhouette_score(X_pca, clusters, metric=\\\"euclidean\\\"))\\n    )\";\n",
       "                var nbb_formatted_code = \"for c in range(3, 11):\\n    gauss = GaussianMixture(n_components=c, random_state=13)\\n    clusters = gauss.fit_predict(X_pca)\\n    print(\\n        \\\"The Silhouette Score for \\\"\\n        + str(c)\\n        + \\\" clusters is:\\\"\\n        + str(metrics.silhouette_score(X_pca, clusters, metric=\\\"euclidean\\\"))\\n    )\";\n",
       "                var nbb_cells = Jupyter.notebook.get_cells();\n",
       "                for (var i = 0; i < nbb_cells.length; ++i) {\n",
       "                    if (nbb_cells[i].input_prompt_number == nbb_cell_id) {\n",
       "                        if (nbb_cells[i].get_text() == nbb_unformatted_code) {\n",
       "                             nbb_cells[i].set_text(nbb_formatted_code);\n",
       "                        }\n",
       "                        break;\n",
       "                    }\n",
       "                }\n",
       "            }, 500);\n",
       "            "
      ],
      "text/plain": [
       "<IPython.core.display.Javascript object>"
      ]
     },
     "metadata": {},
     "output_type": "display_data"
    },
    {
     "data": {
      "application/javascript": [
       "\n",
       "            setTimeout(function() {\n",
       "                var nbb_cell_id = 50;\n",
       "                var nbb_unformatted_code = \"for c in range(3,11):\\n    gauss = GaussianMixture(n_components=c, random_state = 13)\\n    clusters = gauss.fit_predict(X_pca)\\n    print(\\n        \\\"The Silhouette Score for \\\"\\n        + str(c)\\n        + \\\" clusters is:\\\"\\n        + str(metrics.silhouette_score(X_pca, clusters, metric=\\\"euclidean\\\"))\\n    )\";\n",
       "                var nbb_formatted_code = \"for c in range(3, 11):\\n    gauss = GaussianMixture(n_components=c, random_state=13)\\n    clusters = gauss.fit_predict(X_pca)\\n    print(\\n        \\\"The Silhouette Score for \\\"\\n        + str(c)\\n        + \\\" clusters is:\\\"\\n        + str(metrics.silhouette_score(X_pca, clusters, metric=\\\"euclidean\\\"))\\n    )\";\n",
       "                var nbb_cells = Jupyter.notebook.get_cells();\n",
       "                for (var i = 0; i < nbb_cells.length; ++i) {\n",
       "                    if (nbb_cells[i].input_prompt_number == nbb_cell_id) {\n",
       "                        if (nbb_cells[i].get_text() == nbb_unformatted_code) {\n",
       "                             nbb_cells[i].set_text(nbb_formatted_code);\n",
       "                        }\n",
       "                        break;\n",
       "                    }\n",
       "                }\n",
       "            }, 500);\n",
       "            "
      ],
      "text/plain": [
       "<IPython.core.display.Javascript object>"
      ]
     },
     "metadata": {},
     "output_type": "display_data"
    },
    {
     "data": {
      "application/javascript": [
       "\n",
       "            setTimeout(function() {\n",
       "                var nbb_cell_id = 50;\n",
       "                var nbb_unformatted_code = \"for c in range(3,11):\\n    gauss = GaussianMixture(n_components=c, random_state = 13)\\n    clusters = gauss.fit_predict(X_pca)\\n    print(\\n        \\\"The Silhouette Score for \\\"\\n        + str(c)\\n        + \\\" clusters is:\\\"\\n        + str(metrics.silhouette_score(X_pca, clusters, metric=\\\"euclidean\\\"))\\n    )\";\n",
       "                var nbb_formatted_code = \"for c in range(3, 11):\\n    gauss = GaussianMixture(n_components=c, random_state=13)\\n    clusters = gauss.fit_predict(X_pca)\\n    print(\\n        \\\"The Silhouette Score for \\\"\\n        + str(c)\\n        + \\\" clusters is:\\\"\\n        + str(metrics.silhouette_score(X_pca, clusters, metric=\\\"euclidean\\\"))\\n    )\";\n",
       "                var nbb_cells = Jupyter.notebook.get_cells();\n",
       "                for (var i = 0; i < nbb_cells.length; ++i) {\n",
       "                    if (nbb_cells[i].input_prompt_number == nbb_cell_id) {\n",
       "                        if (nbb_cells[i].get_text() == nbb_unformatted_code) {\n",
       "                             nbb_cells[i].set_text(nbb_formatted_code);\n",
       "                        }\n",
       "                        break;\n",
       "                    }\n",
       "                }\n",
       "            }, 500);\n",
       "            "
      ],
      "text/plain": [
       "<IPython.core.display.Javascript object>"
      ]
     },
     "metadata": {},
     "output_type": "display_data"
    },
    {
     "data": {
      "application/javascript": [
       "\n",
       "            setTimeout(function() {\n",
       "                var nbb_cell_id = 50;\n",
       "                var nbb_unformatted_code = \"for c in range(3,11):\\n    gauss = GaussianMixture(n_components=c, random_state = 13)\\n    clusters = gauss.fit_predict(X_pca)\\n    print(\\n        \\\"The Silhouette Score for \\\"\\n        + str(c)\\n        + \\\" clusters is:\\\"\\n        + str(metrics.silhouette_score(X_pca, clusters, metric=\\\"euclidean\\\"))\\n    )\";\n",
       "                var nbb_formatted_code = \"for c in range(3, 11):\\n    gauss = GaussianMixture(n_components=c, random_state=13)\\n    clusters = gauss.fit_predict(X_pca)\\n    print(\\n        \\\"The Silhouette Score for \\\"\\n        + str(c)\\n        + \\\" clusters is:\\\"\\n        + str(metrics.silhouette_score(X_pca, clusters, metric=\\\"euclidean\\\"))\\n    )\";\n",
       "                var nbb_cells = Jupyter.notebook.get_cells();\n",
       "                for (var i = 0; i < nbb_cells.length; ++i) {\n",
       "                    if (nbb_cells[i].input_prompt_number == nbb_cell_id) {\n",
       "                        if (nbb_cells[i].get_text() == nbb_unformatted_code) {\n",
       "                             nbb_cells[i].set_text(nbb_formatted_code);\n",
       "                        }\n",
       "                        break;\n",
       "                    }\n",
       "                }\n",
       "            }, 500);\n",
       "            "
      ],
      "text/plain": [
       "<IPython.core.display.Javascript object>"
      ]
     },
     "metadata": {},
     "output_type": "display_data"
    },
    {
     "data": {
      "application/javascript": [
       "\n",
       "            setTimeout(function() {\n",
       "                var nbb_cell_id = 50;\n",
       "                var nbb_unformatted_code = \"for c in range(3,11):\\n    gauss = GaussianMixture(n_components=c, random_state = 13)\\n    clusters = gauss.fit_predict(X_pca)\\n    print(\\n        \\\"The Silhouette Score for \\\"\\n        + str(c)\\n        + \\\" clusters is:\\\"\\n        + str(metrics.silhouette_score(X_pca, clusters, metric=\\\"euclidean\\\"))\\n    )\";\n",
       "                var nbb_formatted_code = \"for c in range(3, 11):\\n    gauss = GaussianMixture(n_components=c, random_state=13)\\n    clusters = gauss.fit_predict(X_pca)\\n    print(\\n        \\\"The Silhouette Score for \\\"\\n        + str(c)\\n        + \\\" clusters is:\\\"\\n        + str(metrics.silhouette_score(X_pca, clusters, metric=\\\"euclidean\\\"))\\n    )\";\n",
       "                var nbb_cells = Jupyter.notebook.get_cells();\n",
       "                for (var i = 0; i < nbb_cells.length; ++i) {\n",
       "                    if (nbb_cells[i].input_prompt_number == nbb_cell_id) {\n",
       "                        if (nbb_cells[i].get_text() == nbb_unformatted_code) {\n",
       "                             nbb_cells[i].set_text(nbb_formatted_code);\n",
       "                        }\n",
       "                        break;\n",
       "                    }\n",
       "                }\n",
       "            }, 500);\n",
       "            "
      ],
      "text/plain": [
       "<IPython.core.display.Javascript object>"
      ]
     },
     "metadata": {},
     "output_type": "display_data"
    },
    {
     "data": {
      "application/javascript": [
       "\n",
       "            setTimeout(function() {\n",
       "                var nbb_cell_id = 50;\n",
       "                var nbb_unformatted_code = \"for c in range(3,11):\\n    gauss = GaussianMixture(n_components=c, random_state = 13)\\n    clusters = gauss.fit_predict(X_pca)\\n    print(\\n        \\\"The Silhouette Score for \\\"\\n        + str(c)\\n        + \\\" clusters is:\\\"\\n        + str(metrics.silhouette_score(X_pca, clusters, metric=\\\"euclidean\\\"))\\n    )\";\n",
       "                var nbb_formatted_code = \"for c in range(3, 11):\\n    gauss = GaussianMixture(n_components=c, random_state=13)\\n    clusters = gauss.fit_predict(X_pca)\\n    print(\\n        \\\"The Silhouette Score for \\\"\\n        + str(c)\\n        + \\\" clusters is:\\\"\\n        + str(metrics.silhouette_score(X_pca, clusters, metric=\\\"euclidean\\\"))\\n    )\";\n",
       "                var nbb_cells = Jupyter.notebook.get_cells();\n",
       "                for (var i = 0; i < nbb_cells.length; ++i) {\n",
       "                    if (nbb_cells[i].input_prompt_number == nbb_cell_id) {\n",
       "                        if (nbb_cells[i].get_text() == nbb_unformatted_code) {\n",
       "                             nbb_cells[i].set_text(nbb_formatted_code);\n",
       "                        }\n",
       "                        break;\n",
       "                    }\n",
       "                }\n",
       "            }, 500);\n",
       "            "
      ],
      "text/plain": [
       "<IPython.core.display.Javascript object>"
      ]
     },
     "metadata": {},
     "output_type": "display_data"
    },
    {
     "data": {
      "application/javascript": [
       "\n",
       "            setTimeout(function() {\n",
       "                var nbb_cell_id = 50;\n",
       "                var nbb_unformatted_code = \"for c in range(3,11):\\n    gauss = GaussianMixture(n_components=c, random_state = 13)\\n    clusters = gauss.fit_predict(X_pca)\\n    print(\\n        \\\"The Silhouette Score for \\\"\\n        + str(c)\\n        + \\\" clusters is:\\\"\\n        + str(metrics.silhouette_score(X_pca, clusters, metric=\\\"euclidean\\\"))\\n    )\";\n",
       "                var nbb_formatted_code = \"for c in range(3, 11):\\n    gauss = GaussianMixture(n_components=c, random_state=13)\\n    clusters = gauss.fit_predict(X_pca)\\n    print(\\n        \\\"The Silhouette Score for \\\"\\n        + str(c)\\n        + \\\" clusters is:\\\"\\n        + str(metrics.silhouette_score(X_pca, clusters, metric=\\\"euclidean\\\"))\\n    )\";\n",
       "                var nbb_cells = Jupyter.notebook.get_cells();\n",
       "                for (var i = 0; i < nbb_cells.length; ++i) {\n",
       "                    if (nbb_cells[i].input_prompt_number == nbb_cell_id) {\n",
       "                        if (nbb_cells[i].get_text() == nbb_unformatted_code) {\n",
       "                             nbb_cells[i].set_text(nbb_formatted_code);\n",
       "                        }\n",
       "                        break;\n",
       "                    }\n",
       "                }\n",
       "            }, 500);\n",
       "            "
      ],
      "text/plain": [
       "<IPython.core.display.Javascript object>"
      ]
     },
     "metadata": {},
     "output_type": "display_data"
    },
    {
     "data": {
      "application/javascript": [
       "\n",
       "            setTimeout(function() {\n",
       "                var nbb_cell_id = 50;\n",
       "                var nbb_unformatted_code = \"for c in range(3,11):\\n    gauss = GaussianMixture(n_components=c, random_state = 13)\\n    clusters = gauss.fit_predict(X_pca)\\n    print(\\n        \\\"The Silhouette Score for \\\"\\n        + str(c)\\n        + \\\" clusters is:\\\"\\n        + str(metrics.silhouette_score(X_pca, clusters, metric=\\\"euclidean\\\"))\\n    )\";\n",
       "                var nbb_formatted_code = \"for c in range(3, 11):\\n    gauss = GaussianMixture(n_components=c, random_state=13)\\n    clusters = gauss.fit_predict(X_pca)\\n    print(\\n        \\\"The Silhouette Score for \\\"\\n        + str(c)\\n        + \\\" clusters is:\\\"\\n        + str(metrics.silhouette_score(X_pca, clusters, metric=\\\"euclidean\\\"))\\n    )\";\n",
       "                var nbb_cells = Jupyter.notebook.get_cells();\n",
       "                for (var i = 0; i < nbb_cells.length; ++i) {\n",
       "                    if (nbb_cells[i].input_prompt_number == nbb_cell_id) {\n",
       "                        if (nbb_cells[i].get_text() == nbb_unformatted_code) {\n",
       "                             nbb_cells[i].set_text(nbb_formatted_code);\n",
       "                        }\n",
       "                        break;\n",
       "                    }\n",
       "                }\n",
       "            }, 500);\n",
       "            "
      ],
      "text/plain": [
       "<IPython.core.display.Javascript object>"
      ]
     },
     "metadata": {},
     "output_type": "display_data"
    },
    {
     "data": {
      "application/javascript": [
       "\n",
       "            setTimeout(function() {\n",
       "                var nbb_cell_id = 50;\n",
       "                var nbb_unformatted_code = \"for c in range(3,11):\\n    gauss = GaussianMixture(n_components=c, random_state = 13)\\n    clusters = gauss.fit_predict(X_pca)\\n    print(\\n        \\\"The Silhouette Score for \\\"\\n        + str(c)\\n        + \\\" clusters is:\\\"\\n        + str(metrics.silhouette_score(X_pca, clusters, metric=\\\"euclidean\\\"))\\n    )\";\n",
       "                var nbb_formatted_code = \"for c in range(3, 11):\\n    gauss = GaussianMixture(n_components=c, random_state=13)\\n    clusters = gauss.fit_predict(X_pca)\\n    print(\\n        \\\"The Silhouette Score for \\\"\\n        + str(c)\\n        + \\\" clusters is:\\\"\\n        + str(metrics.silhouette_score(X_pca, clusters, metric=\\\"euclidean\\\"))\\n    )\";\n",
       "                var nbb_cells = Jupyter.notebook.get_cells();\n",
       "                for (var i = 0; i < nbb_cells.length; ++i) {\n",
       "                    if (nbb_cells[i].input_prompt_number == nbb_cell_id) {\n",
       "                        if (nbb_cells[i].get_text() == nbb_unformatted_code) {\n",
       "                             nbb_cells[i].set_text(nbb_formatted_code);\n",
       "                        }\n",
       "                        break;\n",
       "                    }\n",
       "                }\n",
       "            }, 500);\n",
       "            "
      ],
      "text/plain": [
       "<IPython.core.display.Javascript object>"
      ]
     },
     "metadata": {},
     "output_type": "display_data"
    },
    {
     "data": {
      "application/javascript": [
       "\n",
       "            setTimeout(function() {\n",
       "                var nbb_cell_id = 50;\n",
       "                var nbb_unformatted_code = \"for c in range(3,11):\\n    gauss = GaussianMixture(n_components=c, random_state = 13)\\n    clusters = gauss.fit_predict(X_pca)\\n    print(\\n        \\\"The Silhouette Score for \\\"\\n        + str(c)\\n        + \\\" clusters is:\\\"\\n        + str(metrics.silhouette_score(X_pca, clusters, metric=\\\"euclidean\\\"))\\n    )\";\n",
       "                var nbb_formatted_code = \"for c in range(3, 11):\\n    gauss = GaussianMixture(n_components=c, random_state=13)\\n    clusters = gauss.fit_predict(X_pca)\\n    print(\\n        \\\"The Silhouette Score for \\\"\\n        + str(c)\\n        + \\\" clusters is:\\\"\\n        + str(metrics.silhouette_score(X_pca, clusters, metric=\\\"euclidean\\\"))\\n    )\";\n",
       "                var nbb_cells = Jupyter.notebook.get_cells();\n",
       "                for (var i = 0; i < nbb_cells.length; ++i) {\n",
       "                    if (nbb_cells[i].input_prompt_number == nbb_cell_id) {\n",
       "                        if (nbb_cells[i].get_text() == nbb_unformatted_code) {\n",
       "                             nbb_cells[i].set_text(nbb_formatted_code);\n",
       "                        }\n",
       "                        break;\n",
       "                    }\n",
       "                }\n",
       "            }, 500);\n",
       "            "
      ],
      "text/plain": [
       "<IPython.core.display.Javascript object>"
      ]
     },
     "metadata": {},
     "output_type": "display_data"
    },
    {
     "data": {
      "application/javascript": [
       "\n",
       "            setTimeout(function() {\n",
       "                var nbb_cell_id = 50;\n",
       "                var nbb_unformatted_code = \"for c in range(3,11):\\n    gauss = GaussianMixture(n_components=c, random_state = 13)\\n    clusters = gauss.fit_predict(X_pca)\\n    print(\\n        \\\"The Silhouette Score for \\\"\\n        + str(c)\\n        + \\\" clusters is:\\\"\\n        + str(metrics.silhouette_score(X_pca, clusters, metric=\\\"euclidean\\\"))\\n    )\";\n",
       "                var nbb_formatted_code = \"for c in range(3, 11):\\n    gauss = GaussianMixture(n_components=c, random_state=13)\\n    clusters = gauss.fit_predict(X_pca)\\n    print(\\n        \\\"The Silhouette Score for \\\"\\n        + str(c)\\n        + \\\" clusters is:\\\"\\n        + str(metrics.silhouette_score(X_pca, clusters, metric=\\\"euclidean\\\"))\\n    )\";\n",
       "                var nbb_cells = Jupyter.notebook.get_cells();\n",
       "                for (var i = 0; i < nbb_cells.length; ++i) {\n",
       "                    if (nbb_cells[i].input_prompt_number == nbb_cell_id) {\n",
       "                        if (nbb_cells[i].get_text() == nbb_unformatted_code) {\n",
       "                             nbb_cells[i].set_text(nbb_formatted_code);\n",
       "                        }\n",
       "                        break;\n",
       "                    }\n",
       "                }\n",
       "            }, 500);\n",
       "            "
      ],
      "text/plain": [
       "<IPython.core.display.Javascript object>"
      ]
     },
     "metadata": {},
     "output_type": "display_data"
    }
   ],
   "source": [
    "for c in range(3, 11):\n",
    "    gauss = GaussianMixture(n_components=c, random_state=13)\n",
    "    clusters = gauss.fit_predict(X_pca)\n",
    "    print(\n",
    "        \"The Silhouette Score for \"\n",
    "        + str(c)\n",
    "        + \" clusters is:\"\n",
    "        + str(metrics.silhouette_score(X_pca, clusters, metric=\"euclidean\"))\n",
    "    )"
   ]
  },
  {
   "cell_type": "markdown",
   "metadata": {},
   "source": []
  }
 ],
 "metadata": {
  "kernelspec": {
   "display_name": "Python 3",
   "language": "python",
   "name": "python3"
  },
  "language_info": {
   "codemirror_mode": {
    "name": "ipython",
    "version": 3
   },
   "file_extension": ".py",
   "mimetype": "text/x-python",
   "name": "python",
   "nbconvert_exporter": "python",
   "pygments_lexer": "ipython3",
   "version": "3.7.6"
  }
 },
 "nbformat": 4,
 "nbformat_minor": 4
}
